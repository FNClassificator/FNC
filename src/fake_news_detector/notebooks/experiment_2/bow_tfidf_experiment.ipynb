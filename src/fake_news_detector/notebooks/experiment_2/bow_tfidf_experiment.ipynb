{
 "cells": [
  {
   "cell_type": "markdown",
   "metadata": {},
   "source": [
    "# Experiment 2: BOW/TFIDF"
   ]
  },
  {
   "cell_type": "code",
   "execution_count": 1,
   "metadata": {},
   "outputs": [],
   "source": [
    "# Load for Jupyter Notebook\n",
    "import warnings\n",
    "warnings.filterwarnings('ignore')\n",
    "import sys\n",
    "sys.path.append('/home/elenaruiz/Documents/FNC')\n",
    "import pandas as pd \n",
    "import numpy as np \n",
    "from src.utils import io\n",
    "\n",
    "from src.fake_news_detector.core.encoders import bow as b\n",
    "from src.fake_news_detector.core.encoders import tfidf as t"
   ]
  },
  {
   "cell_type": "markdown",
   "metadata": {},
   "source": [
    "## 1. Import `dataset_raw.json`"
   ]
  },
  {
   "cell_type": "code",
   "execution_count": 2,
   "metadata": {},
   "outputs": [],
   "source": [
    "articles = io.read_json_file('/home/elenaruiz/Documents/FNC/src/data/dataset_content.json')\n",
    "df = pd.DataFrame(data=articles['articles']) # Put in pandas dataframe"
   ]
  },
  {
   "cell_type": "code",
   "execution_count": 3,
   "metadata": {},
   "outputs": [
    {
     "data": {
      "text/html": [
       "<div>\n",
       "<style scoped>\n",
       "    .dataframe tbody tr th:only-of-type {\n",
       "        vertical-align: middle;\n",
       "    }\n",
       "\n",
       "    .dataframe tbody tr th {\n",
       "        vertical-align: top;\n",
       "    }\n",
       "\n",
       "    .dataframe thead th {\n",
       "        text-align: right;\n",
       "    }\n",
       "</style>\n",
       "<table border=\"1\" class=\"dataframe\">\n",
       "  <thead>\n",
       "    <tr style=\"text-align: right;\">\n",
       "      <th></th>\n",
       "      <th>all_word</th>\n",
       "      <th>title_word</th>\n",
       "      <th>subtitle_word</th>\n",
       "      <th>negative_words</th>\n",
       "      <th>positive_words</th>\n",
       "      <th>adjective_words</th>\n",
       "      <th>common_noun_words</th>\n",
       "      <th>verb_words</th>\n",
       "      <th>label</th>\n",
       "    </tr>\n",
       "  </thead>\n",
       "  <tbody>\n",
       "    <tr>\n",
       "      <th>0</th>\n",
       "      <td>[find, corpse, vegetarian, restaurant, Bangkok...</td>\n",
       "      <td>[find, corpse, vegetarian, restaurant, Bangkok]</td>\n",
       "      <td>[find, make, speculate, international, media, ...</td>\n",
       "      <td>[corpse, kill, fire, complain, deny, victim, v...</td>\n",
       "      <td>[like]</td>\n",
       "      <td>[vegetarian, make, speculate, international, h...</td>\n",
       "      <td>[corpse, restaurant, Bangkok, media, establish...</td>\n",
       "      <td>[find, serve, clarify, kill, collect, complain...</td>\n",
       "      <td>1</td>\n",
       "    </tr>\n",
       "    <tr>\n",
       "      <th>1</th>\n",
       "      <td>[switzerland, warn, authorize, extradition, po...</td>\n",
       "      <td>[switzerland, warn, authorize, extradition, po...</td>\n",
       "      <td>[spokesman, Swiss, government, clarify, case, ...</td>\n",
       "      <td>[stress, offences, offences, accuse, argue, pe...</td>\n",
       "      <td>[Justice, like, Supreme, fair, perfectly]</td>\n",
       "      <td>[extradition, political, Swiss, priori, legal,...</td>\n",
       "      <td>[switzerland, warn, crimes, A, spokesman, gove...</td>\n",
       "      <td>[authorize, analyze, say, seem, link, A, add, ...</td>\n",
       "      <td>1</td>\n",
       "    </tr>\n",
       "    <tr>\n",
       "      <th>2</th>\n",
       "      <td>[navarre, censor, Songs, Amaral, Shakira, song...</td>\n",
       "      <td>[navarre, censor, Songs, Amaral, Shakira, song...</td>\n",
       "      <td>[may, use, school]</td>\n",
       "      <td>[censor, violence, ban, bad, fight, shit]</td>\n",
       "      <td>[promote, great, hope, promote, like, affectio...</td>\n",
       "      <td>[navarre, educational, decide, several, great,...</td>\n",
       "      <td>[censor, Songs, Amaral, Shakira, song, Madman,...</td>\n",
       "      <td>[use, find, song, give, hope, promote, center,...</td>\n",
       "      <td>1</td>\n",
       "    </tr>\n",
       "    <tr>\n",
       "      <th>3</th>\n",
       "      <td>[woman, pretend, blind, years, greet, people, ...</td>\n",
       "      <td>[woman, pretend, blind, years, greet, people]</td>\n",
       "      <td>[truth, discover]</td>\n",
       "      <td>[blind, blind, injury, blind, avoid]</td>\n",
       "      <td>[greet, truth, friends, truth, greet, justice]</td>\n",
       "      <td>[greet, discover, Spanish, social, avoid, many...</td>\n",
       "      <td>[woman, years, people, Carmen, Jiménez, family...</td>\n",
       "      <td>[pretend, truth, tell, tire, see, stand, say, ...</td>\n",
       "      <td>1</td>\n",
       "    </tr>\n",
       "    <tr>\n",
       "      <th>4</th>\n",
       "      <td>[arrested, ejaculate, boss, coffee, last, four...</td>\n",
       "      <td>[arrested, ejaculate, boss, coffee, last, four...</td>\n",
       "      <td>[recognize, action, discussion]</td>\n",
       "      <td>[arrested, detain, arrest, prison, abuse]</td>\n",
       "      <td>[United, strong, superior, proud]</td>\n",
       "      <td>[ejaculate, last, unveil, despicable, strong, ...</td>\n",
       "      <td>[boss, coffee, years, action, discussion, Lewi...</td>\n",
       "      <td>[arrested, recognize, detain, ejaculate, bring...</td>\n",
       "      <td>1</td>\n",
       "    </tr>\n",
       "  </tbody>\n",
       "</table>\n",
       "</div>"
      ],
      "text/plain": [
       "                                            all_word  \\\n",
       "0  [find, corpse, vegetarian, restaurant, Bangkok...   \n",
       "1  [switzerland, warn, authorize, extradition, po...   \n",
       "2  [navarre, censor, Songs, Amaral, Shakira, song...   \n",
       "3  [woman, pretend, blind, years, greet, people, ...   \n",
       "4  [arrested, ejaculate, boss, coffee, last, four...   \n",
       "\n",
       "                                          title_word  \\\n",
       "0    [find, corpse, vegetarian, restaurant, Bangkok]   \n",
       "1  [switzerland, warn, authorize, extradition, po...   \n",
       "2  [navarre, censor, Songs, Amaral, Shakira, song...   \n",
       "3      [woman, pretend, blind, years, greet, people]   \n",
       "4  [arrested, ejaculate, boss, coffee, last, four...   \n",
       "\n",
       "                                       subtitle_word  \\\n",
       "0  [find, make, speculate, international, media, ...   \n",
       "1  [spokesman, Swiss, government, clarify, case, ...   \n",
       "2                                 [may, use, school]   \n",
       "3                                  [truth, discover]   \n",
       "4                    [recognize, action, discussion]   \n",
       "\n",
       "                                      negative_words  \\\n",
       "0  [corpse, kill, fire, complain, deny, victim, v...   \n",
       "1  [stress, offences, offences, accuse, argue, pe...   \n",
       "2          [censor, violence, ban, bad, fight, shit]   \n",
       "3               [blind, blind, injury, blind, avoid]   \n",
       "4          [arrested, detain, arrest, prison, abuse]   \n",
       "\n",
       "                                      positive_words  \\\n",
       "0                                             [like]   \n",
       "1          [Justice, like, Supreme, fair, perfectly]   \n",
       "2  [promote, great, hope, promote, like, affectio...   \n",
       "3     [greet, truth, friends, truth, greet, justice]   \n",
       "4                  [United, strong, superior, proud]   \n",
       "\n",
       "                                     adjective_words  \\\n",
       "0  [vegetarian, make, speculate, international, h...   \n",
       "1  [extradition, political, Swiss, priori, legal,...   \n",
       "2  [navarre, educational, decide, several, great,...   \n",
       "3  [greet, discover, Spanish, social, avoid, many...   \n",
       "4  [ejaculate, last, unveil, despicable, strong, ...   \n",
       "\n",
       "                                   common_noun_words  \\\n",
       "0  [corpse, restaurant, Bangkok, media, establish...   \n",
       "1  [switzerland, warn, crimes, A, spokesman, gove...   \n",
       "2  [censor, Songs, Amaral, Shakira, song, Madman,...   \n",
       "3  [woman, years, people, Carmen, Jiménez, family...   \n",
       "4  [boss, coffee, years, action, discussion, Lewi...   \n",
       "\n",
       "                                          verb_words  label  \n",
       "0  [find, serve, clarify, kill, collect, complain...      1  \n",
       "1  [authorize, analyze, say, seem, link, A, add, ...      1  \n",
       "2  [use, find, song, give, hope, promote, center,...      1  \n",
       "3  [pretend, truth, tell, tire, see, stand, say, ...      1  \n",
       "4  [arrested, recognize, detain, ejaculate, bring...      1  "
      ]
     },
     "execution_count": 3,
     "metadata": {},
     "output_type": "execute_result"
    }
   ],
   "source": [
    "# Get useful info from our dataset:\n",
    "dataset = pd.DataFrame()\n",
    "list_f = ['all_word', 'title_word', 'subtitle_word', 'negative_words','positive_words', 'adjective_words', 'common_noun_words', 'verb_words']\n",
    "dataset = df[list_f]\n",
    "dataset['label'] = df['fake']*1\n",
    "dataset.head()"
   ]
  },
  {
   "cell_type": "markdown",
   "metadata": {},
   "source": [
    "## 2. Dictionary creation and word vectorization"
   ]
  },
  {
   "cell_type": "code",
   "execution_count": 4,
   "metadata": {},
   "outputs": [],
   "source": [
    "def join_lists(dataset, word_lists):\n",
    "    result = []\n",
    "    for _, row in dataset.iterrows():\n",
    "        text_join = \"\"\n",
    "        for feature in word_lists:\n",
    "            doc_list = row[feature]\n",
    "            text_join += ' '.join(doc_list)\n",
    "        result.append(text_join)\n",
    "    return result  "
   ]
  },
  {
   "cell_type": "code",
   "execution_count": 5,
   "metadata": {},
   "outputs": [
    {
     "data": {
      "text/plain": [
       "0    find corpse vegetarian restaurant Bangkok find...\n",
       "1    switzerland warn authorize extradition politic...\n",
       "2    navarre censor Songs Amaral Shakira song Madma...\n",
       "3    woman pretend blind years greet people Now tru...\n",
       "4    arrested ejaculate boss coffee last four years...\n",
       "Name: all_joined, dtype: object"
      ]
     },
     "execution_count": 5,
     "metadata": {},
     "output_type": "execute_result"
    }
   ],
   "source": [
    "dataset['all_joined'] = join_lists(dataset, ['all_word'])\n",
    "dataset['all_joined'].head()"
   ]
  },
  {
   "cell_type": "code",
   "execution_count": 6,
   "metadata": {},
   "outputs": [],
   "source": [
    "from sklearn.feature_extraction.text import CountVectorizer\n",
    "from sklearn.feature_extraction.text import TfidfTransformer\n",
    "from sklearn.model_selection import train_test_split\n",
    "df_train, df_test = train_test_split(dataset, test_size=0.2, random_state=42)"
   ]
  },
  {
   "cell_type": "markdown",
   "metadata": {},
   "source": [
    "### 2.1 TF-IDF for all text"
   ]
  },
  {
   "cell_type": "code",
   "execution_count": 7,
   "metadata": {},
   "outputs": [],
   "source": [
    "# VARIABLES\n",
    "X_train = df_train['all_joined'].values\n",
    "Y_train = df_train['label'].values\n",
    "X_test = df_test['all_joined'].values\n",
    "Y_test = df_test['label'].values"
   ]
  },
  {
   "cell_type": "code",
   "execution_count": 8,
   "metadata": {},
   "outputs": [
    {
     "data": {
      "text/plain": [
       "(109, 5817)"
      ]
     },
     "execution_count": 8,
     "metadata": {},
     "output_type": "execute_result"
    }
   ],
   "source": [
    "cv = CountVectorizer()\n",
    "X_train_counts = cv.fit_transform(X_train)\n",
    "X_train_counts.shape"
   ]
  },
  {
   "cell_type": "code",
   "execution_count": 9,
   "metadata": {},
   "outputs": [
    {
     "data": {
      "text/plain": [
       "(109, 5817)"
      ]
     },
     "execution_count": 9,
     "metadata": {},
     "output_type": "execute_result"
    }
   ],
   "source": [
    "tf_transformer = TfidfTransformer(use_idf=True).fit(X_train_counts)\n",
    "X_train_tf = tf_transformer.transform(X_train_counts)\n",
    "X_train_tf.shape"
   ]
  },
  {
   "cell_type": "markdown",
   "metadata": {},
   "source": [
    "### 2.2 TF-IDF for sentiment features"
   ]
  },
  {
   "cell_type": "code",
   "execution_count": 10,
   "metadata": {},
   "outputs": [],
   "source": [
    "X_train_sent = join_lists(df_train, ['positive_words', 'negative_words'])\n",
    "Y_train = df_train['label'].values\n",
    "X_test_sent = join_lists(df_test, ['positive_words', 'negative_words'])\n",
    "Y_test = df_test['label'].values"
   ]
  },
  {
   "cell_type": "code",
   "execution_count": 11,
   "metadata": {},
   "outputs": [
    {
     "data": {
      "text/plain": [
       "(109, 718)"
      ]
     },
     "execution_count": 11,
     "metadata": {},
     "output_type": "execute_result"
    }
   ],
   "source": [
    "cv_sent = CountVectorizer()\n",
    "X_train_counts_sent = cv_sent.fit_transform(X_train_sent)\n",
    "X_train_counts_sent.shape"
   ]
  },
  {
   "cell_type": "code",
   "execution_count": 12,
   "metadata": {},
   "outputs": [
    {
     "data": {
      "text/plain": [
       "(109, 718)"
      ]
     },
     "execution_count": 12,
     "metadata": {},
     "output_type": "execute_result"
    }
   ],
   "source": [
    "tf_transformer_sent = TfidfTransformer(use_idf=True).fit(X_train_counts_sent)\n",
    "X_train_tf_sent = tf_transformer_sent.transform(X_train_counts_sent)\n",
    "X_train_tf_sent.shape"
   ]
  },
  {
   "cell_type": "markdown",
   "metadata": {},
   "source": [
    "### 2.3 TF-IDF withoun conjuntion and preposition words"
   ]
  },
  {
   "cell_type": "code",
   "execution_count": 13,
   "metadata": {},
   "outputs": [],
   "source": [
    "label_list = ['adjective_words', 'common_noun_words', 'verb_words']\n",
    "X_train_word = join_lists(df_train, label_list)\n",
    "Y_train = df_train['label'].values\n",
    "X_test_word = join_lists(df_test, label_list)\n",
    "Y_test = df_test['label'].values"
   ]
  },
  {
   "cell_type": "code",
   "execution_count": 14,
   "metadata": {},
   "outputs": [
    {
     "data": {
      "text/plain": [
       "(109, 718)"
      ]
     },
     "execution_count": 14,
     "metadata": {},
     "output_type": "execute_result"
    }
   ],
   "source": [
    "cv_word = CountVectorizer()\n",
    "X_train_counts_word = cv_word.fit_transform(X_train_sent)\n",
    "X_train_counts_word.shape"
   ]
  },
  {
   "cell_type": "code",
   "execution_count": 15,
   "metadata": {},
   "outputs": [
    {
     "data": {
      "text/plain": [
       "(109, 718)"
      ]
     },
     "execution_count": 15,
     "metadata": {},
     "output_type": "execute_result"
    }
   ],
   "source": [
    "tf_transformer_word = TfidfTransformer(use_idf=True).fit(X_train_counts_word)\n",
    "X_train_tf_word = tf_transformer_word.transform(X_train_counts_word)\n",
    "X_train_tf_word.shape"
   ]
  },
  {
   "cell_type": "markdown",
   "metadata": {},
   "source": [
    "### 2.3 TF-IDF title + subtitle"
   ]
  },
  {
   "cell_type": "code",
   "execution_count": 16,
   "metadata": {},
   "outputs": [],
   "source": [
    "label_list = ['title_word', 'subtitle_word']\n",
    "X_train_tnst = join_lists(df_train, label_list)\n",
    "Y_train = df_train['label'].values\n",
    "X_test_tnst = join_lists(df_test, label_list)\n",
    "Y_test = df_test['label'].values"
   ]
  },
  {
   "cell_type": "code",
   "execution_count": 17,
   "metadata": {},
   "outputs": [
    {
     "data": {
      "text/plain": [
       "(109, 718)"
      ]
     },
     "execution_count": 17,
     "metadata": {},
     "output_type": "execute_result"
    }
   ],
   "source": [
    "cv_tnst = CountVectorizer()\n",
    "X_train_counts_tnst = cv_tnst.fit_transform(X_train_sent)\n",
    "X_train_counts_tnst.shape"
   ]
  },
  {
   "cell_type": "code",
   "execution_count": 18,
   "metadata": {},
   "outputs": [
    {
     "data": {
      "text/plain": [
       "(109, 718)"
      ]
     },
     "execution_count": 18,
     "metadata": {},
     "output_type": "execute_result"
    }
   ],
   "source": [
    "tf_transformer_tnst = TfidfTransformer(use_idf=True).fit(X_train_counts_word)\n",
    "X_train_tf_tnst = tf_transformer_tnst.transform(X_train_counts_tnst)\n",
    "X_train_tf_tnst.shape"
   ]
  },
  {
   "cell_type": "markdown",
   "metadata": {},
   "source": [
    "## 3. Classification"
   ]
  },
  {
   "cell_type": "code",
   "execution_count": 19,
   "metadata": {},
   "outputs": [],
   "source": [
    "from sklearn.metrics import accuracy_score\n",
    "from sklearn import svm\n",
    "from sklearn.model_selection import GridSearchCV\n",
    "from src.fake_news_detector.core.classificators import SupportVectorMachine as s\n",
    "from src.fake_news_detector.core.classificators import helpers"
   ]
  },
  {
   "cell_type": "code",
   "execution_count": 20,
   "metadata": {},
   "outputs": [],
   "source": [
    "def svc_param_selection(X, y, nfolds, kernel):\n",
    "    Cs = [0.001, 0.01, 0.1, 1, 10]\n",
    "    gammas = [0.001, 0.01, 0.1, 1]\n",
    "    param_grid = {'C': Cs, 'gamma' : gammas}\n",
    "    grid_search = GridSearchCV(svm.SVC(kernel=kernel), param_grid, cv=nfolds)\n",
    "    grid_search.fit(X, y)\n",
    "    grid_search.best_params_\n",
    "    return grid_search.best_params_"
   ]
  },
  {
   "cell_type": "markdown",
   "metadata": {},
   "source": [
    "### 3.1 TF-IDF all text"
   ]
  },
  {
   "cell_type": "markdown",
   "metadata": {},
   "source": [
    "#### 3.1.1 Tranform test data"
   ]
  },
  {
   "cell_type": "code",
   "execution_count": 21,
   "metadata": {},
   "outputs": [
    {
     "data": {
      "text/plain": [
       "(28, 5817)"
      ]
     },
     "execution_count": 21,
     "metadata": {},
     "output_type": "execute_result"
    }
   ],
   "source": [
    "X_test_counts = cv.transform(X_test)\n",
    "X_test_tf = tf_transformer.transform(X_test_counts)\n",
    "X_test_tf.shape"
   ]
  },
  {
   "cell_type": "markdown",
   "metadata": {},
   "source": [
    "#### 3.1.2 Search best parameters for SVC models"
   ]
  },
  {
   "cell_type": "code",
   "execution_count": 22,
   "metadata": {},
   "outputs": [
    {
     "name": "stderr",
     "output_type": "stream",
     "text": [
      "/home/elenaruiz/Documents/FNC/env/lib/python3.6/site-packages/sklearn/model_selection/_search.py:841: DeprecationWarning: The default of the `iid` parameter will change from True to False in version 0.22 and will be removed in 0.24. This will change numeric results when test-set sizes are unequal.\n",
      "  DeprecationWarning)\n"
     ]
    },
    {
     "name": "stdout",
     "output_type": "stream",
     "text": [
      "For rbf: {'C': 10, 'gamma': 0.1}\n"
     ]
    },
    {
     "name": "stderr",
     "output_type": "stream",
     "text": [
      "/home/elenaruiz/Documents/FNC/env/lib/python3.6/site-packages/sklearn/model_selection/_search.py:841: DeprecationWarning: The default of the `iid` parameter will change from True to False in version 0.22 and will be removed in 0.24. This will change numeric results when test-set sizes are unequal.\n",
      "  DeprecationWarning)\n"
     ]
    },
    {
     "name": "stdout",
     "output_type": "stream",
     "text": [
      "For linear: {'C': 10, 'gamma': 0.001}\n",
      "For poly: {'C': 10, 'gamma': 1}\n",
      "For sigmoid: {'C': 10, 'gamma': 1}\n"
     ]
    },
    {
     "name": "stderr",
     "output_type": "stream",
     "text": [
      "/home/elenaruiz/Documents/FNC/env/lib/python3.6/site-packages/sklearn/model_selection/_search.py:841: DeprecationWarning: The default of the `iid` parameter will change from True to False in version 0.22 and will be removed in 0.24. This will change numeric results when test-set sizes are unequal.\n",
      "  DeprecationWarning)\n"
     ]
    }
   ],
   "source": [
    "print('For rbf:', svc_param_selection(X_train_tf, Y_train, 2, 'rbf'))\n",
    "print('For linear:', svc_param_selection(X_train_tf, Y_train, 2, 'linear'))\n",
    "print('For poly:', svc_param_selection(X_train_tf, Y_train, 2, 'poly'))\n",
    "print('For sigmoid:', svc_param_selection(X_train_tf, Y_train, 2, 'sigmoid'))"
   ]
  },
  {
   "cell_type": "markdown",
   "metadata": {},
   "source": [
    "#### 3.1.3 Train models"
   ]
  },
  {
   "cell_type": "code",
   "execution_count": 23,
   "metadata": {},
   "outputs": [],
   "source": [
    "models = {}\n",
    "models['rbf'] = svm.SVC(kernel='rbf', C= 10, gamma=0.1)\n",
    "models['linear']  = svm.SVC(kernel='linear', C= 10, gamma=0.001)\n",
    "models['poly']  = svm.SVC(kernel='poly', C= 10, gamma=1)\n",
    "models['sigmoid'] = svm.SVC(kernel='sigmoid', C= 10, gamma=1)"
   ]
  },
  {
   "cell_type": "code",
   "execution_count": 24,
   "metadata": {},
   "outputs": [
    {
     "name": "stdout",
     "output_type": "stream",
     "text": [
      "For model rbf\n",
      "Training score: 0.9908256880733946. Test score: 0.6875\n",
      "For model linear\n",
      "Training score: 0.9908256880733946. Test score: 0.6875\n",
      "For model poly\n",
      "Training score: 0.9908256880733946. Test score: 0.4642857142857143\n",
      "For model sigmoid\n",
      "Training score: 0.9908256880733946. Test score: 0.6875\n"
     ]
    }
   ],
   "source": [
    "scores = s.run_models(models, X_train_tf, Y_train, X_test_tf, Y_test)\n",
    "for model in scores:\n",
    "    print('For model', model)\n",
    "    print('Training score: {}. Test score: {}'.format(scores[model]['train'],scores[model]['test']))"
   ]
  },
  {
   "cell_type": "markdown",
   "metadata": {},
   "source": [
    "### 3.1 TF-IDF positive and negative"
   ]
  },
  {
   "cell_type": "markdown",
   "metadata": {},
   "source": [
    "#### 3.1.1 Tranform test data"
   ]
  },
  {
   "cell_type": "code",
   "execution_count": 25,
   "metadata": {},
   "outputs": [
    {
     "data": {
      "text/plain": [
       "(28, 718)"
      ]
     },
     "execution_count": 25,
     "metadata": {},
     "output_type": "execute_result"
    }
   ],
   "source": [
    "X_test_counts_sent = cv_sent.transform(X_test_sent)\n",
    "X_test_tf_sent = tf_transformer_sent.transform(X_test_counts_sent)\n",
    "X_test_tf_sent.shape"
   ]
  },
  {
   "cell_type": "markdown",
   "metadata": {},
   "source": [
    "#### 3.1.2 Search best parameters for SVC models"
   ]
  },
  {
   "cell_type": "code",
   "execution_count": 26,
   "metadata": {},
   "outputs": [
    {
     "name": "stderr",
     "output_type": "stream",
     "text": [
      "/home/elenaruiz/Documents/FNC/env/lib/python3.6/site-packages/sklearn/model_selection/_search.py:841: DeprecationWarning: The default of the `iid` parameter will change from True to False in version 0.22 and will be removed in 0.24. This will change numeric results when test-set sizes are unequal.\n",
      "  DeprecationWarning)\n"
     ]
    },
    {
     "name": "stdout",
     "output_type": "stream",
     "text": [
      "For rbf: {'C': 10, 'gamma': 1}\n"
     ]
    },
    {
     "name": "stderr",
     "output_type": "stream",
     "text": [
      "/home/elenaruiz/Documents/FNC/env/lib/python3.6/site-packages/sklearn/model_selection/_search.py:841: DeprecationWarning: The default of the `iid` parameter will change from True to False in version 0.22 and will be removed in 0.24. This will change numeric results when test-set sizes are unequal.\n",
      "  DeprecationWarning)\n"
     ]
    },
    {
     "name": "stdout",
     "output_type": "stream",
     "text": [
      "For linear: {'C': 1, 'gamma': 0.001}\n",
      "For poly: {'C': 10, 'gamma': 1}\n",
      "For sigmoid: {'C': 10, 'gamma': 0.1}\n"
     ]
    }
   ],
   "source": [
    "print('For rbf:', svc_param_selection(X_train_tf_sent, Y_train, 2, 'rbf'))\n",
    "print('For linear:', svc_param_selection(X_train_tf_sent, Y_train, 2, 'linear'))\n",
    "print('For poly:', svc_param_selection(X_train_tf_sent, Y_train, 2, 'poly'))\n",
    "print('For sigmoid:', svc_param_selection(X_train_tf_sent, Y_train, 2, 'sigmoid'))"
   ]
  },
  {
   "cell_type": "code",
   "execution_count": 27,
   "metadata": {},
   "outputs": [],
   "source": [
    "models = {}\n",
    "models['rbf'] = svm.SVC(kernel='rbf', C= 10, gamma=1)\n",
    "models['linear']  = svm.SVC(kernel='linear', C= 1, gamma=0.001)\n",
    "models['poly']  = svm.SVC(kernel='poly', C= 10, gamma=1)\n",
    "models['sigmoid'] = svm.SVC(kernel='sigmoid', C= 10, gamma=0.1)"
   ]
  },
  {
   "cell_type": "code",
   "execution_count": 28,
   "metadata": {},
   "outputs": [
    {
     "name": "stdout",
     "output_type": "stream",
     "text": [
      "For model rbf\n",
      "Training score: 0.9908256880733946. Test score: 0.5625\n",
      "For model linear\n",
      "Training score: 0.9908256880733946. Test score: 0.5294117647058824\n",
      "For model poly\n",
      "Training score: 0.9908256880733946. Test score: 0.48148148148148145\n",
      "For model sigmoid\n",
      "Training score: 0.9908256880733946. Test score: 0.5294117647058824\n"
     ]
    }
   ],
   "source": [
    "scores = s.run_models(models, X_train_tf_sent, Y_train, X_test_tf_sent, Y_test)\n",
    "for model in scores:\n",
    "    print('For model', model)\n",
    "    print('Training score: {}. Test score: {}'.format(scores[model]['train'],scores[model]['test']))"
   ]
  },
  {
   "cell_type": "markdown",
   "metadata": {},
   "source": [
    "### 3.1 TF-IDF verbs +  adjectives + similarity\n"
   ]
  },
  {
   "cell_type": "code",
   "execution_count": 29,
   "metadata": {},
   "outputs": [
    {
     "data": {
      "text/plain": [
       "(28, 718)"
      ]
     },
     "execution_count": 29,
     "metadata": {},
     "output_type": "execute_result"
    }
   ],
   "source": [
    "X_test_counts_word = cv_word.transform(X_test_word)\n",
    "X_test_tf_word = tf_transformer_word.transform(X_test_counts_word)\n",
    "X_test_tf_word.shape"
   ]
  },
  {
   "cell_type": "code",
   "execution_count": 30,
   "metadata": {},
   "outputs": [
    {
     "name": "stderr",
     "output_type": "stream",
     "text": [
      "/home/elenaruiz/Documents/FNC/env/lib/python3.6/site-packages/sklearn/model_selection/_search.py:841: DeprecationWarning: The default of the `iid` parameter will change from True to False in version 0.22 and will be removed in 0.24. This will change numeric results when test-set sizes are unequal.\n",
      "  DeprecationWarning)\n"
     ]
    },
    {
     "name": "stdout",
     "output_type": "stream",
     "text": [
      "For rbf: {'C': 10, 'gamma': 1}\n"
     ]
    },
    {
     "name": "stderr",
     "output_type": "stream",
     "text": [
      "/home/elenaruiz/Documents/FNC/env/lib/python3.6/site-packages/sklearn/model_selection/_search.py:841: DeprecationWarning: The default of the `iid` parameter will change from True to False in version 0.22 and will be removed in 0.24. This will change numeric results when test-set sizes are unequal.\n",
      "  DeprecationWarning)\n"
     ]
    },
    {
     "name": "stdout",
     "output_type": "stream",
     "text": [
      "For linear: {'C': 1, 'gamma': 0.001}\n",
      "For poly: {'C': 10, 'gamma': 1}\n",
      "For sigmoid: {'C': 10, 'gamma': 0.1}\n"
     ]
    }
   ],
   "source": [
    "print('For rbf:', svc_param_selection(X_train_tf_word, Y_train, 2, 'rbf'))\n",
    "print('For linear:', svc_param_selection(X_train_tf_word, Y_train, 2, 'linear'))\n",
    "print('For poly:', svc_param_selection(X_train_tf_word, Y_train, 2, 'poly'))\n",
    "print('For sigmoid:', svc_param_selection(X_train_tf_word, Y_train, 2, 'sigmoid'))"
   ]
  },
  {
   "cell_type": "code",
   "execution_count": 31,
   "metadata": {},
   "outputs": [],
   "source": [
    "models = {}\n",
    "models['rbf'] = svm.SVC(kernel='rbf', C= 10, gamma=1)\n",
    "models['linear']  = svm.SVC(kernel='linear', C= 1, gamma=0.001)\n",
    "models['poly']  = svm.SVC(kernel='poly', C= 10, gamma=1)\n",
    "models['sigmoid'] = svm.SVC(kernel='sigmoid', C= 10, gamma=0.1)"
   ]
  },
  {
   "cell_type": "code",
   "execution_count": 32,
   "metadata": {},
   "outputs": [
    {
     "name": "stdout",
     "output_type": "stream",
     "text": [
      "For model rbf\n",
      "Training score: 0.9908256880733946. Test score: 0.5\n",
      "For model linear\n",
      "Training score: 0.9908256880733946. Test score: 0.5\n",
      "For model poly\n",
      "Training score: 0.9908256880733946. Test score: 0.4642857142857143\n",
      "For model sigmoid\n",
      "Training score: 0.9908256880733946. Test score: 0.5\n"
     ]
    }
   ],
   "source": [
    "scores = s.run_models(models, X_train_tf_word, Y_train, X_test_tf_word, Y_test)\n",
    "for model in scores:\n",
    "    print('For model', model)\n",
    "    print('Training score: {}. Test score: {}'.format(scores[model]['train'],scores[model]['test']))"
   ]
  },
  {
   "cell_type": "markdown",
   "metadata": {},
   "source": [
    "### 3.1 TF-IDF title and subtitle"
   ]
  },
  {
   "cell_type": "code",
   "execution_count": 33,
   "metadata": {},
   "outputs": [
    {
     "data": {
      "text/plain": [
       "(28, 718)"
      ]
     },
     "execution_count": 33,
     "metadata": {},
     "output_type": "execute_result"
    }
   ],
   "source": [
    "X_test_counts_tnst = cv_tnst.transform(X_test_tnst)\n",
    "X_test_tf_tnst = tf_transformer_tnst.transform(X_test_counts_tnst)\n",
    "X_test_tf_tnst.shape"
   ]
  },
  {
   "cell_type": "code",
   "execution_count": 34,
   "metadata": {},
   "outputs": [
    {
     "name": "stderr",
     "output_type": "stream",
     "text": [
      "/home/elenaruiz/Documents/FNC/env/lib/python3.6/site-packages/sklearn/model_selection/_search.py:841: DeprecationWarning: The default of the `iid` parameter will change from True to False in version 0.22 and will be removed in 0.24. This will change numeric results when test-set sizes are unequal.\n",
      "  DeprecationWarning)\n"
     ]
    },
    {
     "name": "stdout",
     "output_type": "stream",
     "text": [
      "For rbf: {'C': 10, 'gamma': 1}\n"
     ]
    },
    {
     "name": "stderr",
     "output_type": "stream",
     "text": [
      "/home/elenaruiz/Documents/FNC/env/lib/python3.6/site-packages/sklearn/model_selection/_search.py:841: DeprecationWarning: The default of the `iid` parameter will change from True to False in version 0.22 and will be removed in 0.24. This will change numeric results when test-set sizes are unequal.\n",
      "  DeprecationWarning)\n"
     ]
    },
    {
     "name": "stdout",
     "output_type": "stream",
     "text": [
      "For linear: {'C': 1, 'gamma': 0.001}\n",
      "For poly: {'C': 10, 'gamma': 1}\n",
      "For sigmoid: {'C': 10, 'gamma': 0.1}\n"
     ]
    }
   ],
   "source": [
    "print('For rbf:', svc_param_selection(X_train_tf_tnst, Y_train, 2, 'rbf'))\n",
    "print('For linear:', svc_param_selection(X_train_tf_tnst, Y_train, 2, 'linear'))\n",
    "print('For poly:', svc_param_selection(X_train_tf_tnst, Y_train, 2, 'poly'))\n",
    "print('For sigmoid:', svc_param_selection(X_train_tf_tnst, Y_train, 2, 'sigmoid'))"
   ]
  },
  {
   "cell_type": "code",
   "execution_count": 35,
   "metadata": {},
   "outputs": [],
   "source": [
    "models = {}\n",
    "models['rbf'] = svm.SVC(kernel='rbf', C= 10, gamma=1)\n",
    "models['linear']  = svm.SVC(kernel='linear', C= 1, gamma=0.001)\n",
    "models['poly']  = svm.SVC(kernel='poly', C= 10, gamma=1)\n",
    "models['sigmoid'] = svm.SVC(kernel='sigmoid', C= 10, gamma=0.1)"
   ]
  },
  {
   "cell_type": "code",
   "execution_count": 36,
   "metadata": {},
   "outputs": [
    {
     "name": "stdout",
     "output_type": "stream",
     "text": [
      "For model rbf\n",
      "Training score: 0.9908256880733946. Test score: 0.5\n",
      "For model linear\n",
      "Training score: 0.9908256880733946. Test score: 0.5\n",
      "For model poly\n",
      "Training score: 0.9908256880733946. Test score: 0.48148148148148145\n",
      "For model sigmoid\n",
      "Training score: 0.9908256880733946. Test score: 0.5\n"
     ]
    }
   ],
   "source": [
    "scores = s.run_models(models, X_train_tf_tnst, Y_train, X_test_tf_tnst, Y_test)\n",
    "for model in scores:\n",
    "    print('For model', model)\n",
    "    print('Training score: {}. Test score: {}'.format(scores[model]['train'],scores[model]['test']))"
   ]
  },
  {
   "cell_type": "code",
   "execution_count": null,
   "metadata": {},
   "outputs": [],
   "source": []
  }
 ],
 "metadata": {
  "kernelspec": {
   "display_name": "Python 3",
   "language": "python",
   "name": "python3"
  },
  "language_info": {
   "codemirror_mode": {
    "name": "ipython",
    "version": 3
   },
   "file_extension": ".py",
   "mimetype": "text/x-python",
   "name": "python",
   "nbconvert_exporter": "python",
   "pygments_lexer": "ipython3",
   "version": "3.6.7"
  }
 },
 "nbformat": 4,
 "nbformat_minor": 2
}
