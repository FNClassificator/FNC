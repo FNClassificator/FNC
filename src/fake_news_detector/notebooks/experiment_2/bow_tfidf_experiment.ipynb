{
 "cells": [
  {
   "cell_type": "markdown",
   "metadata": {},
   "source": [
    "# Experiment 2: BOW/TFIDF"
   ]
  },
  {
   "cell_type": "code",
   "execution_count": 1,
   "metadata": {},
   "outputs": [],
   "source": [
    "# Load for Jupyter Notebook\n",
    "import warnings\n",
    "warnings.filterwarnings('ignore')\n",
    "import sys\n",
    "sys.path.append('/home/elenaruiz/Documents/FNC')\n",
    "import pandas as pd \n",
    "import numpy as np \n",
    "from src.utils import io\n",
    "\n",
    "from src.fake_news_detector.core.encoders import tfidf as t"
   ]
  },
  {
   "cell_type": "markdown",
   "metadata": {},
   "source": [
    "## 1. Import `dataset_raw.json`"
   ]
  },
  {
   "cell_type": "code",
   "execution_count": 2,
   "metadata": {},
   "outputs": [],
   "source": [
    "articles = io.read_json_file('/home/elenaruiz/Documents/FNC/src/data/dataset_content.json')\n",
    "df = pd.DataFrame(data=articles['articles']) # Put in pandas dataframe"
   ]
  },
  {
   "cell_type": "code",
   "execution_count": 3,
   "metadata": {},
   "outputs": [
    {
     "data": {
      "text/html": [
       "<div>\n",
       "<style scoped>\n",
       "    .dataframe tbody tr th:only-of-type {\n",
       "        vertical-align: middle;\n",
       "    }\n",
       "\n",
       "    .dataframe tbody tr th {\n",
       "        vertical-align: top;\n",
       "    }\n",
       "\n",
       "    .dataframe thead th {\n",
       "        text-align: right;\n",
       "    }\n",
       "</style>\n",
       "<table border=\"1\" class=\"dataframe\">\n",
       "  <thead>\n",
       "    <tr style=\"text-align: right;\">\n",
       "      <th></th>\n",
       "      <th>all_word</th>\n",
       "      <th>title_word</th>\n",
       "      <th>subtitle_word</th>\n",
       "      <th>negative_words</th>\n",
       "      <th>positive_words</th>\n",
       "      <th>adjective_words</th>\n",
       "      <th>common_noun_words</th>\n",
       "      <th>verb_words</th>\n",
       "      <th>label</th>\n",
       "    </tr>\n",
       "  </thead>\n",
       "  <tbody>\n",
       "    <tr>\n",
       "      <th>0</th>\n",
       "      <td>[find, corpse, vegetarian, restaurant, Bangkok...</td>\n",
       "      <td>[find, corpse, vegetarian, restaurant, Bangkok]</td>\n",
       "      <td>[find, make, speculate, international, media, ...</td>\n",
       "      <td>[corpse, kill, fire, complain, deny, victim, v...</td>\n",
       "      <td>[like]</td>\n",
       "      <td>[vegetarian, make, speculate, international, h...</td>\n",
       "      <td>[corpse, restaurant, Bangkok, media, establish...</td>\n",
       "      <td>[find, serve, clarify, kill, collect, complain...</td>\n",
       "      <td>1</td>\n",
       "    </tr>\n",
       "    <tr>\n",
       "      <th>1</th>\n",
       "      <td>[switzerland, warn, authorize, extradition, po...</td>\n",
       "      <td>[switzerland, warn, authorize, extradition, po...</td>\n",
       "      <td>[spokesman, Swiss, government, clarify, case, ...</td>\n",
       "      <td>[stress, offences, offences, accuse, argue, pe...</td>\n",
       "      <td>[Justice, like, Supreme, fair, perfectly]</td>\n",
       "      <td>[extradition, political, Swiss, priori, legal,...</td>\n",
       "      <td>[switzerland, warn, crimes, A, spokesman, gove...</td>\n",
       "      <td>[authorize, analyze, say, seem, link, A, add, ...</td>\n",
       "      <td>1</td>\n",
       "    </tr>\n",
       "    <tr>\n",
       "      <th>2</th>\n",
       "      <td>[navarre, censor, Songs, Amaral, Shakira, song...</td>\n",
       "      <td>[navarre, censor, Songs, Amaral, Shakira, song...</td>\n",
       "      <td>[may, use, school]</td>\n",
       "      <td>[censor, violence, ban, bad, fight, shit]</td>\n",
       "      <td>[promote, great, hope, promote, like, affectio...</td>\n",
       "      <td>[navarre, educational, decide, several, great,...</td>\n",
       "      <td>[censor, Songs, Amaral, Shakira, song, Madman,...</td>\n",
       "      <td>[use, find, song, give, hope, promote, center,...</td>\n",
       "      <td>1</td>\n",
       "    </tr>\n",
       "    <tr>\n",
       "      <th>3</th>\n",
       "      <td>[woman, pretend, blind, years, greet, people, ...</td>\n",
       "      <td>[woman, pretend, blind, years, greet, people]</td>\n",
       "      <td>[truth, discover]</td>\n",
       "      <td>[blind, blind, injury, blind, avoid]</td>\n",
       "      <td>[greet, truth, friends, truth, greet, justice]</td>\n",
       "      <td>[greet, discover, Spanish, social, avoid, many...</td>\n",
       "      <td>[woman, years, people, Carmen, Jiménez, family...</td>\n",
       "      <td>[pretend, truth, tell, tire, see, stand, say, ...</td>\n",
       "      <td>1</td>\n",
       "    </tr>\n",
       "    <tr>\n",
       "      <th>4</th>\n",
       "      <td>[arrested, ejaculate, boss, coffee, last, four...</td>\n",
       "      <td>[arrested, ejaculate, boss, coffee, last, four...</td>\n",
       "      <td>[recognize, action, discussion]</td>\n",
       "      <td>[arrested, detain, arrest, prison, abuse]</td>\n",
       "      <td>[United, strong, superior, proud]</td>\n",
       "      <td>[ejaculate, last, unveil, despicable, strong, ...</td>\n",
       "      <td>[boss, coffee, years, action, discussion, Lewi...</td>\n",
       "      <td>[arrested, recognize, detain, ejaculate, bring...</td>\n",
       "      <td>1</td>\n",
       "    </tr>\n",
       "  </tbody>\n",
       "</table>\n",
       "</div>"
      ],
      "text/plain": [
       "                                            all_word  \\\n",
       "0  [find, corpse, vegetarian, restaurant, Bangkok...   \n",
       "1  [switzerland, warn, authorize, extradition, po...   \n",
       "2  [navarre, censor, Songs, Amaral, Shakira, song...   \n",
       "3  [woman, pretend, blind, years, greet, people, ...   \n",
       "4  [arrested, ejaculate, boss, coffee, last, four...   \n",
       "\n",
       "                                          title_word  \\\n",
       "0    [find, corpse, vegetarian, restaurant, Bangkok]   \n",
       "1  [switzerland, warn, authorize, extradition, po...   \n",
       "2  [navarre, censor, Songs, Amaral, Shakira, song...   \n",
       "3      [woman, pretend, blind, years, greet, people]   \n",
       "4  [arrested, ejaculate, boss, coffee, last, four...   \n",
       "\n",
       "                                       subtitle_word  \\\n",
       "0  [find, make, speculate, international, media, ...   \n",
       "1  [spokesman, Swiss, government, clarify, case, ...   \n",
       "2                                 [may, use, school]   \n",
       "3                                  [truth, discover]   \n",
       "4                    [recognize, action, discussion]   \n",
       "\n",
       "                                      negative_words  \\\n",
       "0  [corpse, kill, fire, complain, deny, victim, v...   \n",
       "1  [stress, offences, offences, accuse, argue, pe...   \n",
       "2          [censor, violence, ban, bad, fight, shit]   \n",
       "3               [blind, blind, injury, blind, avoid]   \n",
       "4          [arrested, detain, arrest, prison, abuse]   \n",
       "\n",
       "                                      positive_words  \\\n",
       "0                                             [like]   \n",
       "1          [Justice, like, Supreme, fair, perfectly]   \n",
       "2  [promote, great, hope, promote, like, affectio...   \n",
       "3     [greet, truth, friends, truth, greet, justice]   \n",
       "4                  [United, strong, superior, proud]   \n",
       "\n",
       "                                     adjective_words  \\\n",
       "0  [vegetarian, make, speculate, international, h...   \n",
       "1  [extradition, political, Swiss, priori, legal,...   \n",
       "2  [navarre, educational, decide, several, great,...   \n",
       "3  [greet, discover, Spanish, social, avoid, many...   \n",
       "4  [ejaculate, last, unveil, despicable, strong, ...   \n",
       "\n",
       "                                   common_noun_words  \\\n",
       "0  [corpse, restaurant, Bangkok, media, establish...   \n",
       "1  [switzerland, warn, crimes, A, spokesman, gove...   \n",
       "2  [censor, Songs, Amaral, Shakira, song, Madman,...   \n",
       "3  [woman, years, people, Carmen, Jiménez, family...   \n",
       "4  [boss, coffee, years, action, discussion, Lewi...   \n",
       "\n",
       "                                          verb_words  label  \n",
       "0  [find, serve, clarify, kill, collect, complain...      1  \n",
       "1  [authorize, analyze, say, seem, link, A, add, ...      1  \n",
       "2  [use, find, song, give, hope, promote, center,...      1  \n",
       "3  [pretend, truth, tell, tire, see, stand, say, ...      1  \n",
       "4  [arrested, recognize, detain, ejaculate, bring...      1  "
      ]
     },
     "execution_count": 3,
     "metadata": {},
     "output_type": "execute_result"
    }
   ],
   "source": [
    "# Get useful info from our dataset:\n",
    "dataset = pd.DataFrame()\n",
    "list_f = ['all_word', 'title_word', 'subtitle_word', 'negative_words','positive_words', 'adjective_words', 'common_noun_words', 'verb_words']\n",
    "dataset = df[list_f]\n",
    "dataset['label'] = df['fake']*1\n",
    "dataset.head()"
   ]
  },
  {
   "cell_type": "markdown",
   "metadata": {},
   "source": [
    "## 2. Dictionary creation and word vectorization"
   ]
  },
  {
   "cell_type": "code",
   "execution_count": 4,
   "metadata": {},
   "outputs": [],
   "source": [
    "def join_lists(dataset, word_lists):\n",
    "    result = []\n",
    "    for _, row in dataset.iterrows():\n",
    "        text_join = \"\"\n",
    "        for feature in word_lists:\n",
    "            doc_list = row[feature]\n",
    "            text_join += ' '.join(doc_list)\n",
    "        result.append(text_join)\n",
    "    return result  "
   ]
  },
  {
   "cell_type": "code",
   "execution_count": 5,
   "metadata": {},
   "outputs": [
    {
     "data": {
      "text/plain": [
       "0    find corpse vegetarian restaurant Bangkok find...\n",
       "1    switzerland warn authorize extradition politic...\n",
       "2    navarre censor Songs Amaral Shakira song Madma...\n",
       "3    woman pretend blind years greet people Now tru...\n",
       "4    arrested ejaculate boss coffee last four years...\n",
       "Name: all_joined, dtype: object"
      ]
     },
     "execution_count": 5,
     "metadata": {},
     "output_type": "execute_result"
    }
   ],
   "source": [
    "dataset['all_joined'] = join_lists(dataset, ['all_word'])\n",
    "dataset['all_joined'].head()"
   ]
  },
  {
   "cell_type": "code",
   "execution_count": 6,
   "metadata": {},
   "outputs": [],
   "source": [
    "from sklearn.feature_extraction.text import CountVectorizer\n",
    "from sklearn.feature_extraction.text import TfidfTransformer\n",
    "from sklearn.model_selection import train_test_split\n",
    "df_train, df_test = train_test_split(dataset, test_size=0.2, random_state=42)"
   ]
  },
  {
   "cell_type": "markdown",
   "metadata": {},
   "source": [
    "### 2.1 TF-IDF for all text"
   ]
  },
  {
   "cell_type": "code",
   "execution_count": 7,
   "metadata": {},
   "outputs": [],
   "source": [
    "# VARIABLES\n",
    "X_train = df_train['all_joined'].values\n",
    "Y_train = df_train['label'].values\n",
    "X_test = df_test['all_joined'].values\n",
    "Y_test = df_test['label'].values"
   ]
  },
  {
   "cell_type": "code",
   "execution_count": 8,
   "metadata": {},
   "outputs": [
    {
     "name": "stdout",
     "output_type": "stream",
     "text": [
      "(57, 6713) (52, 6713) (137, 6713)\n"
     ]
    }
   ],
   "source": [
    "# REAL\n",
    "X_train_real = df_train.loc[df_train['label'] == 0]\n",
    "X_train_real = X_train_real['all_joined']\n",
    "\n",
    "X_train_fake = df_train.loc[df_train['label'] == 1]\n",
    "X_train_fake = X_train_fake['all_joined']\n",
    "\n",
    "cv = CountVectorizer()\n",
    "X_train_counts = cv.fit_transform(dataset['all_joined'].values)\n",
    "X_train_counts_real = cv.transform(X_train_real)\n",
    "X_train_counts_fake = cv.transform(X_train_fake)\n",
    "print(X_train_counts_fake.shape, X_train_counts_real.shape, X_train_counts.shape)"
   ]
  },
  {
   "cell_type": "code",
   "execution_count": 9,
   "metadata": {},
   "outputs": [
    {
     "data": {
      "text/plain": [
       "(52, 6713)"
      ]
     },
     "execution_count": 9,
     "metadata": {},
     "output_type": "execute_result"
    }
   ],
   "source": [
    "# FAKE\n",
    "tf_transformer_real = TfidfTransformer(use_idf=True).fit(X_train_counts_real)\n",
    "X_train_tf_real = tf_transformer_real.transform(X_train_counts_real)\n",
    "X_train_tf_real.shape"
   ]
  },
  {
   "cell_type": "code",
   "execution_count": 10,
   "metadata": {},
   "outputs": [
    {
     "data": {
      "text/plain": [
       "(57, 6713)"
      ]
     },
     "execution_count": 10,
     "metadata": {},
     "output_type": "execute_result"
    }
   ],
   "source": [
    "# FAKE\n",
    "tf_transformer_fake = TfidfTransformer(use_idf=True).fit(X_train_counts_fake)\n",
    "X_train_tf_fake = tf_transformer_fake.transform(X_train_counts_fake)\n",
    "X_train_tf_fake.shape\n"
   ]
  },
  {
   "cell_type": "code",
   "execution_count": 11,
   "metadata": {},
   "outputs": [],
   "source": [
    "def extract_topn_from_vector(feature_names, sorted_items, topn=10):\n",
    "    \"\"\"get the feature names and tf-idf score of top n items\"\"\"\n",
    "    \n",
    "    #use only topn items from vector\n",
    "    sorted_items = sorted_items[:topn]\n",
    " \n",
    "    score_vals = []\n",
    "    feature_vals = []\n",
    "    \n",
    "    # word index and corresponding tf-idf score\n",
    "    for idx, score in sorted_items:\n",
    "        \n",
    "        #keep track of feature name and its corresponding score\n",
    "        score_vals.append(round(score, 3))\n",
    "        feature_vals.append(feature_names[idx])\n",
    " \n",
    "    #create a tuples of feature,score\n",
    "    #results = zip(feature_vals,score_vals)\n",
    "    results= {}\n",
    "    for idx in range(len(feature_vals)):\n",
    "        results[feature_vals[idx]]=score_vals[idx]\n",
    "    \n",
    "    return results, feature_vals\n",
    "\n",
    "def sort_coo(coo_matrix):\n",
    "    tuples = zip(coo_matrix.col, coo_matrix.data)\n",
    "    return sorted(tuples, key=lambda x: (x[1], x[0]), reverse=True)"
   ]
  },
  {
   "cell_type": "code",
   "execution_count": 27,
   "metadata": {},
   "outputs": [
    {
     "data": {
      "text/plain": [
       "526"
      ]
     },
     "execution_count": 27,
     "metadata": {},
     "output_type": "execute_result"
    }
   ],
   "source": [
    "sorted_items=sort_coo(X_train_tf_fake.tocoo())\n",
    "feature_names =cv.get_feature_names()\n",
    "results, top_fake_words = extract_topn_from_vector(feature_names, sorted_items, 600)\n",
    "len(results)"
   ]
  },
  {
   "cell_type": "code",
   "execution_count": 28,
   "metadata": {},
   "outputs": [],
   "source": [
    "sorted_items=sort_coo(X_train_tf_real.tocoo())\n",
    "results, top_real_words = extract_topn_from_vector(feature_names, sorted_items, 600)"
   ]
  },
  {
   "cell_type": "code",
   "execution_count": 29,
   "metadata": {},
   "outputs": [],
   "source": [
    "top_real_words_coded = cv.transform([' '.join(top_real_words)])\n",
    "top_fake_words_coded = cv.transform([' '.join(top_fake_words)])\n",
    "df_train['cv_value'] = cv.transform(df_train['all_joined'])\n"
   ]
  },
  {
   "cell_type": "code",
   "execution_count": 30,
   "metadata": {},
   "outputs": [],
   "source": [
    "from sklearn.metrics.pairwise import cosine_similarity as cs\n",
    "\n",
    "def get_cosine_similarity(q1_csc, q2_csc):\n",
    "    cosine_sim = []\n",
    "    for i,j in zip(q1_csc, q2_csc):\n",
    "        sim = cs(i,j)\n",
    "        cosine_sim.append(sim[0][0])\n",
    "    \n",
    "    return cosine_sim\n",
    "    "
   ]
  },
  {
   "cell_type": "code",
   "execution_count": 31,
   "metadata": {},
   "outputs": [],
   "source": [
    "df_train['cos_fake'] = df_train['label']*0.000000000005\n",
    "df_train['cos_real'] = df_train['label']*0.000000000005\n",
    "for index, row in df_train.iterrows():\n",
    "    to_number = cv.transform([row['all_joined']])\n",
    "    cosine_sim_fake = get_cosine_similarity(top_fake_words_coded, to_number)\n",
    "    cosine_sim_real = get_cosine_similarity(top_real_words_coded, to_number)\n",
    "    df_train.at[index,'cos_fake'] = cosine_sim_fake[0]\n",
    "    df_train.at[index,'cos_real'] = cosine_sim_real[0]"
   ]
  },
  {
   "cell_type": "markdown",
   "metadata": {},
   "source": [
    "## 4. Classification"
   ]
  },
  {
   "cell_type": "code",
   "execution_count": 32,
   "metadata": {},
   "outputs": [],
   "source": [
    "from sklearn.metrics import accuracy_score\n",
    "from sklearn import svm\n",
    "from sklearn.model_selection import GridSearchCV\n",
    "from src.fake_news_detector.core.classificators import SupportVectorMachine as s\n",
    "from src.fake_news_detector.core.classificators import helpers"
   ]
  },
  {
   "cell_type": "code",
   "execution_count": 33,
   "metadata": {},
   "outputs": [],
   "source": [
    "def svc_param_selection(X, y, nfolds, kernel):\n",
    "    Cs = [0.001, 0.01, 0.1, 1, 10]\n",
    "    gammas = [0.001, 0.01, 0.1, 1]\n",
    "    param_grid = {'C': Cs, 'gamma' : gammas}\n",
    "    grid_search = GridSearchCV(svm.SVC(kernel=kernel), param_grid, cv=nfolds)\n",
    "    grid_search.fit(X, y)\n",
    "    grid_search.best_params_\n",
    "    return grid_search.best_params_"
   ]
  },
  {
   "cell_type": "markdown",
   "metadata": {},
   "source": [
    "### 3.1 TF-IDF all text"
   ]
  },
  {
   "cell_type": "markdown",
   "metadata": {},
   "source": [
    "#### 3.1.1 Tranform test data"
   ]
  },
  {
   "cell_type": "code",
   "execution_count": 34,
   "metadata": {},
   "outputs": [],
   "source": [
    "df_test['cos_fake'] = df_test['label']*0.000000000005\n",
    "df_test['cos_real'] = df_test['label']*0.000000000005\n",
    "for index, row in df_test.iterrows():\n",
    "    to_number = cv.transform([row['all_joined']])\n",
    "    cosine_sim_fake = get_cosine_similarity(top_fake_words_coded, to_number)\n",
    "    cosine_sim_real = get_cosine_similarity(top_real_words_coded, to_number)\n",
    "    df_test.at[index,'cos_fake'] = cosine_sim_fake[0]\n",
    "    df_test.at[index,'cos_real'] = cosine_sim_real[0]\n",
    "X_test_tf = df_test[['cos_real', 'cos_fake']].values"
   ]
  },
  {
   "cell_type": "markdown",
   "metadata": {},
   "source": [
    "#### 3.1.2 Search best parameters for SVC models"
   ]
  },
  {
   "cell_type": "code",
   "execution_count": 38,
   "metadata": {},
   "outputs": [
    {
     "name": "stderr",
     "output_type": "stream",
     "text": [
      "/home/elenaruiz/Documents/FNC/env/lib/python3.6/site-packages/sklearn/model_selection/_search.py:841: DeprecationWarning: The default of the `iid` parameter will change from True to False in version 0.22 and will be removed in 0.24. This will change numeric results when test-set sizes are unequal.\n",
      "  DeprecationWarning)\n"
     ]
    }
   ],
   "source": [
    "X_train_tf = df_train[['cos_real', 'cos_fake']].values\n",
    "\n",
    "rbf_values = svc_param_selection(X_train_tf, Y_train, 2, 'rbf')\n",
    "linear_values = svc_param_selection(X_train_tf, Y_train, 2, 'linear')\n",
    "poly_values = svc_param_selection(X_train_tf, Y_train, 2, 'poly')\n",
    "sigmoid_values = svc_param_selection(X_train_tf, Y_train, 2, 'sigmoid')"
   ]
  },
  {
   "cell_type": "code",
   "execution_count": 41,
   "metadata": {},
   "outputs": [],
   "source": [
    "models = {}\n",
    "models['rbf'] = svm.SVC(kernel='rbf', C= rbf_values['C'], gamma=rbf_values['gamma'])\n",
    "models['linear']  = svm.SVC(kernel='linear', C= linear_values['C'], gamma=linear_values['gamma'])\n",
    "models['poly']  = svm.SVC(kernel='poly',C=poly_values['C'], gamma=poly_values['gamma'])\n",
    "models['sigmoid'] = svm.SVC(kernel='sigmoid', C=sigmoid_values['C'], gamma=sigmoid_values['gamma'])"
   ]
  },
  {
   "cell_type": "code",
   "execution_count": 42,
   "metadata": {},
   "outputs": [
    {
     "name": "stdout",
     "output_type": "stream",
     "text": [
      "For model rbf\n",
      "Training score: 0.981651376146789. Test score: 0.75\n",
      "For model linear\n",
      "Training score: 0.981651376146789. Test score: 0.75\n",
      "For model poly\n",
      "Training score: 0.5229357798165137. Test score: 0.4642857142857143\n",
      "For model sigmoid\n",
      "Training score: 0.981651376146789. Test score: 0.75\n"
     ]
    }
   ],
   "source": [
    "scores = s.run_models(models, X_train_tf, Y_train, X_test_tf, Y_test)\n",
    "for model in scores:\n",
    "    print('For model', model)\n",
    "    print('Training score: {}. Test score: {}'.format(scores[model]['train'],scores[model]['test']))"
   ]
  },
  {
   "cell_type": "code",
   "execution_count": 48,
   "metadata": {},
   "outputs": [
    {
     "name": "stderr",
     "output_type": "stream",
     "text": [
      "'c' argument looks like a single numeric RGB or RGBA sequence, which should be avoided as value-mapping will have precedence in case its length matches with 'x' & 'y'.  Please use a 2-D array with a single row if you really want to specify the same RGB or RGBA value for all points.\n",
      "'c' argument looks like a single numeric RGB or RGBA sequence, which should be avoided as value-mapping will have precedence in case its length matches with 'x' & 'y'.  Please use a 2-D array with a single row if you really want to specify the same RGB or RGBA value for all points.\n"
     ]
    },
    {
     "data": {
      "image/png": "[encoded data removed]",
      "text/plain": [
       "<Figure size 432x288 with 1 Axes>"
      ]
     },
     "metadata": {
      "needs_background": "light"
     },
     "output_type": "display_data"
    }
   ],
   "source": [
    "import matplotlib.pyplot as plt\n",
    "from  matplotlib.colors import ListedColormap\n",
    "X_set, y_set = X_train_tf, Y_train\n",
    "\n",
    "aranged_pc1 = np.arange(start = X_set[:, 0].min(), stop = X_set[:, 0].max(), step = 0.01)\n",
    "aranged_pc2 = np.arange(start = X_set[:, 1].min(), stop = X_set[:, 1].max(), step = 0.01)\n",
    "\n",
    "X1, X2 = np.meshgrid(aranged_pc1, aranged_pc2)\n",
    "plt.contourf(X1, X2, models['rbf'].predict(np.array([X1.ravel(), X2.ravel()]).T).reshape(X1.shape),\n",
    "alpha = 0.5, cmap = ListedColormap(('orange', 'green')))\n",
    "\n",
    "plt.xlim(X1.min(), X1.max())\n",
    "plt.ylim(X2.min(), X2.max())\n",
    "for i, j in enumerate(np.unique(y_set)):\n",
    "    plt.scatter(X_set[y_set == j, 0], X_set[y_set == j, 1],\n",
    "                c = ListedColormap(('red', 'green'))(i), label = j)\n",
    "plt.title('SVM prediction from LDA transformation')\n",
    "plt.xlabel('LD1')\n",
    "plt.ylabel('LD2')\n",
    "plt.legend()\n",
    "plt.show()"
   ]
  },
  {
   "cell_type": "code",
   "execution_count": 49,
   "metadata": {},
   "outputs": [
    {
     "name": "stderr",
     "output_type": "stream",
     "text": [
      "'c' argument looks like a single numeric RGB or RGBA sequence, which should be avoided as value-mapping will have precedence in case its length matches with 'x' & 'y'.  Please use a 2-D array with a single row if you really want to specify the same RGB or RGBA value for all points.\n",
      "'c' argument looks like a single numeric RGB or RGBA sequence, which should be avoided as value-mapping will have precedence in case its length matches with 'x' & 'y'.  Please use a 2-D array with a single row if you really want to specify the same RGB or RGBA value for all points.\n"
     ]
    },
    {
     "data": {
      "image/png": "[encoded data removed]",
      "text/plain": [
       "<Figure size 432x288 with 1 Axes>"
      ]
     },
     "metadata": {
      "needs_background": "light"
     },
     "output_type": "display_data"
    }
   ],
   "source": [
    "import matplotlib.pyplot as plt\n",
    "from  matplotlib.colors import ListedColormap\n",
    "X_set, y_set = X_test_tf, Y_test\n",
    "\n",
    "aranged_pc1 = np.arange(start = X_set[:, 0].min(), stop = X_set[:, 0].max(), step = 0.01)\n",
    "aranged_pc2 = np.arange(start = X_set[:, 1].min(), stop = X_set[:, 1].max(), step = 0.01)\n",
    "\n",
    "X1, X2 = np.meshgrid(aranged_pc1, aranged_pc2)\n",
    "plt.contourf(X1, X2, models['rbf'].predict(np.array([X1.ravel(), X2.ravel()]).T).reshape(X1.shape),\n",
    "alpha = 0.5, cmap = ListedColormap(('orange', 'green')))\n",
    "\n",
    "plt.xlim(X1.min(), X1.max())\n",
    "plt.ylim(X2.min(), X2.max())\n",
    "for i, j in enumerate(np.unique(y_set)):\n",
    "    plt.scatter(X_set[y_set == j, 0], X_set[y_set == j, 1],\n",
    "                c = ListedColormap(('red', 'green'))(i), label = j)\n",
    "plt.title('SVM prediction from LDA transformation')\n",
    "plt.xlabel('LD1')\n",
    "plt.ylabel('LD2')\n",
    "plt.legend()\n",
    "plt.show()"
   ]
  },
  {
   "cell_type": "markdown",
   "metadata": {},
   "source": [
    "TODO: Buscar top palabras optimas"
   ]
  }
 ],
 "metadata": {
  "kernelspec": {
   "display_name": "Python 3",
   "language": "python",
   "name": "python3"
  },
  "language_info": {
   "codemirror_mode": {
    "name": "ipython",
    "version": 3
   },
   "file_extension": ".py",
   "mimetype": "text/x-python",
   "name": "python",
   "nbconvert_exporter": "python",
   "pygments_lexer": "ipython3",
   "version": "3.6.7"
  }
 },
 "nbformat": 4,
 "nbformat_minor": 2
}
