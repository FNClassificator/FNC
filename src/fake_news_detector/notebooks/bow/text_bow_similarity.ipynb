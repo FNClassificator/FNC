{
 "cells": [
  {
   "cell_type": "markdown",
   "metadata": {},
   "source": [
    "### Text Classification with BOW\n",
    "\n",
    "#### Import libraries"
   ]
  },
  {
   "cell_type": "code",
   "execution_count": 1,
   "metadata": {},
   "outputs": [],
   "source": [
    "# Load for Jupyter Notebook\n",
    "import sys\n",
    "sys.path.append('/home/elenaruiz/Documents/FNC')"
   ]
  },
  {
   "cell_type": "code",
   "execution_count": 2,
   "metadata": {},
   "outputs": [],
   "source": [
    "import pandas as pd \n",
    "import numpy as np \n",
    "from src.utils import io\n",
    "from src.fake_news_detector.core.classification.bow import models as bm\n",
    "from sklearn.model_selection import train_test_split"
   ]
  },
  {
   "cell_type": "markdown",
   "metadata": {},
   "source": [
    "#### Import dataset"
   ]
  },
  {
   "cell_type": "code",
   "execution_count": 3,
   "metadata": {},
   "outputs": [],
   "source": [
    "articles = io.read_json_file('/home/elenaruiz/Documents/FNC/src/data/dataset_content.json')\n",
    "df = pd.DataFrame(data=articles['articles']) # Put in pandas dataframe"
   ]
  },
  {
   "cell_type": "markdown",
   "metadata": {},
   "source": [
    "#### Create dataset"
   ]
  },
  {
   "cell_type": "code",
   "execution_count": 4,
   "metadata": {},
   "outputs": [
    {
     "name": "stdout",
     "output_type": "stream",
     "text": [
      "['they', 'switzerland', 'navarre', 'a woman', '', '', 'the government', 'madrid', 'podemos', 'pedro Sánchez also plug his brother into the Diputación of Badajoz', 'Colau offer employment contract to all the Aquarius immigrants', 'the terrorist', 'transsexuals', 'feminists', 'carmena', 'iSIS launch animal jihad Islamists', 'the Bases of We', 'muslims', 'an Afghan immigrant', 'the new Minister of Health', 'chaos', '', 'muslims', 'the Merkel government', 'a random security check', 'madrid City Council', 'amnesty International', 'carmen Calvo call for the teat cheese to disappear as sexist', 'they', 'catalan firefighters', 'five risk', 'the viral photo', 'politics between the shit', 'the magistrate', 'airlines', 'worst economy minister on the Financial Times list', 'donald Trump White House', 'lies in a book', 'a short gun to a local policeman', 'a feminist abort her baby for be a child I could bring that monster to the world', 'he', '', 'September the mouthpieces of the breathalyzers will be pay', 'the DGT', 'they', 'the Mili', 'plastic rice', 'a shepherd', 'after masturbate time in a row', 'invisible radar traffic', 'the weapon of the British police to fine', 'a man', 'the figure of Jorge Sanz in the Wax Museum of Madrid', 'a priest and two supportive nuns of we', 'a woman', '', 'fifty students', 'the Hanukkah', 'war', 'valeria', 'mad Cool', 'santiago Segura', 'excellence', '', 'xiaomi ally with IKEA', 'maroto', 'the controversial law that will allow political party to access your data', 'defense detract from the patrol incident', 'the PDeCAT', 'researchers', 'japan', '', 'iberdrola', 'sports', 'los Angeles demolish its statue of Columbus to defend the indigenous', 'they', '', 'a Dutch company', 'the price', 'brussels', 'new demonstration', 'the giant panda', 'conservative deputies', 'borrell', 'the price of gasoline and diesel', 'andalusia close the most combative campaign', 'king Juan Carlos', 'the government', '', 'the Australian marsupial rat', 'antonio Banderas and Penelope Cruz nominate for Golden Globes', 'its high rat of Movistar merger and up to new modalities with Netflix', 'calviño', 'british Civil Aviation Authority initiate action against Ryanair', 'they', 'anne Hathaway negotiate star in Sesame Street movie', 'a network that introduce Vietnamese immigrants and exploit them in manicure center', 'police', '', 'private initiative in Cuba', 'the two deaths']\n"
     ]
    }
   ],
   "source": [
    "# Pass to array\n",
    "title_sub = []\n",
    "for line in df['title_subject'].values:\n",
    "    title_sub.append(' '.join(line))\n",
    "print(title_sub)"
   ]
  },
  {
   "cell_type": "code",
   "execution_count": 5,
   "metadata": {},
   "outputs": [
    {
     "data": {
      "text/html": [
       "<div>\n",
       "<style scoped>\n",
       "    .dataframe tbody tr th:only-of-type {\n",
       "        vertical-align: middle;\n",
       "    }\n",
       "\n",
       "    .dataframe tbody tr th {\n",
       "        vertical-align: top;\n",
       "    }\n",
       "\n",
       "    .dataframe thead th {\n",
       "        text-align: right;\n",
       "    }\n",
       "</style>\n",
       "<table border=\"1\" class=\"dataframe\">\n",
       "  <thead>\n",
       "    <tr style=\"text-align: right;\">\n",
       "      <th></th>\n",
       "      <th>corpus</th>\n",
       "      <th>label</th>\n",
       "      <th>id</th>\n",
       "    </tr>\n",
       "  </thead>\n",
       "  <tbody>\n",
       "    <tr>\n",
       "      <th>0</th>\n",
       "      <td>they</td>\n",
       "      <td>1</td>\n",
       "      <td>0</td>\n",
       "    </tr>\n",
       "    <tr>\n",
       "      <th>1</th>\n",
       "      <td>switzerland</td>\n",
       "      <td>1</td>\n",
       "      <td>1</td>\n",
       "    </tr>\n",
       "    <tr>\n",
       "      <th>2</th>\n",
       "      <td>navarre</td>\n",
       "      <td>1</td>\n",
       "      <td>2</td>\n",
       "    </tr>\n",
       "    <tr>\n",
       "      <th>3</th>\n",
       "      <td>a woman</td>\n",
       "      <td>1</td>\n",
       "      <td>3</td>\n",
       "    </tr>\n",
       "    <tr>\n",
       "      <th>4</th>\n",
       "      <td></td>\n",
       "      <td>1</td>\n",
       "      <td>4</td>\n",
       "    </tr>\n",
       "  </tbody>\n",
       "</table>\n",
       "</div>"
      ],
      "text/plain": [
       "        corpus  label  id\n",
       "0         they      1   0\n",
       "1  switzerland      1   1\n",
       "2      navarre      1   2\n",
       "3      a woman      1   3\n",
       "4                   1   4"
      ]
     },
     "execution_count": 5,
     "metadata": {},
     "output_type": "execute_result"
    }
   ],
   "source": [
    "corpus = pd.DataFrame()\n",
    "corpus['corpus'] = title_sub\n",
    "corpus['label'] = df['fake']*1\n",
    "len(df)\n",
    "corpus['id'] = list(range(0,len(df)))\n",
    "corpus.head()"
   ]
  },
  {
   "cell_type": "markdown",
   "metadata": {},
   "source": [
    "#### Create models"
   ]
  },
  {
   "cell_type": "code",
   "execution_count": 6,
   "metadata": {},
   "outputs": [],
   "source": [
    "train_data, test_data = train_test_split(corpus, random_state=0)"
   ]
  },
  {
   "cell_type": "code",
   "execution_count": 7,
   "metadata": {},
   "outputs": [],
   "source": [
    "models = bm.BOWModels(train_data, test_data, 'corpus', 'label')"
   ]
  },
  {
   "cell_type": "code",
   "execution_count": 8,
   "metadata": {},
   "outputs": [],
   "source": [
    "models.build_models()"
   ]
  },
  {
   "cell_type": "code",
   "execution_count": 9,
   "metadata": {},
   "outputs": [
    {
     "name": "stdout",
     "output_type": "stream",
     "text": [
      "MODEL VECTORIZER 0:\n",
      "Model Classificator LR  Score: 0.9333333333333333\n"
     ]
    },
    {
     "name": "stderr",
     "output_type": "stream",
     "text": [
      "/home/elenaruiz/Documents/FNC/env/lib/python3.6/site-packages/sklearn/linear_model/logistic.py:433: FutureWarning: Default solver will be changed to 'lbfgs' in 0.22. Specify a solver to silence this warning.\n",
      "  FutureWarning)\n"
     ]
    }
   ],
   "source": [
    "res = models.train_with_classificators(['LR'], True)"
   ]
  },
  {
   "cell_type": "code",
   "execution_count": 10,
   "metadata": {},
   "outputs": [
    {
     "name": "stdout",
     "output_type": "stream",
     "text": [
      "{'LR': [<src.fake_news_detector.core.classification.ml.models.ClassificationModel object at 0x7f7153c737b8>]}\n",
      "<src.fake_news_detector.core.classification.ml.models.ClassificationModel object at 0x7f7153c737b8>\n",
      "26    1\n",
      "86    0\n",
      "2     1\n",
      "55    1\n",
      "75    0\n",
      "94    0\n",
      "16    1\n",
      "73    0\n",
      "54    1\n",
      "96    0\n",
      "53    1\n",
      "93    0\n",
      "78    0\n",
      "13    1\n",
      "7     1\n",
      "30    1\n",
      "22    1\n",
      "24    1\n",
      "33    1\n",
      "8     1\n",
      "43    1\n",
      "62    0\n",
      "3     1\n",
      "71    0\n",
      "45    1\n",
      "48    1\n",
      "Name: label, dtype: int64\n",
      "Accuracy:  0.6923076923076923\n",
      "Confusion matrix:  [[ 1  8]\n",
      " [ 0 17]]\n",
      "(row=expected, col=predicted)\n"
     ]
    },
    {
     "data": {
      "image/png": "[encoded data removed]",
      "text/plain": [
       "<Figure size 432x288 with 2 Axes>"
      ]
     },
     "metadata": {
      "needs_background": "light"
     },
     "output_type": "display_data"
    }
   ],
   "source": [
    "models.predict_all(True)"
   ]
  },
  {
   "cell_type": "code",
   "execution_count": 11,
   "metadata": {},
   "outputs": [
    {
     "name": "stdout",
     "output_type": "stream",
     "text": [
      "NEW MODEL\n",
      "['', 'Afghan', 'Angeles', 'Aquarius', 'Australian', 'Badajoz', 'Banderas', 'British', 'Calvo', 'City', 'Colau', 'Columbus', 'Cool', 'Council', 'Cruz', 'Cuba', 'Diputación', 'Dutch', 'Financial', 'Globes', 'Golden', 'Hanukkah', 'Hathaway', 'Health', 'House', 'I', 'IKEA', 'Islamists', 'Jorge', 'Madrid', 'Merkel', 'Minister', 'Movistar', 'Museum', 'Netflix', 'PDeCAT', 'Penelope', 'Sanz', 'Segura', 'September', 'Sesame', 'Street', 'Sánchez', 'Times', 'Trump', 'Wax', 'White', 'abort', 'access', 'airlines', 'allow', 'ally', 'andalusia', 'animal', 'anne', 'antonio', 'baby', 'book', 'borrell', 'breathalyzers', 'bring', 'brother', 'brussels', 'calviño', 'campaign', 'carmen', 'carmena', 'catalan', 'chaos', 'cheese', 'child', 'close', 'combative', 'company', 'conservative', 'contract', 'controversial', 'data', 'deaths', 'defend', 'defense', 'demolish', 'demonstration', 'deputies', 'detract', 'diesel', 'disappear', 'donald', 'economy', 'employment', 'feminist', 'figure', 'fine', 'firefighters', 'gasoline', 'giant', 'government', 'gun', 'high', 'iSIS', 'iberdrola', 'immigrant', 'immigrants', 'incident', 'indigenous', 'initiative', 'invisible', 'japan', 'jihad', 'launch', 'law', 'lies', 'list', 'local', 'los', 'mad', 'madrid', 'man', 'maroto', 'marsupial', 'merger', 'minister', 'modalities', 'monster', 'mouthpieces', 'movie', 'muslims', 'negotiate', 'new', 'nominate', 'offer', 'panda', 'party', 'patrol', 'pay', 'pedro', 'photo', 'plastic', 'plug', 'police', 'policeman', 'political', 'politics', 'price', 'private', 'radar', 'rat', 'researchers', 'rice', 'santiago', 'sexist', 'shepherd', 'shit', 'short', 'star', 'statue', 'students', 'switzerland', 'teat', 'terrorist', 'traffic', 'transsexuals', 'valeria', 'viral', 'war', 'weapon', 'world', 'worst', 'xiaomi']\n"
     ]
    },
    {
     "data": {
      "text/plain": [
       "['NEW MODEL',\n",
       " ['',\n",
       "  'Afghan',\n",
       "  'Angeles',\n",
       "  'Aquarius',\n",
       "  'Australian',\n",
       "  'Badajoz',\n",
       "  'Banderas',\n",
       "  'British',\n",
       "  'Calvo',\n",
       "  'City',\n",
       "  'Colau',\n",
       "  'Columbus',\n",
       "  'Cool',\n",
       "  'Council',\n",
       "  'Cruz',\n",
       "  'Cuba',\n",
       "  'Diputación',\n",
       "  'Dutch',\n",
       "  'Financial',\n",
       "  'Globes',\n",
       "  'Golden',\n",
       "  'Hanukkah',\n",
       "  'Hathaway',\n",
       "  'Health',\n",
       "  'House',\n",
       "  'I',\n",
       "  'IKEA',\n",
       "  'Islamists',\n",
       "  'Jorge',\n",
       "  'Madrid',\n",
       "  'Merkel',\n",
       "  'Minister',\n",
       "  'Movistar',\n",
       "  'Museum',\n",
       "  'Netflix',\n",
       "  'PDeCAT',\n",
       "  'Penelope',\n",
       "  'Sanz',\n",
       "  'Segura',\n",
       "  'September',\n",
       "  'Sesame',\n",
       "  'Street',\n",
       "  'Sánchez',\n",
       "  'Times',\n",
       "  'Trump',\n",
       "  'Wax',\n",
       "  'White',\n",
       "  'abort',\n",
       "  'access',\n",
       "  'airlines',\n",
       "  'allow',\n",
       "  'ally',\n",
       "  'andalusia',\n",
       "  'animal',\n",
       "  'anne',\n",
       "  'antonio',\n",
       "  'baby',\n",
       "  'book',\n",
       "  'borrell',\n",
       "  'breathalyzers',\n",
       "  'bring',\n",
       "  'brother',\n",
       "  'brussels',\n",
       "  'calviño',\n",
       "  'campaign',\n",
       "  'carmen',\n",
       "  'carmena',\n",
       "  'catalan',\n",
       "  'chaos',\n",
       "  'cheese',\n",
       "  'child',\n",
       "  'close',\n",
       "  'combative',\n",
       "  'company',\n",
       "  'conservative',\n",
       "  'contract',\n",
       "  'controversial',\n",
       "  'data',\n",
       "  'deaths',\n",
       "  'defend',\n",
       "  'defense',\n",
       "  'demolish',\n",
       "  'demonstration',\n",
       "  'deputies',\n",
       "  'detract',\n",
       "  'diesel',\n",
       "  'disappear',\n",
       "  'donald',\n",
       "  'economy',\n",
       "  'employment',\n",
       "  'feminist',\n",
       "  'figure',\n",
       "  'fine',\n",
       "  'firefighters',\n",
       "  'gasoline',\n",
       "  'giant',\n",
       "  'government',\n",
       "  'gun',\n",
       "  'high',\n",
       "  'iSIS',\n",
       "  'iberdrola',\n",
       "  'immigrant',\n",
       "  'immigrants',\n",
       "  'incident',\n",
       "  'indigenous',\n",
       "  'initiative',\n",
       "  'invisible',\n",
       "  'japan',\n",
       "  'jihad',\n",
       "  'launch',\n",
       "  'law',\n",
       "  'lies',\n",
       "  'list',\n",
       "  'local',\n",
       "  'los',\n",
       "  'mad',\n",
       "  'madrid',\n",
       "  'man',\n",
       "  'maroto',\n",
       "  'marsupial',\n",
       "  'merger',\n",
       "  'minister',\n",
       "  'modalities',\n",
       "  'monster',\n",
       "  'mouthpieces',\n",
       "  'movie',\n",
       "  'muslims',\n",
       "  'negotiate',\n",
       "  'new',\n",
       "  'nominate',\n",
       "  'offer',\n",
       "  'panda',\n",
       "  'party',\n",
       "  'patrol',\n",
       "  'pay',\n",
       "  'pedro',\n",
       "  'photo',\n",
       "  'plastic',\n",
       "  'plug',\n",
       "  'police',\n",
       "  'policeman',\n",
       "  'political',\n",
       "  'politics',\n",
       "  'price',\n",
       "  'private',\n",
       "  'radar',\n",
       "  'rat',\n",
       "  'researchers',\n",
       "  'rice',\n",
       "  'santiago',\n",
       "  'sexist',\n",
       "  'shepherd',\n",
       "  'shit',\n",
       "  'short',\n",
       "  'star',\n",
       "  'statue',\n",
       "  'students',\n",
       "  'switzerland',\n",
       "  'teat',\n",
       "  'terrorist',\n",
       "  'traffic',\n",
       "  'transsexuals',\n",
       "  'valeria',\n",
       "  'viral',\n",
       "  'war',\n",
       "  'weapon',\n",
       "  'world',\n",
       "  'worst',\n",
       "  'xiaomi']]"
      ]
     },
     "execution_count": 11,
     "metadata": {},
     "output_type": "execute_result"
    }
   ],
   "source": [
    "models.get_feature_names(True)"
   ]
  },
  {
   "cell_type": "code",
   "execution_count": null,
   "metadata": {},
   "outputs": [],
   "source": []
  }
 ],
 "metadata": {
  "kernelspec": {
   "display_name": "Python 3",
   "language": "python",
   "name": "python3"
  },
  "language_info": {
   "codemirror_mode": {
    "name": "ipython",
    "version": 3
   },
   "file_extension": ".py",
   "mimetype": "text/x-python",
   "name": "python",
   "nbconvert_exporter": "python",
   "pygments_lexer": "ipython3",
   "version": "3.6.7"
  }
 },
 "nbformat": 4,
 "nbformat_minor": 2
}
