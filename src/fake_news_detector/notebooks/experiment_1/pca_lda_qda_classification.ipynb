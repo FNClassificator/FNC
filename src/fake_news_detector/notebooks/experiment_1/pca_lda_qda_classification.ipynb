{
 "cells": [
  {
   "cell_type": "code",
   "execution_count": 1,
   "metadata": {},
   "outputs": [],
   "source": [
    "#imports\n",
    "import warnings\n",
    "warnings.filterwarnings('ignore')\n",
    "\n",
    "import sys\n",
    "sys.path.append('/home/elenaruiz/Documents/FNC')\n",
    "import pandas as pd\n",
    "import numpy as np\n",
    "from src.utils import io\n",
    "from src.fake_news_detector.core.classificators import LDA, QDA, helpers\n",
    "import matplotlib.pyplot as plt"
   ]
  },
  {
   "cell_type": "markdown",
   "metadata": {},
   "source": [
    "## Import dataset"
   ]
  },
  {
   "cell_type": "code",
   "execution_count": 2,
   "metadata": {},
   "outputs": [],
   "source": [
    "articles = io.read_json_file('/home/elenaruiz/Documents/FNC/src/data/dataset_style.json')\n",
    "df = pd.DataFrame(data=articles['articles'])"
   ]
  },
  {
   "cell_type": "markdown",
   "metadata": {},
   "source": [
    "## Variables to classify"
   ]
  },
  {
   "cell_type": "code",
   "execution_count": 3,
   "metadata": {},
   "outputs": [
    {
     "data": {
      "text/html": [
       "<div>\n",
       "<style scoped>\n",
       "    .dataframe tbody tr th:only-of-type {\n",
       "        vertical-align: middle;\n",
       "    }\n",
       "\n",
       "    .dataframe tbody tr th {\n",
       "        vertical-align: top;\n",
       "    }\n",
       "\n",
       "    .dataframe thead th {\n",
       "        text-align: right;\n",
       "    }\n",
       "</style>\n",
       "<table border=\"1\" class=\"dataframe\">\n",
       "  <thead>\n",
       "    <tr style=\"text-align: right;\">\n",
       "      <th></th>\n",
       "      <th>pert_different_words</th>\n",
       "      <th>title_sentiment</th>\n",
       "      <th>pert_total_nouns</th>\n",
       "      <th>n_words</th>\n",
       "      <th>pert_total_verbs</th>\n",
       "      <th>mean_words_per_sentence</th>\n",
       "    </tr>\n",
       "  </thead>\n",
       "  <tbody>\n",
       "    <tr>\n",
       "      <th>0</th>\n",
       "      <td>0.696296</td>\n",
       "      <td>-0.5719</td>\n",
       "      <td>0.607407</td>\n",
       "      <td>135</td>\n",
       "      <td>0.170370</td>\n",
       "      <td>6.096296</td>\n",
       "    </tr>\n",
       "    <tr>\n",
       "      <th>1</th>\n",
       "      <td>0.622951</td>\n",
       "      <td>-0.1027</td>\n",
       "      <td>0.612022</td>\n",
       "      <td>183</td>\n",
       "      <td>0.114754</td>\n",
       "      <td>6.688525</td>\n",
       "    </tr>\n",
       "    <tr>\n",
       "      <th>2</th>\n",
       "      <td>0.818966</td>\n",
       "      <td>-0.4588</td>\n",
       "      <td>0.594828</td>\n",
       "      <td>116</td>\n",
       "      <td>0.120690</td>\n",
       "      <td>5.896552</td>\n",
       "    </tr>\n",
       "    <tr>\n",
       "      <th>3</th>\n",
       "      <td>0.772727</td>\n",
       "      <td>-0.2023</td>\n",
       "      <td>0.439394</td>\n",
       "      <td>66</td>\n",
       "      <td>0.181818</td>\n",
       "      <td>5.363636</td>\n",
       "    </tr>\n",
       "    <tr>\n",
       "      <th>4</th>\n",
       "      <td>0.818182</td>\n",
       "      <td>-0.4767</td>\n",
       "      <td>0.636364</td>\n",
       "      <td>66</td>\n",
       "      <td>0.121212</td>\n",
       "      <td>6.454545</td>\n",
       "    </tr>\n",
       "  </tbody>\n",
       "</table>\n",
       "</div>"
      ],
      "text/plain": [
       "   pert_different_words  title_sentiment  pert_total_nouns  n_words  \\\n",
       "0              0.696296          -0.5719          0.607407      135   \n",
       "1              0.622951          -0.1027          0.612022      183   \n",
       "2              0.818966          -0.4588          0.594828      116   \n",
       "3              0.772727          -0.2023          0.439394       66   \n",
       "4              0.818182          -0.4767          0.636364       66   \n",
       "\n",
       "   pert_total_verbs  mean_words_per_sentence  \n",
       "0          0.170370                 6.096296  \n",
       "1          0.114754                 6.688525  \n",
       "2          0.120690                 5.896552  \n",
       "3          0.181818                 5.363636  \n",
       "4          0.121212                 6.454545  "
      ]
     },
     "execution_count": 3,
     "metadata": {},
     "output_type": "execute_result"
    }
   ],
   "source": [
    "column_names = ['pert_different_words', 'title_sentiment', 'pert_total_nouns', 'n_words', 'pert_total_verbs', 'mean_words_per_sentence' ]\n",
    "df[column_names].head()"
   ]
  },
  {
   "cell_type": "markdown",
   "metadata": {},
   "source": [
    "## Standarize"
   ]
  },
  {
   "cell_type": "code",
   "execution_count": 4,
   "metadata": {},
   "outputs": [
    {
     "data": {
      "text/html": [
       "<div>\n",
       "<style scoped>\n",
       "    .dataframe tbody tr th:only-of-type {\n",
       "        vertical-align: middle;\n",
       "    }\n",
       "\n",
       "    .dataframe tbody tr th {\n",
       "        vertical-align: top;\n",
       "    }\n",
       "\n",
       "    .dataframe thead th {\n",
       "        text-align: right;\n",
       "    }\n",
       "</style>\n",
       "<table border=\"1\" class=\"dataframe\">\n",
       "  <thead>\n",
       "    <tr style=\"text-align: right;\">\n",
       "      <th></th>\n",
       "      <th>pert_different_words</th>\n",
       "      <th>title_sentiment</th>\n",
       "      <th>pert_total_nouns</th>\n",
       "      <th>n_words</th>\n",
       "      <th>pert_total_verbs</th>\n",
       "      <th>mean_words_per_sentence</th>\n",
       "      <th>fake</th>\n",
       "    </tr>\n",
       "  </thead>\n",
       "  <tbody>\n",
       "    <tr>\n",
       "      <th>0</th>\n",
       "      <td>-0.676123</td>\n",
       "      <td>-1.303625</td>\n",
       "      <td>-0.061732</td>\n",
       "      <td>-0.560411</td>\n",
       "      <td>1.520931</td>\n",
       "      <td>-0.357702</td>\n",
       "      <td>True</td>\n",
       "    </tr>\n",
       "    <tr>\n",
       "      <th>1</th>\n",
       "      <td>-1.700977</td>\n",
       "      <td>0.180281</td>\n",
       "      <td>0.008543</td>\n",
       "      <td>-0.185189</td>\n",
       "      <td>-0.265574</td>\n",
       "      <td>1.029531</td>\n",
       "      <td>True</td>\n",
       "    </tr>\n",
       "    <tr>\n",
       "      <th>2</th>\n",
       "      <td>1.037931</td>\n",
       "      <td>-0.945932</td>\n",
       "      <td>-0.253314</td>\n",
       "      <td>-0.708936</td>\n",
       "      <td>-0.074912</td>\n",
       "      <td>-0.825582</td>\n",
       "      <td>True</td>\n",
       "    </tr>\n",
       "    <tr>\n",
       "      <th>3</th>\n",
       "      <td>0.391845</td>\n",
       "      <td>-0.134717</td>\n",
       "      <td>-2.620462</td>\n",
       "      <td>-1.099791</td>\n",
       "      <td>1.888657</td>\n",
       "      <td>-2.073881</td>\n",
       "      <td>True</td>\n",
       "    </tr>\n",
       "    <tr>\n",
       "      <th>4</th>\n",
       "      <td>1.026980</td>\n",
       "      <td>-1.002543</td>\n",
       "      <td>0.379252</td>\n",
       "      <td>-1.099791</td>\n",
       "      <td>-0.058130</td>\n",
       "      <td>0.481459</td>\n",
       "      <td>True</td>\n",
       "    </tr>\n",
       "  </tbody>\n",
       "</table>\n",
       "</div>"
      ],
      "text/plain": [
       "   pert_different_words  title_sentiment  pert_total_nouns   n_words  \\\n",
       "0             -0.676123        -1.303625         -0.061732 -0.560411   \n",
       "1             -1.700977         0.180281          0.008543 -0.185189   \n",
       "2              1.037931        -0.945932         -0.253314 -0.708936   \n",
       "3              0.391845        -0.134717         -2.620462 -1.099791   \n",
       "4              1.026980        -1.002543          0.379252 -1.099791   \n",
       "\n",
       "   pert_total_verbs  mean_words_per_sentence  fake  \n",
       "0          1.520931                -0.357702  True  \n",
       "1         -0.265574                 1.029531  True  \n",
       "2         -0.074912                -0.825582  True  \n",
       "3          1.888657                -2.073881  True  \n",
       "4         -0.058130                 0.481459  True  "
      ]
     },
     "execution_count": 4,
     "metadata": {},
     "output_type": "execute_result"
    }
   ],
   "source": [
    "from sklearn.preprocessing import StandardScaler\n",
    "x = df[column_names]\n",
    "\n",
    "scaler = StandardScaler()\n",
    "scaled_df = scaler.fit_transform(x)\n",
    "\n",
    "dataset_std = pd.DataFrame(scaled_df, columns=column_names)\n",
    "\n",
    "# Add factor label\n",
    "dataset_std['fake'] = df['fake']\n",
    "dataset_std.head()"
   ]
  },
  {
   "cell_type": "markdown",
   "metadata": {},
   "source": [
    "## Split datasets"
   ]
  },
  {
   "cell_type": "code",
   "execution_count": 5,
   "metadata": {},
   "outputs": [],
   "source": [
    "from sklearn.model_selection import train_test_split\n",
    "df_train, df_test = train_test_split(dataset_std, test_size=0.2, random_state=42)\n",
    "# V A L U E S\n",
    "X_std_train = df_train[column_names].values\n",
    "Y_train = df_train.fake\n",
    "\n",
    "X_std_test = df_test[column_names].values\n",
    "Y_test = df_test.fake"
   ]
  },
  {
   "cell_type": "markdown",
   "metadata": {},
   "source": [
    "## Direct Classification with SVM"
   ]
  },
  {
   "cell_type": "code",
   "execution_count": 6,
   "metadata": {},
   "outputs": [],
   "source": [
    "from src.fake_news_detector.core.classificators import SupportVectorMachine as s\n",
    "from sklearn import svm\n",
    "from sklearn.model_selection import GridSearchCV"
   ]
  },
  {
   "cell_type": "code",
   "execution_count": 7,
   "metadata": {},
   "outputs": [],
   "source": [
    "def svc_param_selection(X, y, nfolds, kernel):\n",
    "    Cs = [0.001, 0.01, 0.1, 1, 10]\n",
    "    gammas = [0.001, 0.01, 0.1, 1]\n",
    "    param_grid = {'C': Cs, 'gamma' : gammas}\n",
    "    grid_search = GridSearchCV(svm.SVC(kernel=kernel), param_grid, cv=nfolds)\n",
    "    grid_search.fit(X, y)\n",
    "    grid_search.best_params_\n",
    "    return grid_search.best_params_"
   ]
  },
  {
   "cell_type": "code",
   "execution_count": 8,
   "metadata": {},
   "outputs": [
    {
     "name": "stdout",
     "output_type": "stream",
     "text": [
      "For rbf: {'C': 10, 'gamma': 1}\n",
      "For linear: {'C': 1, 'gamma': 0.001}\n",
      "For poly: {'C': 0.1, 'gamma': 1}\n",
      "For sigmoid: {'C': 1, 'gamma': 0.1}\n"
     ]
    }
   ],
   "source": [
    "print('For rbf:', svc_param_selection(X_std_train, Y_train, 2, 'rbf'))\n",
    "print('For linear:', svc_param_selection(X_std_train, Y_train, 2, 'linear'))\n",
    "print('For poly:', svc_param_selection(X_std_train, Y_train, 2, 'poly'))\n",
    "print('For sigmoid:', svc_param_selection(X_std_train, Y_train, 2, 'sigmoid'))"
   ]
  },
  {
   "cell_type": "code",
   "execution_count": 31,
   "metadata": {},
   "outputs": [],
   "source": [
    "models = {}\n",
    "models['rbf'] = svm.SVC(kernel='rbf', gamma=1, C= 10)\n",
    "models['linear']  = svm.SVC(kernel='linear', gamma=0.001, C= 1)\n",
    "models['poly']  = svm.SVC(kernel='poly', gamma=1, C= 0.1)\n",
    "models['sigmoid'] = svm.SVC(kernel='sigmoid', gamma=0.1, C= 1)"
   ]
  },
  {
   "cell_type": "code",
   "execution_count": 32,
   "metadata": {},
   "outputs": [
    {
     "name": "stdout",
     "output_type": "stream",
     "text": [
      "For model rbf\n",
      "Training score: 0.9888888888888889. Test score: 0.5\n",
      "For model linear\n",
      "Training score: 0.7111111111111111. Test score: 0.5454545454545454\n",
      "For model poly\n",
      "Training score: 0.9111111111111111. Test score: 0.8333333333333334\n",
      "For model sigmoid\n",
      "Training score: 0.7111111111111111. Test score: 0.6153846153846154\n"
     ]
    }
   ],
   "source": [
    "scores = s.run_models(models, X_std_train, Y_train, X_std_test, Y_test)\n",
    "for model in scores:\n",
    "    print('For model', model)\n",
    "    print('Training score: {}. Test score: {}'.format(scores[model]['train'],scores[model]['test']))"
   ]
  },
  {
   "cell_type": "markdown",
   "metadata": {},
   "source": [
    "## Dimensional reduction with PCA"
   ]
  },
  {
   "cell_type": "code",
   "execution_count": 11,
   "metadata": {},
   "outputs": [],
   "source": [
    "from sklearn.decomposition import PCA \n",
    "pca_model = PCA(n_components=2) # Create model\n",
    "X_pca_train = pca_model.fit_transform(X_std_train) # Train and transform"
   ]
  },
  {
   "cell_type": "markdown",
   "metadata": {},
   "source": [
    "See the results:"
   ]
  },
  {
   "cell_type": "code",
   "execution_count": 12,
   "metadata": {},
   "outputs": [
    {
     "data": {
      "image/png": "[encoded data removed]",
      "text/plain": [
       "<Figure size 576x576 with 1 Axes>"
      ]
     },
     "metadata": {
      "needs_background": "light"
     },
     "output_type": "display_data"
    }
   ],
   "source": [
    "principalDf = pd.DataFrame(data = X_pca_train, columns = ['principal component 1', 'principal component 2'])\n",
    "finalDf = pd.concat([principalDf, Y_train], axis = 1)\n",
    "\n",
    "fig = plt.figure(figsize = (8,8))\n",
    "ax = fig.add_subplot(1,1,1) \n",
    "ax.set_xlabel('Principal Component 1', fontsize = 15)\n",
    "ax.set_ylabel('Principal Component 2', fontsize = 15)\n",
    "ax.set_title('2 component PCA', fontsize = 20)\n",
    "\n",
    "targets = [False, True]\n",
    "colors = ['b', 'y']\n",
    "for target, color in zip(targets,colors):\n",
    "    indicesToKeep = finalDf['fake'] == target\n",
    "    ax.scatter(finalDf.loc[indicesToKeep, 'principal component 1']\n",
    "               , finalDf.loc[indicesToKeep, 'principal component 2']\n",
    "               , c = color\n",
    "               , s = 50)\n",
    "ax.legend(targets)\n",
    "ax.grid()"
   ]
  },
  {
   "cell_type": "code",
   "execution_count": 13,
   "metadata": {},
   "outputs": [],
   "source": [
    "X_pca_test = pca_model.transform(X_std_test)"
   ]
  },
  {
   "cell_type": "markdown",
   "metadata": {},
   "source": [
    "### Dimensional reduction with LDA"
   ]
  },
  {
   "cell_type": "code",
   "execution_count": 14,
   "metadata": {},
   "outputs": [],
   "source": [
    "from sklearn.discriminant_analysis import LinearDiscriminantAnalysis as LDA\n",
    "lda_model = LDA(n_components=2)\n",
    "X_lda_train = lda_model.fit_transform(X_std_train, Y_train)"
   ]
  },
  {
   "cell_type": "code",
   "execution_count": 15,
   "metadata": {},
   "outputs": [],
   "source": [
    "X_lda_test = lda_model.transform(X_std_test)"
   ]
  },
  {
   "cell_type": "markdown",
   "metadata": {},
   "source": [
    "### Dimensional reduction with QDA"
   ]
  },
  {
   "cell_type": "code",
   "execution_count": 16,
   "metadata": {},
   "outputs": [],
   "source": [
    "#from sklearn.discriminant_analysis import QuadraticDiscriminantAnalysis as QDA\n",
    "#qda_model = QDA()\n",
    "#X_qda_train = qda_model.fit(X_std_train, Y_train)\n",
    "#X_qda_train"
   ]
  },
  {
   "cell_type": "code",
   "execution_count": 17,
   "metadata": {},
   "outputs": [],
   "source": [
    "#X_qda_test = lda_model.transform(X_std_test)"
   ]
  },
  {
   "cell_type": "markdown",
   "metadata": {},
   "source": [
    "### Binary Classification with SVM"
   ]
  },
  {
   "cell_type": "markdown",
   "metadata": {},
   "source": [
    "### From PCA Reduction"
   ]
  },
  {
   "cell_type": "code",
   "execution_count": 18,
   "metadata": {},
   "outputs": [
    {
     "name": "stdout",
     "output_type": "stream",
     "text": [
      "For rbf: {'C': 10, 'gamma': 0.01}\n",
      "For linear: {'C': 1, 'gamma': 0.001}\n",
      "For poly: {'C': 0.1, 'gamma': 1}\n",
      "For sigmoid: {'C': 0.1, 'gamma': 1}\n"
     ]
    }
   ],
   "source": [
    "print('For rbf:', svc_param_selection(X_pca_train, Y_train, 2, 'rbf'))\n",
    "print('For linear:', svc_param_selection(X_pca_train, Y_train, 2, 'linear'))\n",
    "print('For poly:', svc_param_selection(X_pca_train, Y_train, 2, 'poly'))\n",
    "print('For sigmoid:', svc_param_selection(X_pca_train, Y_train, 2, 'sigmoid'))"
   ]
  },
  {
   "cell_type": "code",
   "execution_count": 33,
   "metadata": {},
   "outputs": [],
   "source": [
    "models = {}\n",
    "models['rbf'] = svm.SVC(kernel='rbf', gamma=0.01, C= 10)\n",
    "models['linear']  = svm.SVC(kernel='linear', gamma=0.001, C= 1)\n",
    "models['poly']  = svm.SVC(kernel='poly', gamma=1, C= 0.1)\n",
    "models['sigmoid'] = svm.SVC(kernel='sigmoid', gamma=1, C= 0.1)"
   ]
  },
  {
   "cell_type": "code",
   "execution_count": 34,
   "metadata": {},
   "outputs": [
    {
     "name": "stdout",
     "output_type": "stream",
     "text": [
      "For model rbf\n",
      "Training score: 0.7111111111111111. Test score: 0.6153846153846154\n",
      "For model linear\n",
      "Training score: 0.7111111111111111. Test score: 0.6153846153846154\n",
      "For model poly\n",
      "Training score: 0.6666666666666666. Test score: 0.5263157894736842\n",
      "For model sigmoid\n",
      "Training score: 0.6666666666666666. Test score: 0.5833333333333334\n"
     ]
    }
   ],
   "source": [
    "scores = s.run_models(models, X_pca_train, Y_train, X_pca_test, Y_test)\n",
    "for model in scores:\n",
    "    print('For model', model)\n",
    "    print('Training score: {}. Test score: {}'.format(scores[model]['train'],scores[model]['test']))"
   ]
  },
  {
   "cell_type": "markdown",
   "metadata": {},
   "source": [
    "### From LDA reduction"
   ]
  },
  {
   "cell_type": "code",
   "execution_count": 21,
   "metadata": {},
   "outputs": [
    {
     "name": "stdout",
     "output_type": "stream",
     "text": [
      "For rbf: {'C': 1, 'gamma': 1}\n",
      "For linear: {'C': 0.1, 'gamma': 0.001}\n",
      "For poly: {'C': 0.01, 'gamma': 1}\n",
      "For sigmoid: {'C': 1, 'gamma': 0.1}\n"
     ]
    }
   ],
   "source": [
    "print('For rbf:', svc_param_selection(X_lda_train, Y_train, 2, 'rbf'))\n",
    "print('For linear:', svc_param_selection(X_lda_train, Y_train, 2, 'linear'))\n",
    "print('For poly:', svc_param_selection(X_lda_train, Y_train, 2, 'poly'))\n",
    "print('For sigmoid:', svc_param_selection(X_lda_train, Y_train, 2, 'sigmoid'))"
   ]
  },
  {
   "cell_type": "code",
   "execution_count": 35,
   "metadata": {},
   "outputs": [],
   "source": [
    "models = {}\n",
    "models['rbf'] = svm.SVC(kernel='rbf', gamma=1, C= 1)\n",
    "models['linear']  = svm.SVC(kernel='linear', gamma=0.001, C= 0.1)\n",
    "models['poly']  = svm.SVC(kernel='poly', gamma=1, C= 0.01)\n",
    "models['sigmoid'] = svm.SVC(kernel='sigmoid', gamma=0.1, C= 1)"
   ]
  },
  {
   "cell_type": "code",
   "execution_count": 36,
   "metadata": {},
   "outputs": [
    {
     "name": "stdout",
     "output_type": "stream",
     "text": [
      "For model rbf\n",
      "Training score: 0.7444444444444445. Test score: 0.6\n",
      "For model linear\n",
      "Training score: 0.7222222222222222. Test score: 0.5384615384615384\n",
      "For model poly\n",
      "Training score: 0.6444444444444445. Test score: 0.5238095238095238\n",
      "For model sigmoid\n",
      "Training score: 0.7222222222222222. Test score: 0.5384615384615384\n"
     ]
    }
   ],
   "source": [
    "scores = s.run_models(models, X_lda_train, Y_train, X_lda_test, Y_test)\n",
    "for model in scores:\n",
    "    print('For model', model)\n",
    "    print('Training score: {}. Test score: {}'.format(scores[model]['train'],scores[model]['test']))"
   ]
  },
  {
   "cell_type": "markdown",
   "metadata": {},
   "source": [
    "### Binary Classification with Random Forest"
   ]
  },
  {
   "cell_type": "code",
   "execution_count": 24,
   "metadata": {},
   "outputs": [],
   "source": [
    "from src.fake_news_detector.core.classificators import helpers as h\n",
    "from sklearn.ensemble import RandomForestClassifier"
   ]
  },
  {
   "cell_type": "code",
   "execution_count": 25,
   "metadata": {},
   "outputs": [
    {
     "name": "stdout",
     "output_type": "stream",
     "text": [
      "Training score: 0.7555555555555555. Test score: 0.5625\n"
     ]
    }
   ],
   "source": [
    "clf = RandomForestClassifier(n_estimators=100, max_depth=2, random_state=0)\n",
    "clf.fit(X_pca_train, Y_train)\n",
    "Y_pred = clf.predict(X_pca_test)\n",
    "scrore_train, score_test = h.print_evaluation(clf, X_pca_train, Y_train, Y_test, Y_pred, False)\n",
    "\n",
    "print('Training score: {}. Test score: {}'.format(scrore_train,score_test))"
   ]
  },
  {
   "cell_type": "code",
   "execution_count": 26,
   "metadata": {},
   "outputs": [
    {
     "name": "stdout",
     "output_type": "stream",
     "text": [
      "Training score: 0.7444444444444445. Test score: 0.6666666666666666\n"
     ]
    }
   ],
   "source": [
    "clf = RandomForestClassifier(n_estimators=100, max_depth=2, random_state=0)\n",
    "clf.fit(X_lda_train, Y_train)\n",
    "Y_pred = clf.predict(X_lda_test)\n",
    "scrore_train, score_test = h.print_evaluation(clf, X_lda_train, Y_train, Y_test, Y_pred, False)\n",
    "\n",
    "print('Training score: {}. Test score: {}'.format(scrore_train,score_test))"
   ]
  },
  {
   "cell_type": "code",
   "execution_count": null,
   "metadata": {},
   "outputs": [],
   "source": []
  }
 ],
 "metadata": {
  "kernelspec": {
   "display_name": "Python 3",
   "language": "python",
   "name": "python3"
  },
  "language_info": {
   "codemirror_mode": {
    "name": "ipython",
    "version": 3
   },
   "file_extension": ".py",
   "mimetype": "text/x-python",
   "name": "python",
   "nbconvert_exporter": "python",
   "pygments_lexer": "ipython3",
   "version": "3.6.7"
  }
 },
 "nbformat": 4,
 "nbformat_minor": 2
}
