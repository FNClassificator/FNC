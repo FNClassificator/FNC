{
 "cells": [
  {
   "cell_type": "code",
   "execution_count": 3,
   "metadata": {},
   "outputs": [],
   "source": [
    "#imports\n",
    "import warnings\n",
    "warnings.filterwarnings('ignore')\n",
    "\n",
    "import sys\n",
    "sys.path.append('/home/elenaruiz/Documents/FNC')\n",
    "import pandas as pd\n",
    "import numpy as np\n",
    "from src.utils import io\n",
    "from src.fake_news_detector.core.classificators import LDA, QDA, helpers\n",
    "import matplotlib.pyplot as plt"
   ]
  },
  {
   "cell_type": "markdown",
   "metadata": {},
   "source": [
    "## Import dataset"
   ]
  },
  {
   "cell_type": "code",
   "execution_count": 67,
   "metadata": {},
   "outputs": [],
   "source": [
    "articles = io.read_json_file('/home/elenaruiz/Documents/FNC/src/data/dataset_style.json')\n",
    "df = pd.DataFrame(data=articles['articles'])\n"
   ]
  },
  {
   "cell_type": "markdown",
   "metadata": {},
   "source": [
    "## Variables to classify"
   ]
  },
  {
   "cell_type": "code",
   "execution_count": 50,
   "metadata": {},
   "outputs": [
    {
     "data": {
      "text/html": [
       "<div>\n",
       "<style scoped>\n",
       "    .dataframe tbody tr th:only-of-type {\n",
       "        vertical-align: middle;\n",
       "    }\n",
       "\n",
       "    .dataframe tbody tr th {\n",
       "        vertical-align: top;\n",
       "    }\n",
       "\n",
       "    .dataframe thead th {\n",
       "        text-align: right;\n",
       "    }\n",
       "</style>\n",
       "<table border=\"1\" class=\"dataframe\">\n",
       "  <thead>\n",
       "    <tr style=\"text-align: right;\">\n",
       "      <th></th>\n",
       "      <th>pert_different_words</th>\n",
       "      <th>title_sentiment</th>\n",
       "      <th>pert_total_nouns</th>\n",
       "      <th>n_words</th>\n",
       "      <th>mean_character_per_word</th>\n",
       "    </tr>\n",
       "  </thead>\n",
       "  <tbody>\n",
       "    <tr>\n",
       "      <th>0</th>\n",
       "      <td>0.696296</td>\n",
       "      <td>-0.5719</td>\n",
       "      <td>0.607407</td>\n",
       "      <td>135</td>\n",
       "      <td>6.096296</td>\n",
       "    </tr>\n",
       "    <tr>\n",
       "      <th>1</th>\n",
       "      <td>0.622951</td>\n",
       "      <td>-0.1027</td>\n",
       "      <td>0.612022</td>\n",
       "      <td>183</td>\n",
       "      <td>6.688525</td>\n",
       "    </tr>\n",
       "    <tr>\n",
       "      <th>2</th>\n",
       "      <td>0.818966</td>\n",
       "      <td>-0.4588</td>\n",
       "      <td>0.594828</td>\n",
       "      <td>116</td>\n",
       "      <td>5.896552</td>\n",
       "    </tr>\n",
       "    <tr>\n",
       "      <th>3</th>\n",
       "      <td>0.772727</td>\n",
       "      <td>-0.2023</td>\n",
       "      <td>0.439394</td>\n",
       "      <td>66</td>\n",
       "      <td>5.363636</td>\n",
       "    </tr>\n",
       "    <tr>\n",
       "      <th>4</th>\n",
       "      <td>0.818182</td>\n",
       "      <td>-0.4767</td>\n",
       "      <td>0.636364</td>\n",
       "      <td>66</td>\n",
       "      <td>6.454545</td>\n",
       "    </tr>\n",
       "  </tbody>\n",
       "</table>\n",
       "</div>"
      ],
      "text/plain": [
       "   pert_different_words  title_sentiment  pert_total_nouns  n_words  \\\n",
       "0              0.696296          -0.5719          0.607407      135   \n",
       "1              0.622951          -0.1027          0.612022      183   \n",
       "2              0.818966          -0.4588          0.594828      116   \n",
       "3              0.772727          -0.2023          0.439394       66   \n",
       "4              0.818182          -0.4767          0.636364       66   \n",
       "\n",
       "   mean_character_per_word  \n",
       "0                 6.096296  \n",
       "1                 6.688525  \n",
       "2                 5.896552  \n",
       "3                 5.363636  \n",
       "4                 6.454545  "
      ]
     },
     "execution_count": 50,
     "metadata": {},
     "output_type": "execute_result"
    }
   ],
   "source": [
    "column_names = ['pert_different_words', 'title_sentiment', 'pert_total_nouns', 'n_words', 'mean_character_per_word' ]\n",
    "\n",
    "df[column_names].head()"
   ]
  },
  {
   "cell_type": "markdown",
   "metadata": {},
   "source": [
    "## Standarize"
   ]
  },
  {
   "cell_type": "code",
   "execution_count": 51,
   "metadata": {},
   "outputs": [
    {
     "data": {
      "text/html": [
       "<div>\n",
       "<style scoped>\n",
       "    .dataframe tbody tr th:only-of-type {\n",
       "        vertical-align: middle;\n",
       "    }\n",
       "\n",
       "    .dataframe tbody tr th {\n",
       "        vertical-align: top;\n",
       "    }\n",
       "\n",
       "    .dataframe thead th {\n",
       "        text-align: right;\n",
       "    }\n",
       "</style>\n",
       "<table border=\"1\" class=\"dataframe\">\n",
       "  <thead>\n",
       "    <tr style=\"text-align: right;\">\n",
       "      <th></th>\n",
       "      <th>pert_different_words</th>\n",
       "      <th>title_sentiment</th>\n",
       "      <th>pert_total_nouns</th>\n",
       "      <th>n_words</th>\n",
       "      <th>mean_character_per_word</th>\n",
       "      <th>fake</th>\n",
       "    </tr>\n",
       "  </thead>\n",
       "  <tbody>\n",
       "    <tr>\n",
       "      <th>0</th>\n",
       "      <td>-0.649147</td>\n",
       "      <td>-1.167710</td>\n",
       "      <td>-0.096697</td>\n",
       "      <td>-0.581606</td>\n",
       "      <td>-0.409509</td>\n",
       "      <td>True</td>\n",
       "    </tr>\n",
       "    <tr>\n",
       "      <th>1</th>\n",
       "      <td>-1.677833</td>\n",
       "      <td>0.243214</td>\n",
       "      <td>-0.026393</td>\n",
       "      <td>-0.203453</td>\n",
       "      <td>0.969930</td>\n",
       "      <td>True</td>\n",
       "    </tr>\n",
       "    <tr>\n",
       "      <th>2</th>\n",
       "      <td>1.071316</td>\n",
       "      <td>-0.827608</td>\n",
       "      <td>-0.288358</td>\n",
       "      <td>-0.731292</td>\n",
       "      <td>-0.874761</td>\n",
       "      <td>True</td>\n",
       "    </tr>\n",
       "    <tr>\n",
       "      <th>3</th>\n",
       "      <td>0.422814</td>\n",
       "      <td>-0.056292</td>\n",
       "      <td>-2.656488</td>\n",
       "      <td>-1.125202</td>\n",
       "      <td>-2.116046</td>\n",
       "      <td>True</td>\n",
       "    </tr>\n",
       "    <tr>\n",
       "      <th>4</th>\n",
       "      <td>1.060324</td>\n",
       "      <td>-0.881435</td>\n",
       "      <td>0.344470</td>\n",
       "      <td>-1.125202</td>\n",
       "      <td>0.424938</td>\n",
       "      <td>True</td>\n",
       "    </tr>\n",
       "  </tbody>\n",
       "</table>\n",
       "</div>"
      ],
      "text/plain": [
       "   pert_different_words  title_sentiment  pert_total_nouns   n_words  \\\n",
       "0             -0.649147        -1.167710         -0.096697 -0.581606   \n",
       "1             -1.677833         0.243214         -0.026393 -0.203453   \n",
       "2              1.071316        -0.827608         -0.288358 -0.731292   \n",
       "3              0.422814        -0.056292         -2.656488 -1.125202   \n",
       "4              1.060324        -0.881435          0.344470 -1.125202   \n",
       "\n",
       "   mean_character_per_word  fake  \n",
       "0                -0.409509  True  \n",
       "1                 0.969930  True  \n",
       "2                -0.874761  True  \n",
       "3                -2.116046  True  \n",
       "4                 0.424938  True  "
      ]
     },
     "execution_count": 51,
     "metadata": {},
     "output_type": "execute_result"
    }
   ],
   "source": [
    "from sklearn.preprocessing import StandardScaler\n",
    "x = df[column_names]\n",
    "\n",
    "scaler = StandardScaler()\n",
    "scaled_df = scaler.fit_transform(x)\n",
    "\n",
    "dataset_std = pd.DataFrame(scaled_df, columns=column_names)\n",
    "\n",
    "# Add factor label\n",
    "dataset_std['fake'] = df['fake']\n",
    "dataset_std.head()"
   ]
  },
  {
   "cell_type": "markdown",
   "metadata": {},
   "source": [
    "## Split datasets"
   ]
  },
  {
   "cell_type": "code",
   "execution_count": 174,
   "metadata": {},
   "outputs": [],
   "source": [
    "from sklearn.model_selection import train_test_split\n",
    "df_train, df_test = train_test_split(dataset_std, test_size=0.2, random_state=42)\n",
    "# V A L U E S\n",
    "X_std_train = df_train[column_names].values\n",
    "Y_train = df_train.fake*1\n",
    "X_std_test = df_test[column_names].values\n",
    "Y_test = df_test.fake*1"
   ]
  },
  {
   "cell_type": "markdown",
   "metadata": {},
   "source": [
    "## Direct Classification with SVM"
   ]
  },
  {
   "cell_type": "code",
   "execution_count": 175,
   "metadata": {},
   "outputs": [],
   "source": [
    "from src.fake_news_detector.core.classificators import SupportVectorMachine as s\n",
    "from sklearn import svm\n",
    "from sklearn.model_selection import GridSearchCV"
   ]
  },
  {
   "cell_type": "code",
   "execution_count": 176,
   "metadata": {},
   "outputs": [],
   "source": [
    "def svc_param_selection(X, y, nfolds, kernel):\n",
    "    Cs = [0.001, 0.01, 0.1, 1, 10]\n",
    "    gammas = [0.001, 0.01, 0.1, 1]\n",
    "    param_grid = {'C': Cs, 'gamma' : gammas}\n",
    "    grid_search = GridSearchCV(svm.SVC(kernel=kernel), param_grid, cv=nfolds)\n",
    "    grid_search.fit(X, y)\n",
    "    grid_search.best_params_\n",
    "    return grid_search.best_params_"
   ]
  },
  {
   "cell_type": "code",
   "execution_count": 177,
   "metadata": {},
   "outputs": [
    {
     "name": "stderr",
     "output_type": "stream",
     "text": [
      "/home/elenaruiz/Documents/FNC/env/lib/python3.6/site-packages/sklearn/model_selection/_search.py:841: DeprecationWarning: The default of the `iid` parameter will change from True to False in version 0.22 and will be removed in 0.24. This will change numeric results when test-set sizes are unequal.\n",
      "  DeprecationWarning)\n"
     ]
    },
    {
     "name": "stdout",
     "output_type": "stream",
     "text": [
      "For rbf: {'C': 10, 'gamma': 0.01}\n"
     ]
    },
    {
     "name": "stderr",
     "output_type": "stream",
     "text": [
      "/home/elenaruiz/Documents/FNC/env/lib/python3.6/site-packages/sklearn/model_selection/_search.py:841: DeprecationWarning: The default of the `iid` parameter will change from True to False in version 0.22 and will be removed in 0.24. This will change numeric results when test-set sizes are unequal.\n",
      "  DeprecationWarning)\n"
     ]
    },
    {
     "name": "stdout",
     "output_type": "stream",
     "text": [
      "For linear: {'C': 0.1, 'gamma': 0.001}\n"
     ]
    },
    {
     "name": "stderr",
     "output_type": "stream",
     "text": [
      "/home/elenaruiz/Documents/FNC/env/lib/python3.6/site-packages/sklearn/model_selection/_search.py:841: DeprecationWarning: The default of the `iid` parameter will change from True to False in version 0.22 and will be removed in 0.24. This will change numeric results when test-set sizes are unequal.\n",
      "  DeprecationWarning)\n"
     ]
    },
    {
     "name": "stdout",
     "output_type": "stream",
     "text": [
      "For poly: {'C': 1, 'gamma': 1}\n",
      "For sigmoid: {'C': 10, 'gamma': 0.01}\n"
     ]
    },
    {
     "name": "stderr",
     "output_type": "stream",
     "text": [
      "/home/elenaruiz/Documents/FNC/env/lib/python3.6/site-packages/sklearn/model_selection/_search.py:841: DeprecationWarning: The default of the `iid` parameter will change from True to False in version 0.22 and will be removed in 0.24. This will change numeric results when test-set sizes are unequal.\n",
      "  DeprecationWarning)\n"
     ]
    }
   ],
   "source": [
    "print('For rbf:', svc_param_selection(X_std_train, Y_train, 2, 'rbf'))\n",
    "print('For linear:', svc_param_selection(X_std_train, Y_train, 2, 'linear'))\n",
    "print('For poly:', svc_param_selection(X_std_train, Y_train, 2, 'poly'))\n",
    "print('For sigmoid:', svc_param_selection(X_std_train, Y_train, 2, 'sigmoid'))"
   ]
  },
  {
   "cell_type": "code",
   "execution_count": 178,
   "metadata": {},
   "outputs": [],
   "source": [
    "models = {}\n",
    "models['rbf'] = svm.SVC(kernel='rbf', C= 10, gamma=0.01)\n",
    "models['linear']  = svm.SVC(kernel='linear', C= 0.1, gamma=0.001)\n",
    "models['poly']  = svm.SVC(kernel='poly',C= 1, gamma=1)\n",
    "models['sigmoid'] = svm.SVC(kernel='sigmoid', C=10, gamma=0.01)"
   ]
  },
  {
   "cell_type": "code",
   "execution_count": 179,
   "metadata": {},
   "outputs": [
    {
     "name": "stdout",
     "output_type": "stream",
     "text": [
      "For model rbf\n",
      "Training score: 0.7706422018348624. Test score: 0.6\n",
      "For model linear\n",
      "Training score: 0.7431192660550459. Test score: 0.6428571428571429\n",
      "For model poly\n",
      "Training score: 0.8807339449541285. Test score: 0.7272727272727273\n",
      "For model sigmoid\n",
      "Training score: 0.7431192660550459. Test score: 0.6428571428571429\n"
     ]
    }
   ],
   "source": [
    "scores = s.run_models(models, X_std_train, Y_train, X_std_test, Y_test)\n",
    "for model in scores:\n",
    "    print('For model', model)\n",
    "    print('Training score: {}. Test score: {}'.format(scores[model]['train'],scores[model]['test']))"
   ]
  },
  {
   "cell_type": "markdown",
   "metadata": {},
   "source": [
    "## Dimensional reduction with PCA"
   ]
  },
  {
   "cell_type": "code",
   "execution_count": 180,
   "metadata": {},
   "outputs": [],
   "source": [
    "from sklearn.decomposition import PCA \n",
    "pca_model = PCA(n_components=2) # Create model\n",
    "X_pca_train = pca_model.fit_transform(X_std_train) # Train and transform training data\n",
    "X_pca_test = pca_model.fit_transform(X_std_test) # Transform test data"
   ]
  },
  {
   "cell_type": "markdown",
   "metadata": {},
   "source": [
    "See the results:"
   ]
  },
  {
   "cell_type": "code",
   "execution_count": 181,
   "metadata": {},
   "outputs": [
    {
     "data": {
      "image/png": "[encoded data removed]",
      "text/plain": [
       "<Figure size 576x576 with 1 Axes>"
      ]
     },
     "metadata": {
      "needs_background": "light"
     },
     "output_type": "display_data"
    }
   ],
   "source": [
    "principalDf = pd.DataFrame(data = X_pca_train, columns = ['principal component 1', 'principal component 2'])\n",
    "finalDf = pd.concat([principalDf, Y_train], axis = 1)\n",
    "\n",
    "fig = plt.figure(figsize = (8,8))\n",
    "ax = fig.add_subplot(1,1,1) \n",
    "ax.set_xlabel('Principal Component 1', fontsize = 15)\n",
    "ax.set_ylabel('Principal Component 2', fontsize = 15)\n",
    "ax.set_title('2 component PCA', fontsize = 20)\n",
    "\n",
    "targets = [False, True]\n",
    "colors = ['b', 'y']\n",
    "for target, color in zip(targets,colors):\n",
    "    indicesToKeep = finalDf['fake'] == target\n",
    "    ax.scatter(finalDf.loc[indicesToKeep, 'principal component 1']\n",
    "               , finalDf.loc[indicesToKeep, 'principal component 2']\n",
    "               , c = color\n",
    "               , s = 50)\n",
    "ax.legend(targets)\n",
    "ax.grid()"
   ]
  },
  {
   "cell_type": "markdown",
   "metadata": {},
   "source": [
    "### Dimensional reduction with LDA"
   ]
  },
  {
   "cell_type": "code",
   "execution_count": 182,
   "metadata": {},
   "outputs": [],
   "source": [
    "from sklearn.discriminant_analysis import LinearDiscriminantAnalysis as LDA\n",
    "lda_model = LDA(n_components = 20)\n",
    "X_lda_train = lda_model.fit(X_std_train, Y_train).transform(X_std_train)\n",
    "X_lda_test = lda_model.transform(X_std_test)"
   ]
  },
  {
   "cell_type": "markdown",
   "metadata": {},
   "source": [
    "### Dimensional reduction with QDA"
   ]
  },
  {
   "cell_type": "code",
   "execution_count": 183,
   "metadata": {},
   "outputs": [],
   "source": [
    "#from sklearn.discriminant_analysis import QuadraticDiscriminantAnalysis as QDA\n",
    "#qda_model = QDA()\n",
    "#X_qda_train = qda_model.fit(X_std_train, Y_train)\n",
    "#X_qda_train"
   ]
  },
  {
   "cell_type": "code",
   "execution_count": 184,
   "metadata": {},
   "outputs": [],
   "source": [
    "#X_qda_test = lda_model.transform(X_std_test)"
   ]
  },
  {
   "cell_type": "markdown",
   "metadata": {},
   "source": [
    "### Binary Classification with SVM"
   ]
  },
  {
   "cell_type": "markdown",
   "metadata": {},
   "source": [
    "### From PCA Reduction"
   ]
  },
  {
   "cell_type": "code",
   "execution_count": 185,
   "metadata": {},
   "outputs": [
    {
     "name": "stderr",
     "output_type": "stream",
     "text": [
      "/home/elenaruiz/Documents/FNC/env/lib/python3.6/site-packages/sklearn/model_selection/_search.py:841: DeprecationWarning: The default of the `iid` parameter will change from True to False in version 0.22 and will be removed in 0.24. This will change numeric results when test-set sizes are unequal.\n",
      "  DeprecationWarning)\n"
     ]
    },
    {
     "name": "stdout",
     "output_type": "stream",
     "text": [
      "For rbf: {'C': 10, 'gamma': 0.01}\n"
     ]
    },
    {
     "name": "stderr",
     "output_type": "stream",
     "text": [
      "/home/elenaruiz/Documents/FNC/env/lib/python3.6/site-packages/sklearn/model_selection/_search.py:841: DeprecationWarning: The default of the `iid` parameter will change from True to False in version 0.22 and will be removed in 0.24. This will change numeric results when test-set sizes are unequal.\n",
      "  DeprecationWarning)\n"
     ]
    },
    {
     "name": "stdout",
     "output_type": "stream",
     "text": [
      "For linear: {'C': 0.1, 'gamma': 0.001}\n"
     ]
    },
    {
     "name": "stderr",
     "output_type": "stream",
     "text": [
      "/home/elenaruiz/Documents/FNC/env/lib/python3.6/site-packages/sklearn/model_selection/_search.py:841: DeprecationWarning: The default of the `iid` parameter will change from True to False in version 0.22 and will be removed in 0.24. This will change numeric results when test-set sizes are unequal.\n",
      "  DeprecationWarning)\n"
     ]
    },
    {
     "name": "stdout",
     "output_type": "stream",
     "text": [
      "For poly: {'C': 1, 'gamma': 1}\n",
      "For sigmoid: {'C': 0.1, 'gamma': 1}\n"
     ]
    },
    {
     "name": "stderr",
     "output_type": "stream",
     "text": [
      "/home/elenaruiz/Documents/FNC/env/lib/python3.6/site-packages/sklearn/model_selection/_search.py:841: DeprecationWarning: The default of the `iid` parameter will change from True to False in version 0.22 and will be removed in 0.24. This will change numeric results when test-set sizes are unequal.\n",
      "  DeprecationWarning)\n"
     ]
    }
   ],
   "source": [
    "print('For rbf:', svc_param_selection(X_pca_train, Y_train, 2, 'rbf'))\n",
    "print('For linear:', svc_param_selection(X_pca_train, Y_train, 2, 'linear'))\n",
    "print('For poly:', svc_param_selection(X_pca_train, Y_train, 2, 'poly'))\n",
    "print('For sigmoid:', svc_param_selection(X_pca_train, Y_train, 2, 'sigmoid'))"
   ]
  },
  {
   "cell_type": "code",
   "execution_count": 186,
   "metadata": {},
   "outputs": [],
   "source": [
    "models = {}\n",
    "models['rbf'] = svm.SVC(kernel='rbf', gamma=0.01, C= 10)\n",
    "models['linear']  = svm.SVC(kernel='linear', gamma=0.001, C= 0.1)\n",
    "models['poly']  = svm.SVC(kernel='poly', gamma=1, C= 1)\n",
    "models['sigmoid'] = svm.SVC(kernel='sigmoid', gamma=1, C= 0.1)"
   ]
  },
  {
   "cell_type": "code",
   "execution_count": 187,
   "metadata": {},
   "outputs": [
    {
     "name": "stdout",
     "output_type": "stream",
     "text": [
      "For model rbf\n",
      "Training score: 0.6972477064220184. Test score: 0.6363636363636364\n",
      "For model linear\n",
      "Training score: 0.7064220183486238. Test score: 0.6363636363636364\n",
      "For model poly\n",
      "Training score: 0.6880733944954128. Test score: 0.875\n",
      "For model sigmoid\n",
      "Training score: 0.6605504587155964. Test score: 0.5\n"
     ]
    }
   ],
   "source": [
    "scores = s.run_models(models, X_pca_train, Y_train, X_pca_test, Y_test)\n",
    "for model in scores:\n",
    "    print('For model', model)\n",
    "    print('Training score: {}. Test score: {}'.format(scores[model]['train'],scores[model]['test']))"
   ]
  },
  {
   "cell_type": "code",
   "execution_count": 188,
   "metadata": {},
   "outputs": [],
   "source": [
    "def plot_scikit_lda(X,y, title):\n",
    "    label_dict = {0: 'Real', 1: 'Fake'}\n",
    "    ax = plt.subplot(111)\n",
    "    for label,marker,color in zip(\n",
    "        range(0,2),('^', 's'),('blue', 'red')):\n",
    "\n",
    "        plt.scatter(x=X[:,0][y == label],\n",
    "                    y=X[:,1][y == label] * -1, # flip the figure\n",
    "                    marker=marker,\n",
    "                    color=color,\n",
    "                    alpha=0.5,\n",
    "                    label=label_dict[label])\n",
    "\n",
    "    plt.xlabel('LD1')\n",
    "    plt.ylabel('LD2')\n",
    "\n",
    "    leg = plt.legend(loc='upper right', fancybox=True)\n",
    "    leg.get_frame().set_alpha(0.5)\n",
    "    plt.title(title)\n",
    "\n",
    "    # hide axis ticks\n",
    "    plt.tick_params(axis=\"both\", which=\"both\", bottom=\"off\", top=\"off\",  \n",
    "            labelbottom=\"on\", left=\"off\", right=\"off\", labelleft=\"on\")\n",
    "\n",
    "    # remove axis spines\n",
    "    ax.spines[\"top\"].set_visible(False)  \n",
    "    ax.spines[\"right\"].set_visible(False)\n",
    "    ax.spines[\"bottom\"].set_visible(False)\n",
    "    ax.spines[\"left\"].set_visible(False)    \n",
    "\n",
    "    plt.grid()\n",
    "    plt.tight_layout\n",
    "    plt.show()"
   ]
  },
  {
   "cell_type": "code",
   "execution_count": 189,
   "metadata": {},
   "outputs": [
    {
     "data": {
      "image/png": "[encoded data removed]",
      "text/plain": [
       "<Figure size 432x288 with 1 Axes>"
      ]
     },
     "metadata": {
      "needs_background": "light"
     },
     "output_type": "display_data"
    }
   ],
   "source": [
    "plot_scikit_lda(X_pca_test,Y_test, 'hola')"
   ]
  },
  {
   "cell_type": "code",
   "execution_count": 197,
   "metadata": {},
   "outputs": [
    {
     "name": "stderr",
     "output_type": "stream",
     "text": [
      "'c' argument looks like a single numeric RGB or RGBA sequence, which should be avoided as value-mapping will have precedence in case its length matches with 'x' & 'y'.  Please use a 2-D array with a single row if you really want to specify the same RGB or RGBA value for all points.\n",
      "'c' argument looks like a single numeric RGB or RGBA sequence, which should be avoided as value-mapping will have precedence in case its length matches with 'x' & 'y'.  Please use a 2-D array with a single row if you really want to specify the same RGB or RGBA value for all points.\n"
     ]
    },
    {
     "data": {
      "image/png": "[encoded data removed]",
      "text/plain": [
       "<Figure size 432x288 with 1 Axes>"
      ]
     },
     "metadata": {
      "needs_background": "light"
     },
     "output_type": "display_data"
    }
   ],
   "source": [
    "X_set, y_set = X_pca_train, Y_train\n",
    "\n",
    "aranged_pc1 = np.arange(start = X_set[:, 0].min(), stop = X_set[:, 0].max(), step = 0.01)\n",
    "aranged_pc2 = np.arange(start = X_set[:, 1].min(), stop = X_set[:, 1].max(), step = 0.01)\n",
    "\n",
    "X1, X2 = np.meshgrid(aranged_pc1, aranged_pc2)\n",
    "plt.contourf(X1, X2, models['poly'].predict(np.array([X1.ravel(), X2.ravel()]).T).reshape(X1.shape),\n",
    "alpha = 0.5, cmap = ListedColormap(('orange', 'blue')))\n",
    "\n",
    "plt.xlim(X1.min(), X1.max())\n",
    "plt.ylim(X2.min(), X2.max())\n",
    "for i, j in enumerate(np.unique(y_set)):\n",
    "    plt.scatter(X_set[y_set == j, 0], X_set[y_set == j, 1],\n",
    "                c = ListedColormap(('red', 'green'))(i), label = j)\n",
    "plt.title('SVM training from LDA transformation')\n",
    "plt.xlabel('LD1')\n",
    "plt.ylabel('LD2')\n",
    "plt.legend()\n",
    "plt.show()"
   ]
  },
  {
   "cell_type": "code",
   "execution_count": 198,
   "metadata": {},
   "outputs": [
    {
     "name": "stderr",
     "output_type": "stream",
     "text": [
      "'c' argument looks like a single numeric RGB or RGBA sequence, which should be avoided as value-mapping will have precedence in case its length matches with 'x' & 'y'.  Please use a 2-D array with a single row if you really want to specify the same RGB or RGBA value for all points.\n",
      "'c' argument looks like a single numeric RGB or RGBA sequence, which should be avoided as value-mapping will have precedence in case its length matches with 'x' & 'y'.  Please use a 2-D array with a single row if you really want to specify the same RGB or RGBA value for all points.\n"
     ]
    },
    {
     "data": {
      "image/png": "[encoded data removed]",
      "text/plain": [
       "<Figure size 432x288 with 1 Axes>"
      ]
     },
     "metadata": {
      "needs_background": "light"
     },
     "output_type": "display_data"
    }
   ],
   "source": [
    "X_set, y_set = X_pca_test, Y_test\n",
    "\n",
    "aranged_pc1 = np.arange(start = X_set[:, 0].min(), stop = X_set[:, 0].max(), step = 0.01)\n",
    "aranged_pc2 = np.arange(start = X_set[:, 1].min(), stop = X_set[:, 1].max(), step = 0.01)\n",
    "\n",
    "X1, X2 = np.meshgrid(aranged_pc1, aranged_pc2)\n",
    "plt.contourf(X1, X2, models['poly'].predict(np.array([X1.ravel(), X2.ravel()]).T).reshape(X1.shape),\n",
    "alpha = 0.5, cmap = ListedColormap(('orange', 'blue')))\n",
    "\n",
    "plt.xlim(X1.min(), X1.max())\n",
    "plt.ylim(X2.min(), X2.max())\n",
    "for i, j in enumerate(np.unique(y_set)):\n",
    "    plt.scatter(X_set[y_set == j, 0], X_set[y_set == j, 1],\n",
    "                c = ListedColormap(('red', 'green'))(i), label = j)\n",
    "plt.title('SVM prediction from LDA transformation')\n",
    "plt.xlabel('LD1')\n",
    "plt.ylabel('LD2')\n",
    "plt.legend()\n",
    "plt.show()"
   ]
  },
  {
   "cell_type": "markdown",
   "metadata": {},
   "source": [
    "### From LDA reduction"
   ]
  },
  {
   "cell_type": "code",
   "execution_count": 163,
   "metadata": {},
   "outputs": [
    {
     "name": "stderr",
     "output_type": "stream",
     "text": [
      "/home/elenaruiz/Documents/FNC/env/lib/python3.6/site-packages/sklearn/model_selection/_search.py:841: DeprecationWarning: The default of the `iid` parameter will change from True to False in version 0.22 and will be removed in 0.24. This will change numeric results when test-set sizes are unequal.\n",
      "  DeprecationWarning)\n"
     ]
    },
    {
     "name": "stdout",
     "output_type": "stream",
     "text": [
      "For rbf: {'C': 1, 'gamma': 1}\n"
     ]
    },
    {
     "name": "stderr",
     "output_type": "stream",
     "text": [
      "/home/elenaruiz/Documents/FNC/env/lib/python3.6/site-packages/sklearn/model_selection/_search.py:841: DeprecationWarning: The default of the `iid` parameter will change from True to False in version 0.22 and will be removed in 0.24. This will change numeric results when test-set sizes are unequal.\n",
      "  DeprecationWarning)\n"
     ]
    },
    {
     "name": "stdout",
     "output_type": "stream",
     "text": [
      "For linear: {'C': 1, 'gamma': 0.001}\n"
     ]
    },
    {
     "name": "stderr",
     "output_type": "stream",
     "text": [
      "/home/elenaruiz/Documents/FNC/env/lib/python3.6/site-packages/sklearn/model_selection/_search.py:841: DeprecationWarning: The default of the `iid` parameter will change from True to False in version 0.22 and will be removed in 0.24. This will change numeric results when test-set sizes are unequal.\n",
      "  DeprecationWarning)\n"
     ]
    },
    {
     "name": "stdout",
     "output_type": "stream",
     "text": [
      "For poly: {'C': 0.01, 'gamma': 1}\n",
      "For sigmoid: {'C': 10, 'gamma': 0.1}\n"
     ]
    },
    {
     "name": "stderr",
     "output_type": "stream",
     "text": [
      "/home/elenaruiz/Documents/FNC/env/lib/python3.6/site-packages/sklearn/model_selection/_search.py:841: DeprecationWarning: The default of the `iid` parameter will change from True to False in version 0.22 and will be removed in 0.24. This will change numeric results when test-set sizes are unequal.\n",
      "  DeprecationWarning)\n"
     ]
    }
   ],
   "source": [
    "print('For rbf:', svc_param_selection(X_lda_train, Y_train, 2, 'rbf'))\n",
    "print('For linear:', svc_param_selection(X_lda_train, Y_train, 2, 'linear'))\n",
    "print('For poly:', svc_param_selection(X_lda_train, Y_train, 2, 'poly'))\n",
    "print('For sigmoid:', svc_param_selection(X_lda_train, Y_train, 2, 'sigmoid'))"
   ]
  },
  {
   "cell_type": "code",
   "execution_count": 164,
   "metadata": {},
   "outputs": [],
   "source": [
    "models = {}\n",
    "models['rbf'] = svm.SVC(kernel='rbf', gamma=1, C= 1)\n",
    "models['linear']  = svm.SVC(kernel='linear', gamma=0.001, C= 1)\n",
    "models['poly']  = svm.SVC(kernel='poly', gamma=1, C= 0.01)\n",
    "models['sigmoid'] = svm.SVC(kernel='sigmoid', gamma=0.1, C= 10)"
   ]
  },
  {
   "cell_type": "code",
   "execution_count": 165,
   "metadata": {},
   "outputs": [
    {
     "name": "stdout",
     "output_type": "stream",
     "text": [
      "For model rbf\n",
      "Training score: 0.7614678899082569. Test score: 0.6428571428571429\n",
      "For model linear\n",
      "Training score: 0.7614678899082569. Test score: 0.6428571428571429\n",
      "For model poly\n",
      "Training score: 0.6330275229357798. Test score: 0.5263157894736842\n",
      "For model sigmoid\n",
      "Training score: 0.7614678899082569. Test score: 0.6428571428571429\n"
     ]
    }
   ],
   "source": [
    "scores = s.run_models(models, X_lda_train, Y_train, X_lda_test, Y_test)\n",
    "for model in scores:\n",
    "    print('For model', model)\n",
    "    print('Training score: {}. Test score: {}'.format(scores[model]['train'],scores[model]['test']))"
   ]
  },
  {
   "cell_type": "markdown",
   "metadata": {},
   "source": [
    "### Binary Classification with Random Forest"
   ]
  },
  {
   "cell_type": "code",
   "execution_count": 99,
   "metadata": {},
   "outputs": [],
   "source": [
    "from src.fake_news_detector.core.classificators import helpers as h\n",
    "from sklearn.ensemble import RandomForestClassifier"
   ]
  },
  {
   "cell_type": "code",
   "execution_count": 25,
   "metadata": {},
   "outputs": [
    {
     "name": "stdout",
     "output_type": "stream",
     "text": [
      "Training score: 0.7555555555555555. Test score: 0.5625\n"
     ]
    }
   ],
   "source": [
    "clf = RandomForestClassifier(n_estimators=100, max_depth=2, random_state=0)\n",
    "clf.fit(X_pca_train, Y_train)\n",
    "Y_pred = clf.predict(X_pca_test)\n",
    "scrore_train, score_test = h.print_evaluation(clf, X_pca_train, Y_train, Y_test, Y_pred, False)\n",
    "\n",
    "print('Training score: {}. Test score: {}'.format(scrore_train,score_test))"
   ]
  },
  {
   "cell_type": "code",
   "execution_count": 100,
   "metadata": {},
   "outputs": [
    {
     "name": "stdout",
     "output_type": "stream",
     "text": [
      "Training score: 0.7706422018348624. Test score: 0.6153846153846154\n"
     ]
    }
   ],
   "source": [
    "clf = RandomForestClassifier(n_estimators=100, max_depth=2, random_state=0)\n",
    "clf.fit(X_lda_train, Y_train)\n",
    "Y_pred = clf.predict(X_lda_test)\n",
    "scrore_train, score_test = h.print_evaluation(clf, X_lda_train, Y_train, Y_test, Y_pred, False)\n",
    "\n",
    "print('Training score: {}. Test score: {}'.format(scrore_train,score_test))"
   ]
  },
  {
   "cell_type": "code",
   "execution_count": null,
   "metadata": {},
   "outputs": [],
   "source": []
  }
 ],
 "metadata": {
  "kernelspec": {
   "display_name": "Python 3",
   "language": "python",
   "name": "python3"
  },
  "language_info": {
   "codemirror_mode": {
    "name": "ipython",
    "version": 3
   },
   "file_extension": ".py",
   "mimetype": "text/x-python",
   "name": "python",
   "nbconvert_exporter": "python",
   "pygments_lexer": "ipython3",
   "version": "3.6.7"
  }
 },
 "nbformat": 4,
 "nbformat_minor": 2
}
