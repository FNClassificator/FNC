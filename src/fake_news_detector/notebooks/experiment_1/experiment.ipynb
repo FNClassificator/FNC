{
 "cells": [
  {
   "cell_type": "markdown",
   "metadata": {},
   "source": [
    "# Experiment One: Classify with `dataset_style.json`"
   ]
  },
  {
   "cell_type": "code",
   "execution_count": 1,
   "metadata": {},
   "outputs": [],
   "source": [
    "#imports\n",
    "import warnings\n",
    "warnings.filterwarnings('ignore')\n",
    "\n",
    "import sys\n",
    "sys.path.append('/home/elenaruiz/Documents/FNC')\n",
    "import pandas as pd\n",
    "import numpy as np\n",
    "from src.utils import io\n",
    "from src.fake_news_detector.core.classificators.svc"
   ]
  },
  {
   "cell_type": "markdown",
   "metadata": {},
   "source": [
    "## Import style dataset"
   ]
  },
  {
   "cell_type": "code",
   "execution_count": 2,
   "metadata": {},
   "outputs": [],
   "source": [
    "articles = io.read_json_file('/home/elenaruiz/Documents/FNC/src/data/dataset_style.json')\n",
    "df = pd.DataFrame(data=articles['articles'])"
   ]
  },
  {
   "cell_type": "markdown",
   "metadata": {},
   "source": [
    "## Variables to classify"
   ]
  },
  {
   "cell_type": "code",
   "execution_count": 3,
   "metadata": {},
   "outputs": [
    {
     "data": {
      "text/html": [
       "<div>\n",
       "<style scoped>\n",
       "    .dataframe tbody tr th:only-of-type {\n",
       "        vertical-align: middle;\n",
       "    }\n",
       "\n",
       "    .dataframe tbody tr th {\n",
       "        vertical-align: top;\n",
       "    }\n",
       "\n",
       "    .dataframe thead th {\n",
       "        text-align: right;\n",
       "    }\n",
       "</style>\n",
       "<table border=\"1\" class=\"dataframe\">\n",
       "  <thead>\n",
       "    <tr style=\"text-align: right;\">\n",
       "      <th></th>\n",
       "      <th>fake</th>\n",
       "      <th>mean_character_per_word</th>\n",
       "      <th>mean_noun_phrases</th>\n",
       "      <th>mean_words_per_sentence</th>\n",
       "      <th>n_quotes</th>\n",
       "      <th>n_sentences</th>\n",
       "      <th>n_words</th>\n",
       "      <th>pert_different_words</th>\n",
       "      <th>pert_total_adj</th>\n",
       "      <th>pert_total_conj_prep</th>\n",
       "      <th>pert_total_negative_words</th>\n",
       "      <th>pert_total_nouns</th>\n",
       "      <th>pert_total_positive_words</th>\n",
       "      <th>pert_total_verbs</th>\n",
       "      <th>sentiment</th>\n",
       "      <th>title_n_words</th>\n",
       "      <th>title_pert_total_conj_prep</th>\n",
       "      <th>title_pert_total_negative_words</th>\n",
       "      <th>title_pert_total_positive_words</th>\n",
       "      <th>title_sentiment</th>\n",
       "    </tr>\n",
       "  </thead>\n",
       "  <tbody>\n",
       "    <tr>\n",
       "      <th>0</th>\n",
       "      <td>True</td>\n",
       "      <td>1.0</td>\n",
       "      <td>None</td>\n",
       "      <td>4.521569</td>\n",
       "      <td>None</td>\n",
       "      <td>7</td>\n",
       "      <td>255</td>\n",
       "      <td>0.486275</td>\n",
       "      <td>0.070588</td>\n",
       "      <td>0.011765</td>\n",
       "      <td>0.039216</td>\n",
       "      <td>0.356863</td>\n",
       "      <td>0.003922</td>\n",
       "      <td>0.160784</td>\n",
       "      <td>-0.417143</td>\n",
       "      <td>10</td>\n",
       "      <td>0.011765</td>\n",
       "      <td>0.100000</td>\n",
       "      <td>0.000000</td>\n",
       "      <td>-0.5719</td>\n",
       "    </tr>\n",
       "    <tr>\n",
       "      <th>1</th>\n",
       "      <td>True</td>\n",
       "      <td>1.0</td>\n",
       "      <td>None</td>\n",
       "      <td>4.840456</td>\n",
       "      <td>None</td>\n",
       "      <td>4</td>\n",
       "      <td>351</td>\n",
       "      <td>0.444444</td>\n",
       "      <td>0.082621</td>\n",
       "      <td>0.031339</td>\n",
       "      <td>0.019943</td>\n",
       "      <td>0.321937</td>\n",
       "      <td>0.014245</td>\n",
       "      <td>0.133903</td>\n",
       "      <td>-0.117700</td>\n",
       "      <td>12</td>\n",
       "      <td>0.031339</td>\n",
       "      <td>0.000000</td>\n",
       "      <td>0.000000</td>\n",
       "      <td>-0.1027</td>\n",
       "    </tr>\n",
       "    <tr>\n",
       "      <th>2</th>\n",
       "      <td>True</td>\n",
       "      <td>1.0</td>\n",
       "      <td>None</td>\n",
       "      <td>4.285106</td>\n",
       "      <td>None</td>\n",
       "      <td>11</td>\n",
       "      <td>235</td>\n",
       "      <td>0.553191</td>\n",
       "      <td>0.063830</td>\n",
       "      <td>0.017021</td>\n",
       "      <td>0.025532</td>\n",
       "      <td>0.310638</td>\n",
       "      <td>0.029787</td>\n",
       "      <td>0.148936</td>\n",
       "      <td>0.016064</td>\n",
       "      <td>14</td>\n",
       "      <td>0.017021</td>\n",
       "      <td>0.071429</td>\n",
       "      <td>0.000000</td>\n",
       "      <td>-0.4588</td>\n",
       "    </tr>\n",
       "    <tr>\n",
       "      <th>3</th>\n",
       "      <td>True</td>\n",
       "      <td>1.0</td>\n",
       "      <td>None</td>\n",
       "      <td>4.120000</td>\n",
       "      <td>None</td>\n",
       "      <td>5</td>\n",
       "      <td>125</td>\n",
       "      <td>0.600000</td>\n",
       "      <td>0.088000</td>\n",
       "      <td>0.040000</td>\n",
       "      <td>0.040000</td>\n",
       "      <td>0.272000</td>\n",
       "      <td>0.048000</td>\n",
       "      <td>0.240000</td>\n",
       "      <td>-0.148660</td>\n",
       "      <td>12</td>\n",
       "      <td>0.040000</td>\n",
       "      <td>0.083333</td>\n",
       "      <td>0.083333</td>\n",
       "      <td>-0.6202</td>\n",
       "    </tr>\n",
       "    <tr>\n",
       "      <th>4</th>\n",
       "      <td>True</td>\n",
       "      <td>1.0</td>\n",
       "      <td>None</td>\n",
       "      <td>4.536232</td>\n",
       "      <td>None</td>\n",
       "      <td>4</td>\n",
       "      <td>138</td>\n",
       "      <td>0.594203</td>\n",
       "      <td>0.072464</td>\n",
       "      <td>0.028986</td>\n",
       "      <td>0.036232</td>\n",
       "      <td>0.311594</td>\n",
       "      <td>0.028986</td>\n",
       "      <td>0.152174</td>\n",
       "      <td>-0.023350</td>\n",
       "      <td>12</td>\n",
       "      <td>0.028986</td>\n",
       "      <td>0.083333</td>\n",
       "      <td>0.000000</td>\n",
       "      <td>-0.4767</td>\n",
       "    </tr>\n",
       "  </tbody>\n",
       "</table>\n",
       "</div>"
      ],
      "text/plain": [
       "   fake  mean_character_per_word mean_noun_phrases  mean_words_per_sentence  \\\n",
       "0  True                      1.0              None                 4.521569   \n",
       "1  True                      1.0              None                 4.840456   \n",
       "2  True                      1.0              None                 4.285106   \n",
       "3  True                      1.0              None                 4.120000   \n",
       "4  True                      1.0              None                 4.536232   \n",
       "\n",
       "  n_quotes  n_sentences  n_words  pert_different_words  pert_total_adj  \\\n",
       "0     None            7      255              0.486275        0.070588   \n",
       "1     None            4      351              0.444444        0.082621   \n",
       "2     None           11      235              0.553191        0.063830   \n",
       "3     None            5      125              0.600000        0.088000   \n",
       "4     None            4      138              0.594203        0.072464   \n",
       "\n",
       "   pert_total_conj_prep  pert_total_negative_words  pert_total_nouns  \\\n",
       "0              0.011765                   0.039216          0.356863   \n",
       "1              0.031339                   0.019943          0.321937   \n",
       "2              0.017021                   0.025532          0.310638   \n",
       "3              0.040000                   0.040000          0.272000   \n",
       "4              0.028986                   0.036232          0.311594   \n",
       "\n",
       "   pert_total_positive_words  pert_total_verbs  sentiment  title_n_words  \\\n",
       "0                   0.003922          0.160784  -0.417143             10   \n",
       "1                   0.014245          0.133903  -0.117700             12   \n",
       "2                   0.029787          0.148936   0.016064             14   \n",
       "3                   0.048000          0.240000  -0.148660             12   \n",
       "4                   0.028986          0.152174  -0.023350             12   \n",
       "\n",
       "   title_pert_total_conj_prep  title_pert_total_negative_words  \\\n",
       "0                    0.011765                         0.100000   \n",
       "1                    0.031339                         0.000000   \n",
       "2                    0.017021                         0.071429   \n",
       "3                    0.040000                         0.083333   \n",
       "4                    0.028986                         0.083333   \n",
       "\n",
       "   title_pert_total_positive_words  title_sentiment  \n",
       "0                         0.000000          -0.5719  \n",
       "1                         0.000000          -0.1027  \n",
       "2                         0.000000          -0.4588  \n",
       "3                         0.083333          -0.6202  \n",
       "4                         0.000000          -0.4767  "
      ]
     },
     "execution_count": 3,
     "metadata": {},
     "output_type": "execute_result"
    }
   ],
   "source": [
    "df.head()"
   ]
  },
  {
   "cell_type": "markdown",
   "metadata": {},
   "source": [
    "Variables with more correlation:\n",
    "    - mean_words_per_sentence\n",
    "    - pert_total_nouns\n",
    "    - pert_total_verbs\n",
    "    - n_words\n",
    "    - pert_different_words\n",
    "    - title_n_words\n",
    "    - title_sentiment"
   ]
  },
  {
   "cell_type": "code",
   "execution_count": 4,
   "metadata": {},
   "outputs": [],
   "source": [
    "df_two = df[['title_n_words','pert_total_nouns','pert_total_verbs','n_words','pert_different_words','title_n_words','title_sentiment', 'fake']]\n",
    "df_two['fake'] = df['fake']*1"
   ]
  },
  {
   "cell_type": "code",
   "execution_count": 5,
   "metadata": {},
   "outputs": [
    {
     "data": {
      "text/html": [
       "<div>\n",
       "<style scoped>\n",
       "    .dataframe tbody tr th:only-of-type {\n",
       "        vertical-align: middle;\n",
       "    }\n",
       "\n",
       "    .dataframe tbody tr th {\n",
       "        vertical-align: top;\n",
       "    }\n",
       "\n",
       "    .dataframe thead th {\n",
       "        text-align: right;\n",
       "    }\n",
       "</style>\n",
       "<table border=\"1\" class=\"dataframe\">\n",
       "  <thead>\n",
       "    <tr style=\"text-align: right;\">\n",
       "      <th></th>\n",
       "      <th>title_n_words</th>\n",
       "      <th>pert_total_nouns</th>\n",
       "      <th>pert_total_verbs</th>\n",
       "      <th>n_words</th>\n",
       "      <th>pert_different_words</th>\n",
       "      <th>title_n_words</th>\n",
       "      <th>title_sentiment</th>\n",
       "      <th>fake</th>\n",
       "    </tr>\n",
       "  </thead>\n",
       "  <tbody>\n",
       "    <tr>\n",
       "      <th>0</th>\n",
       "      <td>10</td>\n",
       "      <td>0.356863</td>\n",
       "      <td>0.160784</td>\n",
       "      <td>255</td>\n",
       "      <td>0.486275</td>\n",
       "      <td>10</td>\n",
       "      <td>-0.5719</td>\n",
       "      <td>1</td>\n",
       "    </tr>\n",
       "    <tr>\n",
       "      <th>1</th>\n",
       "      <td>12</td>\n",
       "      <td>0.321937</td>\n",
       "      <td>0.133903</td>\n",
       "      <td>351</td>\n",
       "      <td>0.444444</td>\n",
       "      <td>12</td>\n",
       "      <td>-0.1027</td>\n",
       "      <td>1</td>\n",
       "    </tr>\n",
       "    <tr>\n",
       "      <th>2</th>\n",
       "      <td>14</td>\n",
       "      <td>0.310638</td>\n",
       "      <td>0.148936</td>\n",
       "      <td>235</td>\n",
       "      <td>0.553191</td>\n",
       "      <td>14</td>\n",
       "      <td>-0.4588</td>\n",
       "      <td>1</td>\n",
       "    </tr>\n",
       "    <tr>\n",
       "      <th>3</th>\n",
       "      <td>12</td>\n",
       "      <td>0.272000</td>\n",
       "      <td>0.240000</td>\n",
       "      <td>125</td>\n",
       "      <td>0.600000</td>\n",
       "      <td>12</td>\n",
       "      <td>-0.6202</td>\n",
       "      <td>1</td>\n",
       "    </tr>\n",
       "    <tr>\n",
       "      <th>4</th>\n",
       "      <td>12</td>\n",
       "      <td>0.311594</td>\n",
       "      <td>0.152174</td>\n",
       "      <td>138</td>\n",
       "      <td>0.594203</td>\n",
       "      <td>12</td>\n",
       "      <td>-0.4767</td>\n",
       "      <td>1</td>\n",
       "    </tr>\n",
       "  </tbody>\n",
       "</table>\n",
       "</div>"
      ],
      "text/plain": [
       "   title_n_words  pert_total_nouns  pert_total_verbs  n_words  \\\n",
       "0             10          0.356863          0.160784      255   \n",
       "1             12          0.321937          0.133903      351   \n",
       "2             14          0.310638          0.148936      235   \n",
       "3             12          0.272000          0.240000      125   \n",
       "4             12          0.311594          0.152174      138   \n",
       "\n",
       "   pert_different_words  title_n_words  title_sentiment  fake  \n",
       "0              0.486275             10          -0.5719     1  \n",
       "1              0.444444             12          -0.1027     1  \n",
       "2              0.553191             14          -0.4588     1  \n",
       "3              0.600000             12          -0.6202     1  \n",
       "4              0.594203             12          -0.4767     1  "
      ]
     },
     "execution_count": 5,
     "metadata": {},
     "output_type": "execute_result"
    }
   ],
   "source": [
    "df_two.head()"
   ]
  },
  {
   "cell_type": "code",
   "execution_count": null,
   "metadata": {},
   "outputs": [],
   "source": [
    "# TODO SPLIT DF\n",
    "\n",
    "# df_train =\n",
    "# df_test = "
   ]
  },
  {
   "cell_type": "code",
   "execution_count": 6,
   "metadata": {},
   "outputs": [],
   "source": [
    "def do_test(model_type, df_train, df_test, label_tag):\n",
    "    results = []\n",
    "    list_t = ['title_n_words']\n",
    "    list_ini = ['pert_total_nouns','pert_total_verbs','n_words','pert_different_words','title_n_words','title_sentiment']\n",
    "\n",
    "    for elem in list_ini:\n",
    "        list_t.append(elem)\n",
    "        df_train[list_t]\n",
    "        pred = run_results(model, df_train[list_t], df_train[label_tag], df_test[list_t], df_test[label_tag])\n",
    "        results.append(pred)\n",
    "    return results\n",
    "        \n",
    "results = {}"
   ]
  },
  {
   "cell_type": "markdown",
   "metadata": {},
   "source": [
    "### SVC lineal"
   ]
  },
  {
   "cell_type": "code",
   "execution_count": null,
   "metadata": {},
   "outputs": [],
   "source": [
    "lineal_model = svc.SVC_kernel('lineal')\n",
    "do_test(lineal_model, df_train, df_test, 'fake')"
   ]
  },
  {
   "cell_type": "markdown",
   "metadata": {},
   "source": [
    "### SVC polynomial"
   ]
  },
  {
   "cell_type": "code",
   "execution_count": null,
   "metadata": {},
   "outputs": [],
   "source": [
    "poly_model = svc.SVC_kernel('poly', degree=2)\n",
    "do_test(poly_model, df_train, df_test, 'fake')"
   ]
  },
  {
   "cell_type": "markdown",
   "metadata": {},
   "source": [
    "### SVC RBF"
   ]
  },
  {
   "cell_type": "code",
   "execution_count": null,
   "metadata": {},
   "outputs": [],
   "source": [
    "rbf_model = svc.SVC_kernel('rbf')\n",
    "do_test(rbf_model, df_train, df_test, 'fake')"
   ]
  },
  {
   "cell_type": "markdown",
   "metadata": {},
   "source": [
    "### SVC SIGMOID"
   ]
  },
  {
   "cell_type": "code",
   "execution_count": null,
   "metadata": {},
   "outputs": [],
   "source": [
    "sigmoid_model = svc.SVC_kernel('sigmoid')\n",
    "do_test(sigmoid_model, df_train, df_test, 'fake')"
   ]
  },
  {
   "cell_type": "markdown",
   "metadata": {},
   "source": [
    "## Summary of results"
   ]
  },
  {
   "cell_type": "code",
   "execution_count": 16,
   "metadata": {},
   "outputs": [
    {
     "name": "stdout",
     "output_type": "stream",
     "text": [
      "Max value for LR model is 0.8461538461538461\n",
      "Max value for DTC model is 0.6923076923076923\n",
      "Max value for KNC model is 0.7692307692307693\n",
      "Max value for LDA model is 0.8846153846153846\n",
      "Max value for GNB model is 0.8076923076923077\n",
      "Max value for SVC model is 0.7692307692307693\n"
     ]
    }
   ],
   "source": [
    "for key in results:\n",
    "    test_accuracy_for_each_model = []\n",
    "    for elem in results[key]:\n",
    "        test_accuracy_for_each_model.append(elem[2])\n",
    "    max_value = max(test_accuracy_for_each_model)\n",
    "    print('Max value for', key, 'model is', max_value)"
   ]
  },
  {
   "cell_type": "code",
   "execution_count": null,
   "metadata": {},
   "outputs": [],
   "source": []
  }
 ],
 "metadata": {
  "kernelspec": {
   "display_name": "Python 3",
   "language": "python",
   "name": "python3"
  },
  "language_info": {
   "codemirror_mode": {
    "name": "ipython",
    "version": 3
   },
   "file_extension": ".py",
   "mimetype": "text/x-python",
   "name": "python",
   "nbconvert_exporter": "python",
   "pygments_lexer": "ipython3",
   "version": "3.7.1"
  }
 },
 "nbformat": 4,
 "nbformat_minor": 2
}
