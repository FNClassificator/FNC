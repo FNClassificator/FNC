{
 "cells": [
  {
   "cell_type": "markdown",
   "metadata": {},
   "source": [
    "# Dataset exploration"
   ]
  },
  {
   "cell_type": "code",
   "execution_count": 38,
   "metadata": {},
   "outputs": [
    {
     "name": "stderr",
     "output_type": "stream",
     "text": [
      "[nltk_data] Downloading package maxent_ne_chunker to\n",
      "[nltk_data]     /home/elenaruiz/nltk_data...\n",
      "[nltk_data]   Package maxent_ne_chunker is already up-to-date!\n",
      "[nltk_data] Downloading package words to /home/elenaruiz/nltk_data...\n",
      "[nltk_data]   Package words is already up-to-date!\n"
     ]
    }
   ],
   "source": [
    "#imports\n",
    "import nltk\n",
    "import nltk.draw\n",
    "from nltk.tokenize import PunktSentenceTokenizer\n",
    "from nltk.parse.stanford import StanfordParser\n",
    "from nltk import chunk\n",
    "from nltk import tag\n",
    "from nltk import Tree\n",
    "nltk.download('maxent_ne_chunker')\n",
    "nltk.download('words')\n",
    "from tkinter import *"
   ]
  },
  {
   "cell_type": "code",
   "execution_count": 41,
   "metadata": {},
   "outputs": [
    {
     "name": "stdout",
     "output_type": "stream",
     "text": [
      "(S\n",
      "  My/PRP$\n",
      "  name/NN\n",
      "  (Chunk is/VBZ Elena/NNP)\n",
      "  and/CC\n",
      "  I/PRP\n",
      "  am/VBP\n",
      "  happy/JJ)\n"
     ]
    }
   ],
   "source": [
    "sentence = ['My', 'name', 'is', 'Elena', 'and', 'I', 'am', 'happy']\n",
    "tagged_sent = tag.pos_tag(sentence)\n",
    "chunkGram = r\"\"\"Chunk: {<CC.?>*<VB.?>*<NNP>+<NN>?}\"\"\"\n",
    "chunkParser = nltk.RegexpParser(chunkGram)\n",
    "chunked = chunkParser.parse(tagged_sent)\n",
    "print(chunked)"
   ]
  },
  {
   "cell_type": "code",
   "execution_count": 34,
   "metadata": {},
   "outputs": [
    {
     "data": {
      "image/png": "[encoded data removed]",
      "text/plain": [
       "Tree('S', [('My', 'PRP$'), ('name', 'NN'), ('is', 'VBZ'), Tree('PERSON', [('Elena', 'NNP')]), ('and', 'CC'), ('I', 'PRP'), ('am', 'VBP'), ('happy', 'JJ')])"
      ]
     },
     "execution_count": 34,
     "metadata": {},
     "output_type": "execute_result"
    }
   ],
   "source": [
    "tree = chunk.ne_chunk(tagged_sent)\n",
    "tree"
   ]
  },
  {
   "cell_type": "code",
   "execution_count": 39,
   "metadata": {},
   "outputs": [
    {
     "ename": "AttributeError",
     "evalue": "type object 'Tree' has no attribute 'parse'",
     "output_type": "error",
     "traceback": [
      "\u001b[0;31m---------------------------------------------------------------------------\u001b[0m",
      "\u001b[0;31mAttributeError\u001b[0m                            Traceback (most recent call last)",
      "\u001b[0;32m<ipython-input-39-db06a921b49d>\u001b[0m in \u001b[0;36m<module>\u001b[0;34m\u001b[0m\n\u001b[1;32m      1\u001b[0m treebank_string = \"\"\"(S (NP-SBJ (NP (QP (IN at) (JJS least) (CD nine) (NNS tenths)) )\n\u001b[1;32m      2\u001b[0m     (PP (IN of) (NP (DT the) (NNS students) ))) (VP (VBD passed)))\"\"\"\n\u001b[0;32m----> 3\u001b[0;31m \u001b[0mt\u001b[0m \u001b[0;34m=\u001b[0m \u001b[0mnltk\u001b[0m\u001b[0;34m.\u001b[0m\u001b[0mTree\u001b[0m\u001b[0;34m.\u001b[0m\u001b[0mparse\u001b[0m\u001b[0;34m(\u001b[0m\u001b[0mtreebank_string\u001b[0m\u001b[0;34m)\u001b[0m\u001b[0;34m\u001b[0m\u001b[0m\n\u001b[0m",
      "\u001b[0;31mAttributeError\u001b[0m: type object 'Tree' has no attribute 'parse'"
     ]
    }
   ],
   "source": [
    "treebank_string = \"\"\"(S (NP-SBJ (NP (QP (IN at) (JJS least) (CD nine) (NNS tenths)) )\n",
    "...     (PP (IN of) (NP (DT the) (NNS students) ))) (VP (VBD passed)))\"\"\"\n",
    "t = nltk.Tree.parse(treebank_string)"
   ]
  },
  {
   "cell_type": "code",
   "execution_count": null,
   "metadata": {},
   "outputs": [],
   "source": []
  }
 ],
 "metadata": {
  "kernelspec": {
   "display_name": "Python 3",
   "language": "python",
   "name": "python3"
  },
  "language_info": {
   "codemirror_mode": {
    "name": "ipython",
    "version": 3
   },
   "file_extension": ".py",
   "mimetype": "text/x-python",
   "name": "python",
   "nbconvert_exporter": "python",
   "pygments_lexer": "ipython3",
   "version": "3.6.6"
  }
 },
 "nbformat": 4,
 "nbformat_minor": 2
}
