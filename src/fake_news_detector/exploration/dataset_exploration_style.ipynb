{
 "cells": [
  {
   "cell_type": "markdown",
   "metadata": {},
   "source": [
    "# Dataset exploration style"
   ]
  },
  {
   "cell_type": "code",
   "execution_count": 1,
   "metadata": {},
   "outputs": [],
   "source": [
    "#imports\n",
    "import sys\n",
    "sys.path.append('/home/elenaruiz/Documents/FNC')\n",
    "import pandas as pd\n",
    "import numpy as np\n",
    "import matplotlib.pyplot as plt\n",
    "import seaborn as sns\n",
    "from src.utils import io\n",
    "from src.fake_news_detector.core.nlp import clean_text as ct\n",
    "from src.fake_news_detector.core.data_process import exploration as eh"
   ]
  },
  {
   "cell_type": "markdown",
   "metadata": {},
   "source": [
    "## Import style dataset"
   ]
  },
  {
   "cell_type": "code",
   "execution_count": 2,
   "metadata": {},
   "outputs": [],
   "source": [
    "articles = io.read_json_file('/home/elenaruiz/Documents/FNC/src/data/dataset_style.json')\n",
    "df = pd.DataFrame(data=articles['articles'])"
   ]
  },
  {
   "cell_type": "markdown",
   "metadata": {},
   "source": [
    "## Exploration"
   ]
  },
  {
   "cell_type": "code",
   "execution_count": 3,
   "metadata": {},
   "outputs": [
    {
     "data": {
      "text/html": [
       "<div>\n",
       "<style scoped>\n",
       "    .dataframe tbody tr th:only-of-type {\n",
       "        vertical-align: middle;\n",
       "    }\n",
       "\n",
       "    .dataframe tbody tr th {\n",
       "        vertical-align: top;\n",
       "    }\n",
       "\n",
       "    .dataframe thead th {\n",
       "        text-align: right;\n",
       "    }\n",
       "</style>\n",
       "<table border=\"1\" class=\"dataframe\">\n",
       "  <thead>\n",
       "    <tr style=\"text-align: right;\">\n",
       "      <th></th>\n",
       "      <th>fake</th>\n",
       "      <th>mean_character_per_word</th>\n",
       "      <th>mean_noun_phrases</th>\n",
       "      <th>mean_words_per_sentence</th>\n",
       "      <th>n_quotes</th>\n",
       "      <th>n_sentences</th>\n",
       "      <th>n_words</th>\n",
       "      <th>pert_different_words</th>\n",
       "      <th>pert_total_adj</th>\n",
       "      <th>pert_total_conj_prep</th>\n",
       "      <th>pert_total_negative_words</th>\n",
       "      <th>pert_total_nouns</th>\n",
       "      <th>pert_total_positive_words</th>\n",
       "      <th>pert_total_verbs</th>\n",
       "      <th>sentiment</th>\n",
       "      <th>title_n_words</th>\n",
       "      <th>title_pert_total_conj_prep</th>\n",
       "      <th>title_pert_total_negative_words</th>\n",
       "      <th>title_pert_total_positive_words</th>\n",
       "      <th>title_sentiment</th>\n",
       "    </tr>\n",
       "  </thead>\n",
       "  <tbody>\n",
       "    <tr>\n",
       "      <th>0</th>\n",
       "      <td>True</td>\n",
       "      <td>1.0</td>\n",
       "      <td>None</td>\n",
       "      <td>4.521569</td>\n",
       "      <td>None</td>\n",
       "      <td>7</td>\n",
       "      <td>255</td>\n",
       "      <td>0.486275</td>\n",
       "      <td>0.070588</td>\n",
       "      <td>0.011765</td>\n",
       "      <td>0.039216</td>\n",
       "      <td>0.356863</td>\n",
       "      <td>0.003922</td>\n",
       "      <td>0.160784</td>\n",
       "      <td>-0.417143</td>\n",
       "      <td>10</td>\n",
       "      <td>0.011765</td>\n",
       "      <td>0.100000</td>\n",
       "      <td>0.000000</td>\n",
       "      <td>-0.5719</td>\n",
       "    </tr>\n",
       "    <tr>\n",
       "      <th>1</th>\n",
       "      <td>True</td>\n",
       "      <td>1.0</td>\n",
       "      <td>None</td>\n",
       "      <td>4.840456</td>\n",
       "      <td>None</td>\n",
       "      <td>4</td>\n",
       "      <td>351</td>\n",
       "      <td>0.444444</td>\n",
       "      <td>0.082621</td>\n",
       "      <td>0.031339</td>\n",
       "      <td>0.019943</td>\n",
       "      <td>0.321937</td>\n",
       "      <td>0.014245</td>\n",
       "      <td>0.133903</td>\n",
       "      <td>-0.117700</td>\n",
       "      <td>12</td>\n",
       "      <td>0.031339</td>\n",
       "      <td>0.000000</td>\n",
       "      <td>0.000000</td>\n",
       "      <td>-0.1027</td>\n",
       "    </tr>\n",
       "    <tr>\n",
       "      <th>2</th>\n",
       "      <td>True</td>\n",
       "      <td>1.0</td>\n",
       "      <td>None</td>\n",
       "      <td>4.285106</td>\n",
       "      <td>None</td>\n",
       "      <td>11</td>\n",
       "      <td>235</td>\n",
       "      <td>0.553191</td>\n",
       "      <td>0.063830</td>\n",
       "      <td>0.017021</td>\n",
       "      <td>0.025532</td>\n",
       "      <td>0.310638</td>\n",
       "      <td>0.029787</td>\n",
       "      <td>0.148936</td>\n",
       "      <td>0.016064</td>\n",
       "      <td>14</td>\n",
       "      <td>0.017021</td>\n",
       "      <td>0.071429</td>\n",
       "      <td>0.000000</td>\n",
       "      <td>-0.4588</td>\n",
       "    </tr>\n",
       "    <tr>\n",
       "      <th>3</th>\n",
       "      <td>True</td>\n",
       "      <td>1.0</td>\n",
       "      <td>None</td>\n",
       "      <td>4.120000</td>\n",
       "      <td>None</td>\n",
       "      <td>5</td>\n",
       "      <td>125</td>\n",
       "      <td>0.600000</td>\n",
       "      <td>0.088000</td>\n",
       "      <td>0.040000</td>\n",
       "      <td>0.040000</td>\n",
       "      <td>0.272000</td>\n",
       "      <td>0.048000</td>\n",
       "      <td>0.240000</td>\n",
       "      <td>-0.148660</td>\n",
       "      <td>12</td>\n",
       "      <td>0.040000</td>\n",
       "      <td>0.083333</td>\n",
       "      <td>0.083333</td>\n",
       "      <td>-0.6202</td>\n",
       "    </tr>\n",
       "    <tr>\n",
       "      <th>4</th>\n",
       "      <td>True</td>\n",
       "      <td>1.0</td>\n",
       "      <td>None</td>\n",
       "      <td>4.536232</td>\n",
       "      <td>None</td>\n",
       "      <td>4</td>\n",
       "      <td>138</td>\n",
       "      <td>0.594203</td>\n",
       "      <td>0.072464</td>\n",
       "      <td>0.028986</td>\n",
       "      <td>0.036232</td>\n",
       "      <td>0.311594</td>\n",
       "      <td>0.028986</td>\n",
       "      <td>0.152174</td>\n",
       "      <td>-0.023350</td>\n",
       "      <td>12</td>\n",
       "      <td>0.028986</td>\n",
       "      <td>0.083333</td>\n",
       "      <td>0.000000</td>\n",
       "      <td>-0.4767</td>\n",
       "    </tr>\n",
       "  </tbody>\n",
       "</table>\n",
       "</div>"
      ],
      "text/plain": [
       "   fake  mean_character_per_word mean_noun_phrases  mean_words_per_sentence  \\\n",
       "0  True                      1.0              None                 4.521569   \n",
       "1  True                      1.0              None                 4.840456   \n",
       "2  True                      1.0              None                 4.285106   \n",
       "3  True                      1.0              None                 4.120000   \n",
       "4  True                      1.0              None                 4.536232   \n",
       "\n",
       "  n_quotes  n_sentences  n_words  pert_different_words  pert_total_adj  \\\n",
       "0     None            7      255              0.486275        0.070588   \n",
       "1     None            4      351              0.444444        0.082621   \n",
       "2     None           11      235              0.553191        0.063830   \n",
       "3     None            5      125              0.600000        0.088000   \n",
       "4     None            4      138              0.594203        0.072464   \n",
       "\n",
       "   pert_total_conj_prep  pert_total_negative_words  pert_total_nouns  \\\n",
       "0              0.011765                   0.039216          0.356863   \n",
       "1              0.031339                   0.019943          0.321937   \n",
       "2              0.017021                   0.025532          0.310638   \n",
       "3              0.040000                   0.040000          0.272000   \n",
       "4              0.028986                   0.036232          0.311594   \n",
       "\n",
       "   pert_total_positive_words  pert_total_verbs  sentiment  title_n_words  \\\n",
       "0                   0.003922          0.160784  -0.417143             10   \n",
       "1                   0.014245          0.133903  -0.117700             12   \n",
       "2                   0.029787          0.148936   0.016064             14   \n",
       "3                   0.048000          0.240000  -0.148660             12   \n",
       "4                   0.028986          0.152174  -0.023350             12   \n",
       "\n",
       "   title_pert_total_conj_prep  title_pert_total_negative_words  \\\n",
       "0                    0.011765                         0.100000   \n",
       "1                    0.031339                         0.000000   \n",
       "2                    0.017021                         0.071429   \n",
       "3                    0.040000                         0.083333   \n",
       "4                    0.028986                         0.083333   \n",
       "\n",
       "   title_pert_total_positive_words  title_sentiment  \n",
       "0                         0.000000          -0.5719  \n",
       "1                         0.000000          -0.1027  \n",
       "2                         0.000000          -0.4588  \n",
       "3                         0.083333          -0.6202  \n",
       "4                         0.000000          -0.4767  "
      ]
     },
     "execution_count": 3,
     "metadata": {},
     "output_type": "execute_result"
    }
   ],
   "source": [
    "df.head()"
   ]
  },
  {
   "cell_type": "code",
   "execution_count": 4,
   "metadata": {},
   "outputs": [],
   "source": [
    "#ORIGINAL DATASET\n",
    "fake_df = df.loc[df['fake'] == 1]\n",
    "real_df = df.loc[df['fake'] == 0]\n"
   ]
  },
  {
   "cell_type": "markdown",
   "metadata": {},
   "source": [
    "### Normalize"
   ]
  },
  {
   "cell_type": "code",
   "execution_count": 5,
   "metadata": {},
   "outputs": [
    {
     "name": "stderr",
     "output_type": "stream",
     "text": [
      "/home/elenaruiz/Documents/FNC/env/lib/python3.6/site-packages/sklearn/preprocessing/data.py:323: DataConversionWarning: Data with input dtype bool, int64, float64, object were all converted to float64 by MinMaxScaler.\n",
      "  return self.partial_fit(X, y)\n",
      "/home/elenaruiz/Documents/FNC/env/lib/python3.6/site-packages/sklearn/preprocessing/data.py:353: RuntimeWarning: All-NaN slice encountered\n",
      "  data_min = np.nanmin(X, axis=0)\n",
      "/home/elenaruiz/Documents/FNC/env/lib/python3.6/site-packages/sklearn/preprocessing/data.py:354: RuntimeWarning: All-NaN slice encountered\n",
      "  data_max = np.nanmax(X, axis=0)\n"
     ]
    }
   ],
   "source": [
    "from sklearn.preprocessing import MinMaxScaler\n",
    "names = df.columns\n",
    "scaler = MinMaxScaler()\n",
    "scaled_df = scaler.fit_transform(df)\n",
    "scaled_df = pd.DataFrame(scaled_df, columns=names)"
   ]
  },
  {
   "cell_type": "markdown",
   "metadata": {},
   "source": [
    "### General correlation"
   ]
  },
  {
   "cell_type": "code",
   "execution_count": 6,
   "metadata": {},
   "outputs": [
    {
     "data": {
      "text/html": [
       "<div>\n",
       "<style scoped>\n",
       "    .dataframe tbody tr th:only-of-type {\n",
       "        vertical-align: middle;\n",
       "    }\n",
       "\n",
       "    .dataframe tbody tr th {\n",
       "        vertical-align: top;\n",
       "    }\n",
       "\n",
       "    .dataframe thead th {\n",
       "        text-align: right;\n",
       "    }\n",
       "</style>\n",
       "<table border=\"1\" class=\"dataframe\">\n",
       "  <thead>\n",
       "    <tr style=\"text-align: right;\">\n",
       "      <th></th>\n",
       "      <th>fake</th>\n",
       "      <th>mean_character_per_word</th>\n",
       "      <th>mean_words_per_sentence</th>\n",
       "      <th>n_sentences</th>\n",
       "      <th>n_words</th>\n",
       "      <th>pert_different_words</th>\n",
       "      <th>pert_total_adj</th>\n",
       "      <th>pert_total_conj_prep</th>\n",
       "      <th>pert_total_negative_words</th>\n",
       "      <th>pert_total_nouns</th>\n",
       "      <th>pert_total_positive_words</th>\n",
       "      <th>pert_total_verbs</th>\n",
       "      <th>sentiment</th>\n",
       "      <th>title_n_words</th>\n",
       "      <th>title_pert_total_conj_prep</th>\n",
       "      <th>title_pert_total_negative_words</th>\n",
       "      <th>title_pert_total_positive_words</th>\n",
       "      <th>title_sentiment</th>\n",
       "    </tr>\n",
       "  </thead>\n",
       "  <tbody>\n",
       "    <tr>\n",
       "      <th>fake</th>\n",
       "      <td>1.0</td>\n",
       "      <td>NaN</td>\n",
       "      <td>-0.379898</td>\n",
       "      <td>-0.087369</td>\n",
       "      <td>-0.271043</td>\n",
       "      <td>0.239972</td>\n",
       "      <td>0.025513</td>\n",
       "      <td>0.017846</td>\n",
       "      <td>0.178187</td>\n",
       "      <td>-0.359669</td>\n",
       "      <td>-0.030821</td>\n",
       "      <td>0.297955</td>\n",
       "      <td>-0.16611</td>\n",
       "      <td>0.259933</td>\n",
       "      <td>0.017846</td>\n",
       "      <td>0.194835</td>\n",
       "      <td>-0.088706</td>\n",
       "      <td>-0.230717</td>\n",
       "    </tr>\n",
       "  </tbody>\n",
       "</table>\n",
       "</div>"
      ],
      "text/plain": [
       "      fake  mean_character_per_word  mean_words_per_sentence  n_sentences  \\\n",
       "fake   1.0                      NaN                -0.379898    -0.087369   \n",
       "\n",
       "       n_words  pert_different_words  pert_total_adj  pert_total_conj_prep  \\\n",
       "fake -0.271043              0.239972        0.025513              0.017846   \n",
       "\n",
       "      pert_total_negative_words  pert_total_nouns  pert_total_positive_words  \\\n",
       "fake                   0.178187         -0.359669                  -0.030821   \n",
       "\n",
       "      pert_total_verbs  sentiment  title_n_words  title_pert_total_conj_prep  \\\n",
       "fake          0.297955   -0.16611       0.259933                    0.017846   \n",
       "\n",
       "      title_pert_total_negative_words  title_pert_total_positive_words  \\\n",
       "fake                         0.194835                        -0.088706   \n",
       "\n",
       "      title_sentiment  \n",
       "fake        -0.230717  "
      ]
     },
     "execution_count": 6,
     "metadata": {},
     "output_type": "execute_result"
    }
   ],
   "source": [
    "table = df.corr()\n",
    "table[:1]"
   ]
  },
  {
   "cell_type": "code",
   "execution_count": 7,
   "metadata": {},
   "outputs": [],
   "source": [
    "def print_results(labels, real_res, fake_res):\n",
    "    print('FAKE NEWS')\n",
    "    print(labels[0], 'Pert:', str(100*fake_res[0]))\n",
    "    print(labels[1], 'Pert:', str(100*fake_res[1]))\n",
    "    print(labels[2], 'Pert:', str(100*fake_res[2]))\n",
    "\n",
    "    print('REAL NEWS')\n",
    "    print(labels[0], 'Pert:', str(100*real_res[0]))\n",
    "    print(labels[1], 'Pert:', str(100*real_res[1]))\n",
    "    print(labels[2], 'Pert:', str(100*real_res[2]))\n",
    "\n",
    "    print('DIFFERENCE NEWS')\n",
    "    print(labels[0], str(100*(fake_res[0] - real_res[0])))\n",
    "    print(labels[1], str(100*(fake_res[1] - real_res[1])))\n",
    "    print(labels[2], str(100*(fake_res[2] - real_res[2])))"
   ]
  },
  {
   "cell_type": "markdown",
   "metadata": {},
   "source": [
    "### Features to explore\n",
    "\n",
    "1. mean_words_per_sentence\n",
    "2. n_words\n",
    "3. pert_different_words\n",
    "4. pert_total_adj\n",
    "5. pert_total_conj_prep\n",
    "6. pert_total_nouns\n",
    "7. pert_total_positive_words\n",
    "8. pert_total_verbs\n",
    "9. sentiment\n",
    "10. title_sentiment\n",
    "\n",
    "For each feature: \n",
    "- Explore histogram difference between real and fake\n",
    "- Split in three levels\n",
    "- See correlation with FAKE"
   ]
  },
  {
   "cell_type": "markdown",
   "metadata": {},
   "source": [
    "### mean_words_per_sentence"
   ]
  },
  {
   "cell_type": "code",
   "execution_count": 8,
   "metadata": {},
   "outputs": [
    {
     "name": "stderr",
     "output_type": "stream",
     "text": [
      "/home/elenaruiz/Documents/FNC/env/lib/python3.6/site-packages/scipy/stats/stats.py:1713: FutureWarning: Using a non-tuple sequence for multidimensional indexing is deprecated; use `arr[tuple(seq)]` instead of `arr[seq]`. In the future this will be interpreted as an array index, `arr[np.array(seq)]`, which will result either in an error or a different result.\n",
      "  return np.add.reduce(sorted[indexer] * weights, axis=axis) / sumval\n"
     ]
    },
    {
     "data": {
      "image/png": "[encoded data removed]",
      "text/plain": [
       "<Figure size 432x288 with 1 Axes>"
      ]
     },
     "metadata": {
      "needs_background": "light"
     },
     "output_type": "display_data"
    }
   ],
   "source": [
    "sns.distplot(fake_df['mean_words_per_sentence']);\n",
    "sns.distplot(real_df['mean_words_per_sentence']);"
   ]
  },
  {
   "cell_type": "code",
   "execution_count": 9,
   "metadata": {},
   "outputs": [
    {
     "name": "stdout",
     "output_type": "stream",
     "text": [
      "FAKE NEWS\n",
      "A lot Pert: 11.11111111111111\n",
      "Middle Pert: 75.55555555555556\n",
      "A bit Pert: 13.333333333333334\n",
      "REAL NEWS\n",
      "A lot Pert: 5.357142857142857\n",
      "Middle Pert: 51.78571428571429\n",
      "A bit Pert: 42.857142857142854\n",
      "DIFFERENCE NEWS\n",
      "A lot 5.753968253968254\n",
      "Middle 23.769841269841262\n",
      "A bit -29.52380952380952\n"
     ]
    }
   ],
   "source": [
    "fake, real = eh.split_in_three(fake_df['mean_words_per_sentence'], real_df['mean_words_per_sentence'])\n",
    "\n",
    "labels = ['A lot', 'Middle', 'A bit']\n",
    "print_results(labels, real, fake)\n"
   ]
  },
  {
   "cell_type": "markdown",
   "metadata": {},
   "source": [
    "### n_words"
   ]
  },
  {
   "cell_type": "code",
   "execution_count": 10,
   "metadata": {},
   "outputs": [
    {
     "data": {
      "image/png": "[encoded data removed]",
      "text/plain": [
       "<Figure size 432x288 with 1 Axes>"
      ]
     },
     "metadata": {
      "needs_background": "light"
     },
     "output_type": "display_data"
    }
   ],
   "source": [
    "sns.distplot(fake_df['n_words']);\n",
    "sns.distplot(real_df['n_words']);"
   ]
  },
  {
   "cell_type": "code",
   "execution_count": 11,
   "metadata": {},
   "outputs": [
    {
     "name": "stdout",
     "output_type": "stream",
     "text": [
      "FAKE NEWS\n",
      "A lot Pert: 15.555555555555555\n",
      "Middle Pert: 37.77777777777778\n",
      "A bit Pert: 46.666666666666664\n",
      "REAL NEWS\n",
      "A lot Pert: 5.357142857142857\n",
      "Middle Pert: 23.214285714285715\n",
      "A bit Pert: 71.42857142857143\n",
      "DIFFERENCE NEWS\n",
      "A lot 10.198412698412698\n",
      "Middle 14.563492063492061\n",
      "A bit -24.761904761904763\n"
     ]
    }
   ],
   "source": [
    "fake, real = eh.split_in_three(fake_df['n_words'], real_df['n_words'])\n",
    "\n",
    "labels = ['A lot', 'Middle', 'A bit']\n",
    "print_results(labels, real, fake)"
   ]
  },
  {
   "cell_type": "markdown",
   "metadata": {},
   "source": [
    "### pert_different_words"
   ]
  },
  {
   "cell_type": "code",
   "execution_count": 12,
   "metadata": {},
   "outputs": [
    {
     "data": {
      "image/png": "[encoded data removed]",
      "text/plain": [
       "<Figure size 432x288 with 1 Axes>"
      ]
     },
     "metadata": {
      "needs_background": "light"
     },
     "output_type": "display_data"
    }
   ],
   "source": [
    "sns.distplot(fake_df['pert_different_words']);\n",
    "sns.distplot(real_df['pert_different_words']);"
   ]
  },
  {
   "cell_type": "code",
   "execution_count": 13,
   "metadata": {},
   "outputs": [
    {
     "name": "stdout",
     "output_type": "stream",
     "text": [
      "FAKE NEWS\n",
      "A lot Pert: 13.333333333333334\n",
      "Middle Pert: 44.44444444444444\n",
      "A bit Pert: 42.22222222222222\n",
      "REAL NEWS\n",
      "A lot Pert: 17.857142857142858\n",
      "Middle Pert: 62.5\n",
      "A bit Pert: 19.642857142857142\n",
      "DIFFERENCE NEWS\n",
      "A lot -4.523809523809525\n",
      "Middle -18.055555555555557\n",
      "A bit 22.57936507936508\n"
     ]
    }
   ],
   "source": [
    "fake, real = eh.split_in_three(fake_df['pert_different_words'], real_df['pert_different_words'])\n",
    "\n",
    "labels = ['A lot', 'Middle', 'A bit']\n",
    "print_results(labels, real, fake)"
   ]
  },
  {
   "cell_type": "markdown",
   "metadata": {},
   "source": [
    "### pert_total_adj"
   ]
  },
  {
   "cell_type": "code",
   "execution_count": 14,
   "metadata": {},
   "outputs": [
    {
     "data": {
      "image/png": "[encoded data removed]",
      "text/plain": [
       "<Figure size 432x288 with 1 Axes>"
      ]
     },
     "metadata": {
      "needs_background": "light"
     },
     "output_type": "display_data"
    }
   ],
   "source": [
    "sns.distplot(fake_df['pert_different_words']);\n",
    "sns.distplot(real_df['pert_different_words']);"
   ]
  },
  {
   "cell_type": "code",
   "execution_count": 15,
   "metadata": {},
   "outputs": [
    {
     "name": "stdout",
     "output_type": "stream",
     "text": [
      "FAKE NEWS\n",
      "A lot Pert: 24.444444444444443\n",
      "Middle Pert: 62.22222222222222\n",
      "A bit Pert: 13.333333333333334\n",
      "REAL NEWS\n",
      "A lot Pert: 26.785714285714285\n",
      "Middle Pert: 60.71428571428571\n",
      "A bit Pert: 12.5\n",
      "DIFFERENCE NEWS\n",
      "A lot -2.3412698412698414\n",
      "Middle 1.5079365079365137\n",
      "A bit 0.8333333333333331\n"
     ]
    }
   ],
   "source": [
    "fake, real = eh.split_in_three(fake_df['pert_total_adj'], real_df['pert_total_adj'])\n",
    "\n",
    "labels = ['A lot', 'Middle', 'A bit']\n",
    "print_results(labels, real, fake)"
   ]
  },
  {
   "cell_type": "markdown",
   "metadata": {},
   "source": [
    "### pert_total_conj_prep"
   ]
  },
  {
   "cell_type": "code",
   "execution_count": 16,
   "metadata": {},
   "outputs": [
    {
     "data": {
      "image/png": "[encoded data removed]",
      "text/plain": [
       "<Figure size 432x288 with 1 Axes>"
      ]
     },
     "metadata": {
      "needs_background": "light"
     },
     "output_type": "display_data"
    }
   ],
   "source": [
    "sns.distplot(fake_df['pert_total_conj_prep']);\n",
    "sns.distplot(real_df['pert_total_conj_prep']);"
   ]
  },
  {
   "cell_type": "code",
   "execution_count": 17,
   "metadata": {},
   "outputs": [
    {
     "name": "stdout",
     "output_type": "stream",
     "text": [
      "FAKE NEWS\n",
      "A lot Pert: 6.666666666666667\n",
      "Middle Pert: 48.888888888888886\n",
      "A bit Pert: 44.44444444444444\n",
      "REAL NEWS\n",
      "A lot Pert: 10.714285714285714\n",
      "Middle Pert: 44.642857142857146\n",
      "A bit Pert: 44.642857142857146\n",
      "DIFFERENCE NEWS\n",
      "A lot -4.0476190476190474\n",
      "Middle 4.246031746031742\n",
      "A bit -0.19841269841270326\n"
     ]
    }
   ],
   "source": [
    "fake, real = eh.split_in_three(fake_df['pert_total_conj_prep'], real_df['pert_total_conj_prep'])\n",
    "\n",
    "labels = ['A lot', 'Middle', 'A bit']\n",
    "print_results(labels, real, fake)"
   ]
  },
  {
   "cell_type": "markdown",
   "metadata": {},
   "source": [
    "### pert_total_nouns"
   ]
  },
  {
   "cell_type": "code",
   "execution_count": 18,
   "metadata": {},
   "outputs": [
    {
     "data": {
      "image/png": "[encoded data removed]",
      "text/plain": [
       "<Figure size 432x288 with 1 Axes>"
      ]
     },
     "metadata": {
      "needs_background": "light"
     },
     "output_type": "display_data"
    }
   ],
   "source": [
    "sns.distplot(fake_df['pert_different_words']);\n",
    "sns.distplot(real_df['pert_different_words']);"
   ]
  },
  {
   "cell_type": "code",
   "execution_count": 19,
   "metadata": {},
   "outputs": [
    {
     "name": "stdout",
     "output_type": "stream",
     "text": [
      "FAKE NEWS\n",
      "A lot Pert: 31.11111111111111\n",
      "Middle Pert: 51.11111111111111\n",
      "A bit Pert: 17.77777777777778\n",
      "REAL NEWS\n",
      "A lot Pert: 8.928571428571429\n",
      "Middle Pert: 53.57142857142857\n",
      "A bit Pert: 37.5\n",
      "DIFFERENCE NEWS\n",
      "A lot 22.18253968253968\n",
      "Middle -2.4603174603174627\n",
      "A bit -19.72222222222222\n"
     ]
    }
   ],
   "source": [
    "fake, real = eh.split_in_three(fake_df['pert_total_nouns'], real_df['pert_total_nouns'])\n",
    "\n",
    "labels = ['A lot', 'Middle', 'A bit']\n",
    "print_results(labels, real, fake)"
   ]
  },
  {
   "cell_type": "markdown",
   "metadata": {},
   "source": [
    "### pert_total_positive_words"
   ]
  },
  {
   "cell_type": "code",
   "execution_count": 20,
   "metadata": {},
   "outputs": [
    {
     "data": {
      "image/png": "[encoded data removed]",
      "text/plain": [
       "<Figure size 432x288 with 1 Axes>"
      ]
     },
     "metadata": {
      "needs_background": "light"
     },
     "output_type": "display_data"
    }
   ],
   "source": [
    "sns.distplot(fake_df['pert_total_positive_words']);\n",
    "sns.distplot(real_df['pert_total_positive_words']);"
   ]
  },
  {
   "cell_type": "code",
   "execution_count": 21,
   "metadata": {},
   "outputs": [
    {
     "name": "stdout",
     "output_type": "stream",
     "text": [
      "FAKE NEWS\n",
      "A lot Pert: 4.444444444444445\n",
      "Middle Pert: 46.666666666666664\n",
      "A bit Pert: 48.888888888888886\n",
      "REAL NEWS\n",
      "A lot Pert: 3.571428571428571\n",
      "Middle Pert: 44.642857142857146\n",
      "A bit Pert: 51.78571428571429\n",
      "DIFFERENCE NEWS\n",
      "A lot 0.8730158730158734\n",
      "Middle 2.023809523809522\n",
      "A bit -2.8968253968254034\n"
     ]
    }
   ],
   "source": [
    "fake, real = eh.split_in_three(fake_df['pert_total_positive_words'], real_df['pert_total_positive_words'])\n",
    "\n",
    "labels = ['A lot', 'Middle', 'A bit']\n",
    "print_results(labels, real, fake)"
   ]
  },
  {
   "cell_type": "markdown",
   "metadata": {},
   "source": [
    "### pert_total_verbs"
   ]
  },
  {
   "cell_type": "code",
   "execution_count": 22,
   "metadata": {},
   "outputs": [
    {
     "data": {
      "image/png": "[encoded data removed]",
      "text/plain": [
       "<Figure size 432x288 with 1 Axes>"
      ]
     },
     "metadata": {
      "needs_background": "light"
     },
     "output_type": "display_data"
    }
   ],
   "source": [
    "sns.distplot(fake_df['pert_total_verbs']);\n",
    "sns.distplot(real_df['pert_total_verbs']);"
   ]
  },
  {
   "cell_type": "code",
   "execution_count": 23,
   "metadata": {},
   "outputs": [
    {
     "name": "stdout",
     "output_type": "stream",
     "text": [
      "FAKE NEWS\n",
      "A lot Pert: 0.0\n",
      "Middle Pert: 53.333333333333336\n",
      "A bit Pert: 46.666666666666664\n",
      "REAL NEWS\n",
      "A lot Pert: 7.142857142857142\n",
      "Middle Pert: 62.5\n",
      "A bit Pert: 30.357142857142854\n",
      "DIFFERENCE NEWS\n",
      "A lot -7.142857142857142\n",
      "Middle -9.166666666666668\n",
      "A bit 16.309523809523814\n"
     ]
    }
   ],
   "source": [
    "fake, real = eh.split_in_three(fake_df['pert_total_verbs'], real_df['pert_total_verbs'])\n",
    "\n",
    "labels = ['A lot', 'Middle', 'A bit']\n",
    "print_results(labels, real, fake)"
   ]
  },
  {
   "cell_type": "markdown",
   "metadata": {},
   "source": [
    "### pert_total_negative_words"
   ]
  },
  {
   "cell_type": "code",
   "execution_count": 24,
   "metadata": {},
   "outputs": [
    {
     "data": {
      "image/png": "[encoded data removed]",
      "text/plain": [
       "<Figure size 432x288 with 1 Axes>"
      ]
     },
     "metadata": {
      "needs_background": "light"
     },
     "output_type": "display_data"
    }
   ],
   "source": [
    "sns.distplot(fake_df['pert_total_negative_words']);\n",
    "sns.distplot(real_df['pert_total_negative_words']);"
   ]
  },
  {
   "cell_type": "code",
   "execution_count": 25,
   "metadata": {},
   "outputs": [
    {
     "name": "stdout",
     "output_type": "stream",
     "text": [
      "FAKE NEWS\n",
      "A lot Pert: 6.666666666666667\n",
      "Middle Pert: 22.22222222222222\n",
      "A bit Pert: 71.11111111111111\n",
      "REAL NEWS\n",
      "A lot Pert: 8.928571428571429\n",
      "Middle Pert: 39.285714285714285\n",
      "A bit Pert: 51.78571428571429\n",
      "DIFFERENCE NEWS\n",
      "A lot -2.2619047619047623\n",
      "Middle -17.063492063492063\n",
      "A bit 19.325396825396822\n"
     ]
    }
   ],
   "source": [
    "fake, real = eh.split_in_three(fake_df['pert_total_negative_words'], real_df['pert_total_negative_words'])\n",
    "\n",
    "labels = ['A lot', 'Middle', 'A bit']\n",
    "print_results(labels, real, fake)"
   ]
  },
  {
   "cell_type": "markdown",
   "metadata": {},
   "source": [
    "## Correlations"
   ]
  },
  {
   "cell_type": "code",
   "execution_count": 26,
   "metadata": {},
   "outputs": [
    {
     "data": {
      "text/html": [
       "<div>\n",
       "<style scoped>\n",
       "    .dataframe tbody tr th:only-of-type {\n",
       "        vertical-align: middle;\n",
       "    }\n",
       "\n",
       "    .dataframe tbody tr th {\n",
       "        vertical-align: top;\n",
       "    }\n",
       "\n",
       "    .dataframe thead th {\n",
       "        text-align: right;\n",
       "    }\n",
       "</style>\n",
       "<table border=\"1\" class=\"dataframe\">\n",
       "  <thead>\n",
       "    <tr style=\"text-align: right;\">\n",
       "      <th></th>\n",
       "      <th>fake</th>\n",
       "      <th>mean_character_per_word</th>\n",
       "      <th>mean_words_per_sentence</th>\n",
       "      <th>n_sentences</th>\n",
       "      <th>n_words</th>\n",
       "      <th>pert_different_words</th>\n",
       "      <th>pert_total_adj</th>\n",
       "      <th>pert_total_conj_prep</th>\n",
       "      <th>pert_total_negative_words</th>\n",
       "      <th>pert_total_nouns</th>\n",
       "      <th>pert_total_positive_words</th>\n",
       "      <th>pert_total_verbs</th>\n",
       "      <th>sentiment</th>\n",
       "      <th>title_n_words</th>\n",
       "      <th>title_pert_total_conj_prep</th>\n",
       "      <th>title_pert_total_negative_words</th>\n",
       "      <th>title_pert_total_positive_words</th>\n",
       "      <th>title_sentiment</th>\n",
       "    </tr>\n",
       "  </thead>\n",
       "  <tbody>\n",
       "    <tr>\n",
       "      <th>fake</th>\n",
       "      <td>1.000000</td>\n",
       "      <td>NaN</td>\n",
       "      <td>-0.379898</td>\n",
       "      <td>-0.087369</td>\n",
       "      <td>-0.271043</td>\n",
       "      <td>0.239972</td>\n",
       "      <td>0.025513</td>\n",
       "      <td>0.017846</td>\n",
       "      <td>0.178187</td>\n",
       "      <td>-0.359669</td>\n",
       "      <td>-0.030821</td>\n",
       "      <td>0.297955</td>\n",
       "      <td>-0.166110</td>\n",
       "      <td>0.259933</td>\n",
       "      <td>0.017846</td>\n",
       "      <td>0.194835</td>\n",
       "      <td>-0.088706</td>\n",
       "      <td>-0.230717</td>\n",
       "    </tr>\n",
       "    <tr>\n",
       "      <th>mean_character_per_word</th>\n",
       "      <td>NaN</td>\n",
       "      <td>NaN</td>\n",
       "      <td>NaN</td>\n",
       "      <td>NaN</td>\n",
       "      <td>NaN</td>\n",
       "      <td>NaN</td>\n",
       "      <td>NaN</td>\n",
       "      <td>NaN</td>\n",
       "      <td>NaN</td>\n",
       "      <td>NaN</td>\n",
       "      <td>NaN</td>\n",
       "      <td>NaN</td>\n",
       "      <td>NaN</td>\n",
       "      <td>NaN</td>\n",
       "      <td>NaN</td>\n",
       "      <td>NaN</td>\n",
       "      <td>NaN</td>\n",
       "      <td>NaN</td>\n",
       "    </tr>\n",
       "    <tr>\n",
       "      <th>mean_words_per_sentence</th>\n",
       "      <td>-0.379898</td>\n",
       "      <td>NaN</td>\n",
       "      <td>1.000000</td>\n",
       "      <td>-0.154040</td>\n",
       "      <td>0.071866</td>\n",
       "      <td>-0.014435</td>\n",
       "      <td>0.200452</td>\n",
       "      <td>-0.004495</td>\n",
       "      <td>-0.053067</td>\n",
       "      <td>0.571613</td>\n",
       "      <td>-0.011935</td>\n",
       "      <td>-0.490568</td>\n",
       "      <td>0.060527</td>\n",
       "      <td>0.109911</td>\n",
       "      <td>-0.004495</td>\n",
       "      <td>-0.125032</td>\n",
       "      <td>0.095996</td>\n",
       "      <td>0.050326</td>\n",
       "    </tr>\n",
       "    <tr>\n",
       "      <th>n_sentences</th>\n",
       "      <td>-0.087369</td>\n",
       "      <td>NaN</td>\n",
       "      <td>-0.154040</td>\n",
       "      <td>1.000000</td>\n",
       "      <td>0.717563</td>\n",
       "      <td>-0.492454</td>\n",
       "      <td>0.066816</td>\n",
       "      <td>0.086642</td>\n",
       "      <td>0.080100</td>\n",
       "      <td>-0.208889</td>\n",
       "      <td>0.059377</td>\n",
       "      <td>0.084855</td>\n",
       "      <td>0.068620</td>\n",
       "      <td>-0.211127</td>\n",
       "      <td>0.086642</td>\n",
       "      <td>0.032661</td>\n",
       "      <td>-0.131428</td>\n",
       "      <td>0.253294</td>\n",
       "    </tr>\n",
       "    <tr>\n",
       "      <th>n_words</th>\n",
       "      <td>-0.271043</td>\n",
       "      <td>NaN</td>\n",
       "      <td>0.071866</td>\n",
       "      <td>0.717563</td>\n",
       "      <td>1.000000</td>\n",
       "      <td>-0.786557</td>\n",
       "      <td>0.136001</td>\n",
       "      <td>0.205637</td>\n",
       "      <td>-0.005403</td>\n",
       "      <td>-0.067053</td>\n",
       "      <td>0.098769</td>\n",
       "      <td>-0.214100</td>\n",
       "      <td>0.178108</td>\n",
       "      <td>-0.174341</td>\n",
       "      <td>0.205637</td>\n",
       "      <td>-0.038724</td>\n",
       "      <td>-0.141562</td>\n",
       "      <td>0.168513</td>\n",
       "    </tr>\n",
       "    <tr>\n",
       "      <th>pert_different_words</th>\n",
       "      <td>0.239972</td>\n",
       "      <td>NaN</td>\n",
       "      <td>-0.014435</td>\n",
       "      <td>-0.492454</td>\n",
       "      <td>-0.786557</td>\n",
       "      <td>1.000000</td>\n",
       "      <td>0.064691</td>\n",
       "      <td>-0.029277</td>\n",
       "      <td>0.168824</td>\n",
       "      <td>0.045333</td>\n",
       "      <td>0.056719</td>\n",
       "      <td>0.124338</td>\n",
       "      <td>-0.156303</td>\n",
       "      <td>0.052674</td>\n",
       "      <td>-0.029277</td>\n",
       "      <td>0.064913</td>\n",
       "      <td>0.179024</td>\n",
       "      <td>-0.061443</td>\n",
       "    </tr>\n",
       "    <tr>\n",
       "      <th>pert_total_adj</th>\n",
       "      <td>0.025513</td>\n",
       "      <td>NaN</td>\n",
       "      <td>0.200452</td>\n",
       "      <td>0.066816</td>\n",
       "      <td>0.136001</td>\n",
       "      <td>0.064691</td>\n",
       "      <td>1.000000</td>\n",
       "      <td>0.113302</td>\n",
       "      <td>-0.104491</td>\n",
       "      <td>-0.242146</td>\n",
       "      <td>0.226168</td>\n",
       "      <td>-0.165203</td>\n",
       "      <td>0.218243</td>\n",
       "      <td>-0.195312</td>\n",
       "      <td>0.113302</td>\n",
       "      <td>-0.088334</td>\n",
       "      <td>0.175436</td>\n",
       "      <td>0.190006</td>\n",
       "    </tr>\n",
       "    <tr>\n",
       "      <th>pert_total_conj_prep</th>\n",
       "      <td>0.017846</td>\n",
       "      <td>NaN</td>\n",
       "      <td>-0.004495</td>\n",
       "      <td>0.086642</td>\n",
       "      <td>0.205637</td>\n",
       "      <td>-0.029277</td>\n",
       "      <td>0.113302</td>\n",
       "      <td>1.000000</td>\n",
       "      <td>0.137775</td>\n",
       "      <td>-0.228656</td>\n",
       "      <td>0.246994</td>\n",
       "      <td>0.085424</td>\n",
       "      <td>0.126395</td>\n",
       "      <td>0.010419</td>\n",
       "      <td>1.000000</td>\n",
       "      <td>0.225753</td>\n",
       "      <td>0.028787</td>\n",
       "      <td>-0.040575</td>\n",
       "    </tr>\n",
       "    <tr>\n",
       "      <th>pert_total_negative_words</th>\n",
       "      <td>0.178187</td>\n",
       "      <td>NaN</td>\n",
       "      <td>-0.053067</td>\n",
       "      <td>0.080100</td>\n",
       "      <td>-0.005403</td>\n",
       "      <td>0.168824</td>\n",
       "      <td>-0.104491</td>\n",
       "      <td>0.137775</td>\n",
       "      <td>1.000000</td>\n",
       "      <td>-0.059545</td>\n",
       "      <td>-0.120580</td>\n",
       "      <td>0.216039</td>\n",
       "      <td>-0.697090</td>\n",
       "      <td>0.070261</td>\n",
       "      <td>0.137775</td>\n",
       "      <td>0.548711</td>\n",
       "      <td>-0.029743</td>\n",
       "      <td>-0.424340</td>\n",
       "    </tr>\n",
       "    <tr>\n",
       "      <th>pert_total_nouns</th>\n",
       "      <td>-0.359669</td>\n",
       "      <td>NaN</td>\n",
       "      <td>0.571613</td>\n",
       "      <td>-0.208889</td>\n",
       "      <td>-0.067053</td>\n",
       "      <td>0.045333</td>\n",
       "      <td>-0.242146</td>\n",
       "      <td>-0.228656</td>\n",
       "      <td>-0.059545</td>\n",
       "      <td>1.000000</td>\n",
       "      <td>-0.045993</td>\n",
       "      <td>-0.704646</td>\n",
       "      <td>-0.011733</td>\n",
       "      <td>0.169113</td>\n",
       "      <td>-0.228656</td>\n",
       "      <td>-0.115841</td>\n",
       "      <td>0.181456</td>\n",
       "      <td>0.038905</td>\n",
       "    </tr>\n",
       "    <tr>\n",
       "      <th>pert_total_positive_words</th>\n",
       "      <td>-0.030821</td>\n",
       "      <td>NaN</td>\n",
       "      <td>-0.011935</td>\n",
       "      <td>0.059377</td>\n",
       "      <td>0.098769</td>\n",
       "      <td>0.056719</td>\n",
       "      <td>0.226168</td>\n",
       "      <td>0.246994</td>\n",
       "      <td>-0.120580</td>\n",
       "      <td>-0.045993</td>\n",
       "      <td>1.000000</td>\n",
       "      <td>-0.099492</td>\n",
       "      <td>0.594780</td>\n",
       "      <td>-0.149754</td>\n",
       "      <td>0.246994</td>\n",
       "      <td>-0.028350</td>\n",
       "      <td>0.456153</td>\n",
       "      <td>0.329653</td>\n",
       "    </tr>\n",
       "    <tr>\n",
       "      <th>pert_total_verbs</th>\n",
       "      <td>0.297955</td>\n",
       "      <td>NaN</td>\n",
       "      <td>-0.490568</td>\n",
       "      <td>0.084855</td>\n",
       "      <td>-0.214100</td>\n",
       "      <td>0.124338</td>\n",
       "      <td>-0.165203</td>\n",
       "      <td>0.085424</td>\n",
       "      <td>0.216039</td>\n",
       "      <td>-0.704646</td>\n",
       "      <td>-0.099492</td>\n",
       "      <td>1.000000</td>\n",
       "      <td>-0.199792</td>\n",
       "      <td>-0.066695</td>\n",
       "      <td>0.085424</td>\n",
       "      <td>0.191653</td>\n",
       "      <td>-0.147439</td>\n",
       "      <td>-0.213453</td>\n",
       "    </tr>\n",
       "    <tr>\n",
       "      <th>sentiment</th>\n",
       "      <td>-0.166110</td>\n",
       "      <td>NaN</td>\n",
       "      <td>0.060527</td>\n",
       "      <td>0.068620</td>\n",
       "      <td>0.178108</td>\n",
       "      <td>-0.156303</td>\n",
       "      <td>0.218243</td>\n",
       "      <td>0.126395</td>\n",
       "      <td>-0.697090</td>\n",
       "      <td>-0.011733</td>\n",
       "      <td>0.594780</td>\n",
       "      <td>-0.199792</td>\n",
       "      <td>1.000000</td>\n",
       "      <td>-0.199883</td>\n",
       "      <td>0.126395</td>\n",
       "      <td>-0.342618</td>\n",
       "      <td>0.237973</td>\n",
       "      <td>0.478912</td>\n",
       "    </tr>\n",
       "    <tr>\n",
       "      <th>title_n_words</th>\n",
       "      <td>0.259933</td>\n",
       "      <td>NaN</td>\n",
       "      <td>0.109911</td>\n",
       "      <td>-0.211127</td>\n",
       "      <td>-0.174341</td>\n",
       "      <td>0.052674</td>\n",
       "      <td>-0.195312</td>\n",
       "      <td>0.010419</td>\n",
       "      <td>0.070261</td>\n",
       "      <td>0.169113</td>\n",
       "      <td>-0.149754</td>\n",
       "      <td>-0.066695</td>\n",
       "      <td>-0.199883</td>\n",
       "      <td>1.000000</td>\n",
       "      <td>0.010419</td>\n",
       "      <td>-0.106936</td>\n",
       "      <td>-0.029666</td>\n",
       "      <td>-0.132617</td>\n",
       "    </tr>\n",
       "    <tr>\n",
       "      <th>title_pert_total_conj_prep</th>\n",
       "      <td>0.017846</td>\n",
       "      <td>NaN</td>\n",
       "      <td>-0.004495</td>\n",
       "      <td>0.086642</td>\n",
       "      <td>0.205637</td>\n",
       "      <td>-0.029277</td>\n",
       "      <td>0.113302</td>\n",
       "      <td>1.000000</td>\n",
       "      <td>0.137775</td>\n",
       "      <td>-0.228656</td>\n",
       "      <td>0.246994</td>\n",
       "      <td>0.085424</td>\n",
       "      <td>0.126395</td>\n",
       "      <td>0.010419</td>\n",
       "      <td>1.000000</td>\n",
       "      <td>0.225753</td>\n",
       "      <td>0.028787</td>\n",
       "      <td>-0.040575</td>\n",
       "    </tr>\n",
       "    <tr>\n",
       "      <th>title_pert_total_negative_words</th>\n",
       "      <td>0.194835</td>\n",
       "      <td>NaN</td>\n",
       "      <td>-0.125032</td>\n",
       "      <td>0.032661</td>\n",
       "      <td>-0.038724</td>\n",
       "      <td>0.064913</td>\n",
       "      <td>-0.088334</td>\n",
       "      <td>0.225753</td>\n",
       "      <td>0.548711</td>\n",
       "      <td>-0.115841</td>\n",
       "      <td>-0.028350</td>\n",
       "      <td>0.191653</td>\n",
       "      <td>-0.342618</td>\n",
       "      <td>-0.106936</td>\n",
       "      <td>0.225753</td>\n",
       "      <td>1.000000</td>\n",
       "      <td>0.127763</td>\n",
       "      <td>-0.649130</td>\n",
       "    </tr>\n",
       "    <tr>\n",
       "      <th>title_pert_total_positive_words</th>\n",
       "      <td>-0.088706</td>\n",
       "      <td>NaN</td>\n",
       "      <td>0.095996</td>\n",
       "      <td>-0.131428</td>\n",
       "      <td>-0.141562</td>\n",
       "      <td>0.179024</td>\n",
       "      <td>0.175436</td>\n",
       "      <td>0.028787</td>\n",
       "      <td>-0.029743</td>\n",
       "      <td>0.181456</td>\n",
       "      <td>0.456153</td>\n",
       "      <td>-0.147439</td>\n",
       "      <td>0.237973</td>\n",
       "      <td>-0.029666</td>\n",
       "      <td>0.028787</td>\n",
       "      <td>0.127763</td>\n",
       "      <td>1.000000</td>\n",
       "      <td>0.297017</td>\n",
       "    </tr>\n",
       "    <tr>\n",
       "      <th>title_sentiment</th>\n",
       "      <td>-0.230717</td>\n",
       "      <td>NaN</td>\n",
       "      <td>0.050326</td>\n",
       "      <td>0.253294</td>\n",
       "      <td>0.168513</td>\n",
       "      <td>-0.061443</td>\n",
       "      <td>0.190006</td>\n",
       "      <td>-0.040575</td>\n",
       "      <td>-0.424340</td>\n",
       "      <td>0.038905</td>\n",
       "      <td>0.329653</td>\n",
       "      <td>-0.213453</td>\n",
       "      <td>0.478912</td>\n",
       "      <td>-0.132617</td>\n",
       "      <td>-0.040575</td>\n",
       "      <td>-0.649130</td>\n",
       "      <td>0.297017</td>\n",
       "      <td>1.000000</td>\n",
       "    </tr>\n",
       "  </tbody>\n",
       "</table>\n",
       "</div>"
      ],
      "text/plain": [
       "                                     fake  mean_character_per_word  \\\n",
       "fake                             1.000000                      NaN   \n",
       "mean_character_per_word               NaN                      NaN   \n",
       "mean_words_per_sentence         -0.379898                      NaN   \n",
       "n_sentences                     -0.087369                      NaN   \n",
       "n_words                         -0.271043                      NaN   \n",
       "pert_different_words             0.239972                      NaN   \n",
       "pert_total_adj                   0.025513                      NaN   \n",
       "pert_total_conj_prep             0.017846                      NaN   \n",
       "pert_total_negative_words        0.178187                      NaN   \n",
       "pert_total_nouns                -0.359669                      NaN   \n",
       "pert_total_positive_words       -0.030821                      NaN   \n",
       "pert_total_verbs                 0.297955                      NaN   \n",
       "sentiment                       -0.166110                      NaN   \n",
       "title_n_words                    0.259933                      NaN   \n",
       "title_pert_total_conj_prep       0.017846                      NaN   \n",
       "title_pert_total_negative_words  0.194835                      NaN   \n",
       "title_pert_total_positive_words -0.088706                      NaN   \n",
       "title_sentiment                 -0.230717                      NaN   \n",
       "\n",
       "                                 mean_words_per_sentence  n_sentences  \\\n",
       "fake                                           -0.379898    -0.087369   \n",
       "mean_character_per_word                              NaN          NaN   \n",
       "mean_words_per_sentence                         1.000000    -0.154040   \n",
       "n_sentences                                    -0.154040     1.000000   \n",
       "n_words                                         0.071866     0.717563   \n",
       "pert_different_words                           -0.014435    -0.492454   \n",
       "pert_total_adj                                  0.200452     0.066816   \n",
       "pert_total_conj_prep                           -0.004495     0.086642   \n",
       "pert_total_negative_words                      -0.053067     0.080100   \n",
       "pert_total_nouns                                0.571613    -0.208889   \n",
       "pert_total_positive_words                      -0.011935     0.059377   \n",
       "pert_total_verbs                               -0.490568     0.084855   \n",
       "sentiment                                       0.060527     0.068620   \n",
       "title_n_words                                   0.109911    -0.211127   \n",
       "title_pert_total_conj_prep                     -0.004495     0.086642   \n",
       "title_pert_total_negative_words                -0.125032     0.032661   \n",
       "title_pert_total_positive_words                 0.095996    -0.131428   \n",
       "title_sentiment                                 0.050326     0.253294   \n",
       "\n",
       "                                  n_words  pert_different_words  \\\n",
       "fake                            -0.271043              0.239972   \n",
       "mean_character_per_word               NaN                   NaN   \n",
       "mean_words_per_sentence          0.071866             -0.014435   \n",
       "n_sentences                      0.717563             -0.492454   \n",
       "n_words                          1.000000             -0.786557   \n",
       "pert_different_words            -0.786557              1.000000   \n",
       "pert_total_adj                   0.136001              0.064691   \n",
       "pert_total_conj_prep             0.205637             -0.029277   \n",
       "pert_total_negative_words       -0.005403              0.168824   \n",
       "pert_total_nouns                -0.067053              0.045333   \n",
       "pert_total_positive_words        0.098769              0.056719   \n",
       "pert_total_verbs                -0.214100              0.124338   \n",
       "sentiment                        0.178108             -0.156303   \n",
       "title_n_words                   -0.174341              0.052674   \n",
       "title_pert_total_conj_prep       0.205637             -0.029277   \n",
       "title_pert_total_negative_words -0.038724              0.064913   \n",
       "title_pert_total_positive_words -0.141562              0.179024   \n",
       "title_sentiment                  0.168513             -0.061443   \n",
       "\n",
       "                                 pert_total_adj  pert_total_conj_prep  \\\n",
       "fake                                   0.025513              0.017846   \n",
       "mean_character_per_word                     NaN                   NaN   \n",
       "mean_words_per_sentence                0.200452             -0.004495   \n",
       "n_sentences                            0.066816              0.086642   \n",
       "n_words                                0.136001              0.205637   \n",
       "pert_different_words                   0.064691             -0.029277   \n",
       "pert_total_adj                         1.000000              0.113302   \n",
       "pert_total_conj_prep                   0.113302              1.000000   \n",
       "pert_total_negative_words             -0.104491              0.137775   \n",
       "pert_total_nouns                      -0.242146             -0.228656   \n",
       "pert_total_positive_words              0.226168              0.246994   \n",
       "pert_total_verbs                      -0.165203              0.085424   \n",
       "sentiment                              0.218243              0.126395   \n",
       "title_n_words                         -0.195312              0.010419   \n",
       "title_pert_total_conj_prep             0.113302              1.000000   \n",
       "title_pert_total_negative_words       -0.088334              0.225753   \n",
       "title_pert_total_positive_words        0.175436              0.028787   \n",
       "title_sentiment                        0.190006             -0.040575   \n",
       "\n",
       "                                 pert_total_negative_words  pert_total_nouns  \\\n",
       "fake                                              0.178187         -0.359669   \n",
       "mean_character_per_word                                NaN               NaN   \n",
       "mean_words_per_sentence                          -0.053067          0.571613   \n",
       "n_sentences                                       0.080100         -0.208889   \n",
       "n_words                                          -0.005403         -0.067053   \n",
       "pert_different_words                              0.168824          0.045333   \n",
       "pert_total_adj                                   -0.104491         -0.242146   \n",
       "pert_total_conj_prep                              0.137775         -0.228656   \n",
       "pert_total_negative_words                         1.000000         -0.059545   \n",
       "pert_total_nouns                                 -0.059545          1.000000   \n",
       "pert_total_positive_words                        -0.120580         -0.045993   \n",
       "pert_total_verbs                                  0.216039         -0.704646   \n",
       "sentiment                                        -0.697090         -0.011733   \n",
       "title_n_words                                     0.070261          0.169113   \n",
       "title_pert_total_conj_prep                        0.137775         -0.228656   \n",
       "title_pert_total_negative_words                   0.548711         -0.115841   \n",
       "title_pert_total_positive_words                  -0.029743          0.181456   \n",
       "title_sentiment                                  -0.424340          0.038905   \n",
       "\n",
       "                                 pert_total_positive_words  pert_total_verbs  \\\n",
       "fake                                             -0.030821          0.297955   \n",
       "mean_character_per_word                                NaN               NaN   \n",
       "mean_words_per_sentence                          -0.011935         -0.490568   \n",
       "n_sentences                                       0.059377          0.084855   \n",
       "n_words                                           0.098769         -0.214100   \n",
       "pert_different_words                              0.056719          0.124338   \n",
       "pert_total_adj                                    0.226168         -0.165203   \n",
       "pert_total_conj_prep                              0.246994          0.085424   \n",
       "pert_total_negative_words                        -0.120580          0.216039   \n",
       "pert_total_nouns                                 -0.045993         -0.704646   \n",
       "pert_total_positive_words                         1.000000         -0.099492   \n",
       "pert_total_verbs                                 -0.099492          1.000000   \n",
       "sentiment                                         0.594780         -0.199792   \n",
       "title_n_words                                    -0.149754         -0.066695   \n",
       "title_pert_total_conj_prep                        0.246994          0.085424   \n",
       "title_pert_total_negative_words                  -0.028350          0.191653   \n",
       "title_pert_total_positive_words                   0.456153         -0.147439   \n",
       "title_sentiment                                   0.329653         -0.213453   \n",
       "\n",
       "                                 sentiment  title_n_words  \\\n",
       "fake                             -0.166110       0.259933   \n",
       "mean_character_per_word                NaN            NaN   \n",
       "mean_words_per_sentence           0.060527       0.109911   \n",
       "n_sentences                       0.068620      -0.211127   \n",
       "n_words                           0.178108      -0.174341   \n",
       "pert_different_words             -0.156303       0.052674   \n",
       "pert_total_adj                    0.218243      -0.195312   \n",
       "pert_total_conj_prep              0.126395       0.010419   \n",
       "pert_total_negative_words        -0.697090       0.070261   \n",
       "pert_total_nouns                 -0.011733       0.169113   \n",
       "pert_total_positive_words         0.594780      -0.149754   \n",
       "pert_total_verbs                 -0.199792      -0.066695   \n",
       "sentiment                         1.000000      -0.199883   \n",
       "title_n_words                    -0.199883       1.000000   \n",
       "title_pert_total_conj_prep        0.126395       0.010419   \n",
       "title_pert_total_negative_words  -0.342618      -0.106936   \n",
       "title_pert_total_positive_words   0.237973      -0.029666   \n",
       "title_sentiment                   0.478912      -0.132617   \n",
       "\n",
       "                                 title_pert_total_conj_prep  \\\n",
       "fake                                               0.017846   \n",
       "mean_character_per_word                                 NaN   \n",
       "mean_words_per_sentence                           -0.004495   \n",
       "n_sentences                                        0.086642   \n",
       "n_words                                            0.205637   \n",
       "pert_different_words                              -0.029277   \n",
       "pert_total_adj                                     0.113302   \n",
       "pert_total_conj_prep                               1.000000   \n",
       "pert_total_negative_words                          0.137775   \n",
       "pert_total_nouns                                  -0.228656   \n",
       "pert_total_positive_words                          0.246994   \n",
       "pert_total_verbs                                   0.085424   \n",
       "sentiment                                          0.126395   \n",
       "title_n_words                                      0.010419   \n",
       "title_pert_total_conj_prep                         1.000000   \n",
       "title_pert_total_negative_words                    0.225753   \n",
       "title_pert_total_positive_words                    0.028787   \n",
       "title_sentiment                                   -0.040575   \n",
       "\n",
       "                                 title_pert_total_negative_words  \\\n",
       "fake                                                    0.194835   \n",
       "mean_character_per_word                                      NaN   \n",
       "mean_words_per_sentence                                -0.125032   \n",
       "n_sentences                                             0.032661   \n",
       "n_words                                                -0.038724   \n",
       "pert_different_words                                    0.064913   \n",
       "pert_total_adj                                         -0.088334   \n",
       "pert_total_conj_prep                                    0.225753   \n",
       "pert_total_negative_words                               0.548711   \n",
       "pert_total_nouns                                       -0.115841   \n",
       "pert_total_positive_words                              -0.028350   \n",
       "pert_total_verbs                                        0.191653   \n",
       "sentiment                                              -0.342618   \n",
       "title_n_words                                          -0.106936   \n",
       "title_pert_total_conj_prep                              0.225753   \n",
       "title_pert_total_negative_words                         1.000000   \n",
       "title_pert_total_positive_words                         0.127763   \n",
       "title_sentiment                                        -0.649130   \n",
       "\n",
       "                                 title_pert_total_positive_words  \\\n",
       "fake                                                   -0.088706   \n",
       "mean_character_per_word                                      NaN   \n",
       "mean_words_per_sentence                                 0.095996   \n",
       "n_sentences                                            -0.131428   \n",
       "n_words                                                -0.141562   \n",
       "pert_different_words                                    0.179024   \n",
       "pert_total_adj                                          0.175436   \n",
       "pert_total_conj_prep                                    0.028787   \n",
       "pert_total_negative_words                              -0.029743   \n",
       "pert_total_nouns                                        0.181456   \n",
       "pert_total_positive_words                               0.456153   \n",
       "pert_total_verbs                                       -0.147439   \n",
       "sentiment                                               0.237973   \n",
       "title_n_words                                          -0.029666   \n",
       "title_pert_total_conj_prep                              0.028787   \n",
       "title_pert_total_negative_words                         0.127763   \n",
       "title_pert_total_positive_words                         1.000000   \n",
       "title_sentiment                                         0.297017   \n",
       "\n",
       "                                 title_sentiment  \n",
       "fake                                   -0.230717  \n",
       "mean_character_per_word                      NaN  \n",
       "mean_words_per_sentence                 0.050326  \n",
       "n_sentences                             0.253294  \n",
       "n_words                                 0.168513  \n",
       "pert_different_words                   -0.061443  \n",
       "pert_total_adj                          0.190006  \n",
       "pert_total_conj_prep                   -0.040575  \n",
       "pert_total_negative_words              -0.424340  \n",
       "pert_total_nouns                        0.038905  \n",
       "pert_total_positive_words               0.329653  \n",
       "pert_total_verbs                       -0.213453  \n",
       "sentiment                               0.478912  \n",
       "title_n_words                          -0.132617  \n",
       "title_pert_total_conj_prep             -0.040575  \n",
       "title_pert_total_negative_words        -0.649130  \n",
       "title_pert_total_positive_words         0.297017  \n",
       "title_sentiment                         1.000000  "
      ]
     },
     "execution_count": 26,
     "metadata": {},
     "output_type": "execute_result"
    }
   ],
   "source": [
    "df.corr()"
   ]
  },
  {
   "cell_type": "code",
   "execution_count": 27,
   "metadata": {},
   "outputs": [
    {
     "data": {
      "text/plain": [
       "<matplotlib.axes._subplots.AxesSubplot at 0x7f3a06406470>"
      ]
     },
     "execution_count": 27,
     "metadata": {},
     "output_type": "execute_result"
    },
    {
     "data": {
      "image/png": "[encoded data removed]",
      "text/plain": [
       "<Figure size 432x288 with 2 Axes>"
      ]
     },
     "metadata": {
      "needs_background": "light"
     },
     "output_type": "display_data"
    }
   ],
   "source": [
    "sns.heatmap(df.corr(), cmap='coolwarm')"
   ]
  },
  {
   "cell_type": "code",
   "execution_count": null,
   "metadata": {},
   "outputs": [],
   "source": []
  }
 ],
 "metadata": {
  "kernelspec": {
   "display_name": "Python 3",
   "language": "python",
   "name": "python3"
  },
  "language_info": {
   "codemirror_mode": {
    "name": "ipython",
    "version": 3
   },
   "file_extension": ".py",
   "mimetype": "text/x-python",
   "name": "python",
   "nbconvert_exporter": "python",
   "pygments_lexer": "ipython3",
   "version": "3.7.1"
  }
 },
 "nbformat": 4,
 "nbformat_minor": 2
}
