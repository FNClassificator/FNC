{
 "cells": [
  {
   "cell_type": "markdown",
   "metadata": {},
   "source": [
    "# Style exploration: By features"
   ]
  },
  {
   "cell_type": "code",
   "execution_count": 2,
   "metadata": {},
   "outputs": [],
   "source": [
    "#imports\n",
    "import sys\n",
    "sys.path.append('/home/elenaruiz/Documents/TFG/FNC')\n",
    "import pandas as pd\n",
    "import numpy as np\n",
    "from src.utils import io\n",
    "import matplotlib.pyplot as plt\n",
    "import seaborn as sns"
   ]
  },
  {
   "cell_type": "markdown",
   "metadata": {},
   "source": [
    "Import dataset to dataframe:"
   ]
  },
  {
   "cell_type": "code",
   "execution_count": 3,
   "metadata": {},
   "outputs": [
    {
     "data": {
      "text/plain": [
       "fake                                  bool\n",
       "mean_character_per_word            float64\n",
       "mean_noun_phrases                   object\n",
       "mean_words_per_sentence            float64\n",
       "n_quotes                            object\n",
       "n_sentences                          int64\n",
       "n_words                              int64\n",
       "pert_different_words               float64\n",
       "pert_total_adj                     float64\n",
       "pert_total_conj_prep               float64\n",
       "pert_total_negative_words          float64\n",
       "pert_total_nouns                   float64\n",
       "pert_total_positive_words          float64\n",
       "pert_total_verbs                   float64\n",
       "sentiment                          float64\n",
       "title_n_words                        int64\n",
       "title_pert_total_conj_prep         float64\n",
       "title_pert_total_negative_words    float64\n",
       "title_pert_total_positive_words    float64\n",
       "title_sentiment                    float64\n",
       "dtype: object"
      ]
     },
     "execution_count": 3,
     "metadata": {},
     "output_type": "execute_result"
    }
   ],
   "source": [
    "articles = io.read_json_file('/home/elenaruiz/Documents/TFG/FNC/src/data/dataset_style.json')\n",
    "df = pd.DataFrame(data=articles['articles'])\n",
    "df.dtypes"
   ]
  },
  {
   "cell_type": "markdown",
   "metadata": {},
   "source": [
    "Compare fake with no fake, splitting them in two dataframes:"
   ]
  },
  {
   "cell_type": "code",
   "execution_count": 7,
   "metadata": {},
   "outputs": [],
   "source": [
    "fake_df = df.loc[df['fake'] == 1]\n",
    "real_df = df.loc[df['fake'] == 0]"
   ]
  },
  {
   "cell_type": "markdown",
   "metadata": {},
   "source": [
    "## Features"
   ]
  },
  {
   "cell_type": "markdown",
   "metadata": {},
   "source": [
    "Exploration for each feature"
   ]
  },
  {
   "cell_type": "markdown",
   "metadata": {},
   "source": [
    "### By sentiment"
   ]
  },
  {
   "cell_type": "code",
   "execution_count": 8,
   "metadata": {},
   "outputs": [
    {
     "name": "stdout",
     "output_type": "stream",
     "text": [
      "count    56.000000\n",
      "mean     -0.052637\n",
      "std       0.284967\n",
      "min      -0.621000\n",
      "25%      -0.290154\n",
      "50%      -0.027737\n",
      "75%       0.154228\n",
      "max       0.698880\n",
      "Name: sentiment, dtype: float64\n",
      "count    45.000000\n",
      "mean      0.059052\n",
      "std       0.384422\n",
      "min      -0.991500\n",
      "25%      -0.164310\n",
      "50%       0.091089\n",
      "75%       0.340878\n",
      "max       0.987100\n",
      "Name: sentiment, dtype: float64\n"
     ]
    }
   ],
   "source": [
    "var_one = fake_df['sentiment'].describe()\n",
    "var_two = real_df['sentiment'].describe()\n",
    "print(var_one)\n",
    "print(var_two)"
   ]
  },
  {
   "cell_type": "markdown",
   "metadata": {},
   "source": [
    "- **Fake news**: BLUE\n",
    "- **Real news**: ORANGE\n",
    "\n",
    "Fake news sorprendentemente no suelen ser tan extremos en el sentimiento, en cambio las reales, existen más positivas que negativas. Pero tienen más extremos negativos y positivos. Es decir, si es negativo, lo es mucho mas que una fake new."
   ]
  },
  {
   "cell_type": "code",
   "execution_count": 17,
   "metadata": {
    "scrolled": true
   },
   "outputs": [
    {
     "data": {
      "image/png": "[encoded data removed]",
      "text/plain": [
       "<Figure size 432x288 with 1 Axes>"
      ]
     },
     "metadata": {
      "needs_background": "light"
     },
     "output_type": "display_data"
    }
   ],
   "source": [
    "sns.distplot(tuple(fake_df['sentiment']));\n",
    "sns.distplot(tuple(real_df['sentiment']));"
   ]
  },
  {
   "cell_type": "code",
   "execution_count": 42,
   "metadata": {},
   "outputs": [
    {
     "name": "stdout",
     "output_type": "stream",
     "text": [
      "Total Real: 45\n",
      "RESULT REAL NEWS:\n",
      "Positives || Num: 19 Pert: 42.22222222222222\n",
      "Negative  || Num: 10 Pert: 22.22222222222222\n",
      "Neutral   || Num: 16 Pert: 35.55555555555556\n",
      "-------------------------------------\n",
      "Total Real: 56\n",
      "RESULT FAKE NEWS:\n",
      "Positives || Num: 10 Pert: 17.857142857142858\n",
      "Negative  || Num: 19 Pert: 33.92857142857143\n",
      "Neutral   || Num: 27 Pert: 48.214285714285715\n"
     ]
    }
   ],
   "source": [
    "neu_f = 0\n",
    "pos_f = 0\n",
    "neg_f = 0\n",
    "for i in fake_df['sentiment']:\n",
    "    if i < -0.2:\n",
    "        neg_f += 1\n",
    "    elif i > 0.2:\n",
    "        pos_f += 1\n",
    "    else:\n",
    "        neu_f +=1\n",
    "neu_r = 0\n",
    "pos_r = 0\n",
    "neg_r = 0\n",
    "for i in real_df['sentiment']:\n",
    "    if i < -0.2:\n",
    "        neg_r += 1\n",
    "    elif i > 0.2:\n",
    "        pos_r += 1\n",
    "    else:\n",
    "        neu_r +=1\n",
    "\n",
    "total = len(real_df)\n",
    "print('Total Real: ' + str(total))\n",
    "print('RESULT REAL NEWS:')\n",
    "print('Positives ||', 'Num:',str(pos_r), 'Pert:', str(100*pos_r/total))\n",
    "print('Negative  ||', 'Num:',str(neg_r), 'Pert:', str(100*neg_r/total))\n",
    "print('Neutral   ||', 'Num:',str(neu_r), 'Pert:', str(100*neu_r/total))\n",
    "print('-------------------------------------')\n",
    "total = len(fake_df)\n",
    "print('Total Real: ' + str(total))\n",
    "print('RESULT FAKE NEWS:')\n",
    "print('Positives ||', 'Num:',str(pos_f), 'Pert:', str(100*pos_f/total))\n",
    "print('Negative  ||', 'Num:',str(neg_f), 'Pert:', str(100*neg_f/total))\n",
    "print('Neutral   ||', 'Num:',str(neu_f), 'Pert:', str(100*neu_f/total))"
   ]
  },
  {
   "cell_type": "markdown",
   "metadata": {},
   "source": [
    "### Diferent words"
   ]
  },
  {
   "cell_type": "code",
   "execution_count": 19,
   "metadata": {},
   "outputs": [
    {
     "name": "stdout",
     "output_type": "stream",
     "text": [
      "count    56.000000\n",
      "mean      0.529026\n",
      "std       0.060258\n",
      "min       0.390476\n",
      "25%       0.493391\n",
      "50%       0.525549\n",
      "75%       0.562616\n",
      "max       0.668966\n",
      "Name: pert_different_words, dtype: float64\n",
      "count    45.000000\n",
      "mean      0.498949\n",
      "std       0.062098\n",
      "min       0.383136\n",
      "25%       0.461353\n",
      "50%       0.487805\n",
      "75%       0.532164\n",
      "max       0.651515\n",
      "Name: pert_different_words, dtype: float64\n"
     ]
    }
   ],
   "source": [
    "var_one = fake_df['pert_different_words'].describe()\n",
    "var_two = real_df['pert_different_words'].describe()\n",
    "print(var_one)\n",
    "print(var_two)"
   ]
  },
  {
   "cell_type": "code",
   "execution_count": 20,
   "metadata": {},
   "outputs": [
    {
     "data": {
      "image/png": "[encoded data removed]",
      "text/plain": [
       "<Figure size 432x288 with 1 Axes>"
      ]
     },
     "metadata": {
      "needs_background": "light"
     },
     "output_type": "display_data"
    }
   ],
   "source": [
    "sns.distplot(tuple(fake_df['pert_different_words']));\n",
    "sns.distplot(tuple(real_df['pert_different_words']));"
   ]
  },
  {
   "cell_type": "code",
   "execution_count": 27,
   "metadata": {},
   "outputs": [
    {
     "name": "stdout",
     "output_type": "stream",
     "text": [
      "Total Real: 45\n",
      "RESULT REAL NEWS:\n",
      "Diversity || Num: 6 Pert: 13.333333333333334\n",
      "Repetitive  || Num: 19 Pert: 42.22222222222222\n",
      "Neutral   || Num: 20 Pert: 44.44444444444444\n",
      "-------------------------------------\n",
      "Total Real: 56\n",
      "RESULT FAKE NEWS:\n",
      "Diversity || Num: 10 Pert: 17.857142857142858\n",
      "Repetitive  || Num: 11 Pert: 19.642857142857142\n",
      "Neutral   || Num: 35 Pert: 62.5\n"
     ]
    }
   ],
   "source": [
    "# Get max and min values\n",
    "\n",
    "min_v = min(fake_df['pert_different_words'].min(), real_df['pert_different_words'].min())\n",
    "max_v = max(fake_df['pert_different_words'].max(), real_df['pert_different_words'].max())\n",
    "\n",
    "tercio = (max_v - min_v) / 3\n",
    "# Calculate 1/3\n",
    "th_one = min_v + tercio\n",
    "# Calculate 2/3\n",
    "th_two = max_v - tercio\n",
    "#print(min_v, max_v)\n",
    "#print(th_one, th_two)\n",
    "neu_f = 0\n",
    "pos_f = 0\n",
    "neg_f = 0\n",
    "for i in fake_df['pert_different_words']:\n",
    "    if i <= th_one:\n",
    "        neg_f += 1\n",
    "    elif i >= th_two:\n",
    "        pos_f += 1\n",
    "    else:\n",
    "        neu_f +=1\n",
    "neu_r = 0\n",
    "pos_r = 0\n",
    "neg_r = 0\n",
    "for i in real_df['pert_different_words']:\n",
    "    if i <= th_one:\n",
    "        neg_r += 1\n",
    "    elif i >= th_two:\n",
    "        pos_r += 1\n",
    "    else:\n",
    "        neu_r +=1\n",
    "\n",
    "total = len(real_df)\n",
    "print('Total Real: ' + str(total))\n",
    "print('RESULT REAL NEWS:')\n",
    "print('Diversity ||', 'Num:',str(pos_r), 'Pert:', str(100*pos_r/total))\n",
    "print('Repetitive  ||', 'Num:',str(neg_r), 'Pert:', str(100*neg_r/total))\n",
    "print('Neutral   ||', 'Num:',str(neu_r), 'Pert:', str(100*neu_r/total))\n",
    "print('-------------------------------------')\n",
    "total = len(fake_df)\n",
    "print('Total Real: ' + str(total))\n",
    "print('RESULT FAKE NEWS:')\n",
    "print('Diversity ||', 'Num:',str(pos_f), 'Pert:', str(100*pos_f/total))\n",
    "print('Repetitive  ||', 'Num:',str(neg_f), 'Pert:', str(100*neg_f/total))\n",
    "print('Neutral   ||', 'Num:',str(neu_f), 'Pert:', str(100*neu_f/total))"
   ]
  },
  {
   "cell_type": "markdown",
   "metadata": {},
   "source": [
    "### Positive words"
   ]
  },
  {
   "cell_type": "code",
   "execution_count": 29,
   "metadata": {},
   "outputs": [
    {
     "name": "stdout",
     "output_type": "stream",
     "text": [
      "count    56.000000\n",
      "mean      0.028175\n",
      "std       0.016752\n",
      "min       0.000000\n",
      "25%       0.016378\n",
      "50%       0.027588\n",
      "75%       0.039455\n",
      "max       0.087248\n",
      "Name: pert_total_positive_words, dtype: float64\n",
      "count    45.000000\n",
      "mean      0.029184\n",
      "std       0.016026\n",
      "min       0.000000\n",
      "25%       0.017677\n",
      "50%       0.029851\n",
      "75%       0.040541\n",
      "max       0.060606\n",
      "Name: pert_total_positive_words, dtype: float64\n"
     ]
    }
   ],
   "source": [
    "var_one = fake_df['pert_total_positive_words'].describe()\n",
    "var_two = real_df['pert_total_positive_words'].describe()\n",
    "print(var_one)\n",
    "print(var_two)"
   ]
  },
  {
   "cell_type": "code",
   "execution_count": 30,
   "metadata": {},
   "outputs": [
    {
     "data": {
      "image/png": "[encoded data removed]",
      "text/plain": [
       "<Figure size 432x288 with 1 Axes>"
      ]
     },
     "metadata": {
      "needs_background": "light"
     },
     "output_type": "display_data"
    }
   ],
   "source": [
    "sns.distplot(tuple(fake_df['pert_total_positive_words']));\n",
    "sns.distplot(tuple(real_df['pert_total_positive_words']));"
   ]
  },
  {
   "cell_type": "code",
   "execution_count": 33,
   "metadata": {},
   "outputs": [
    {
     "name": "stdout",
     "output_type": "stream",
     "text": [
      "Total Real: 45\n",
      "RESULT REAL NEWS:\n",
      "A lot     || Num: 0 Pert: 0.0\n",
      "Not much  || Num: 29 Pert: 64.44444444444444\n",
      "Middle    || Num: 16 Pert: 35.55555555555556\n",
      "-------------------------------------\n",
      "Total Real: 56\n",
      "RESULT FAKE NEWS:\n",
      "A lot     || Num: 1 Pert: 1.7857142857142858\n",
      "Not much  || Num: 32 Pert: 57.142857142857146\n",
      "Middle    || Num: 23 Pert: 41.07142857142857\n"
     ]
    }
   ],
   "source": [
    "neu_f = 0\n",
    "pos_f = 0\n",
    "neg_f = 0\n",
    "for i in fake_df['pert_total_positive_words']:\n",
    "    if i < 0.033:\n",
    "        neg_f += 1\n",
    "    elif i > 0.066:\n",
    "        pos_f += 1\n",
    "    else:\n",
    "        neu_f +=1\n",
    "neu_r = 0\n",
    "pos_r = 0\n",
    "neg_r = 0\n",
    "for i in real_df['pert_total_positive_words']:\n",
    "    if i < 0.033:\n",
    "        neg_r += 1\n",
    "    elif i > 0.066:\n",
    "        pos_r += 1\n",
    "    else:\n",
    "        neu_r +=1\n",
    "\n",
    "total = len(real_df)\n",
    "print('Total Real: ' + str(total))\n",
    "print('RESULT REAL NEWS:')\n",
    "print('A lot     ||', 'Num:',str(pos_r), 'Pert:', str(100*pos_r/total))\n",
    "print('Not much  ||', 'Num:',str(neg_r), 'Pert:', str(100*neg_r/total))\n",
    "print('Middle    ||', 'Num:',str(neu_r), 'Pert:', str(100*neu_r/total))\n",
    "print('-------------------------------------')\n",
    "total = len(fake_df)\n",
    "print('Total Real: ' + str(total))\n",
    "print('RESULT FAKE NEWS:')\n",
    "print('A lot     ||', 'Num:',str(pos_f), 'Pert:', str(100*pos_f/total))\n",
    "print('Not much  ||', 'Num:',str(neg_f), 'Pert:', str(100*neg_f/total))\n",
    "print('Middle    ||', 'Num:',str(neu_f), 'Pert:', str(100*neu_f/total))"
   ]
  },
  {
   "cell_type": "markdown",
   "metadata": {},
   "source": [
    "### Negative words"
   ]
  },
  {
   "cell_type": "code",
   "execution_count": 35,
   "metadata": {},
   "outputs": [
    {
     "name": "stdout",
     "output_type": "stream",
     "text": [
      "count    56.000000\n",
      "mean      0.029918\n",
      "std       0.019086\n",
      "min       0.000000\n",
      "25%       0.014441\n",
      "50%       0.026106\n",
      "75%       0.041725\n",
      "max       0.085890\n",
      "Name: pert_total_negative_words, dtype: float64\n",
      "count    45.000000\n",
      "mean      0.022982\n",
      "std       0.019401\n",
      "min       0.000000\n",
      "25%       0.008711\n",
      "50%       0.019912\n",
      "75%       0.030928\n",
      "max       0.083636\n",
      "Name: pert_total_negative_words, dtype: float64\n"
     ]
    }
   ],
   "source": [
    "var_one = fake_df['pert_total_negative_words'].describe()\n",
    "var_two = real_df['pert_total_negative_words'].describe()\n",
    "print(var_one)\n",
    "print(var_two)"
   ]
  },
  {
   "cell_type": "code",
   "execution_count": 37,
   "metadata": {},
   "outputs": [
    {
     "data": {
      "image/png": "[encoded data removed]",
      "text/plain": [
       "<Figure size 432x288 with 1 Axes>"
      ]
     },
     "metadata": {
      "needs_background": "light"
     },
     "output_type": "display_data"
    }
   ],
   "source": [
    "sns.distplot(tuple(fake_df['pert_total_negative_words']));\n",
    "sns.distplot(tuple(real_df['pert_total_negative_words']));"
   ]
  },
  {
   "cell_type": "code",
   "execution_count": 38,
   "metadata": {},
   "outputs": [
    {
     "name": "stdout",
     "output_type": "stream",
     "text": [
      "Total Real: 45\n",
      "RESULT REAL NEWS:\n",
      "A lot     || Num: 2 Pert: 4.444444444444445\n",
      "Not much  || Num: 36 Pert: 80.0\n",
      "Middle    || Num: 7 Pert: 15.555555555555555\n",
      "-------------------------------------\n",
      "Total Real: 56\n",
      "RESULT FAKE NEWS:\n",
      "A lot     || Num: 3 Pert: 5.357142857142857\n",
      "Not much  || Num: 35 Pert: 62.5\n",
      "Middle    || Num: 18 Pert: 32.142857142857146\n"
     ]
    }
   ],
   "source": [
    "neu_f = 0\n",
    "pos_f = 0\n",
    "neg_f = 0\n",
    "for i in fake_df['pert_total_negative_words']:\n",
    "    if i < 0.033:\n",
    "        neg_f += 1\n",
    "    elif i > 0.066:\n",
    "        pos_f += 1\n",
    "    else:\n",
    "        neu_f +=1\n",
    "neu_r = 0\n",
    "pos_r = 0\n",
    "neg_r = 0\n",
    "for i in real_df['pert_total_negative_words']:\n",
    "    if i < 0.033:\n",
    "        neg_r += 1\n",
    "    elif i > 0.066:\n",
    "        pos_r += 1\n",
    "    else:\n",
    "        neu_r +=1\n",
    "\n",
    "total = len(real_df)\n",
    "print('Total Real: ' + str(total))\n",
    "print('RESULT REAL NEWS:')\n",
    "print('A lot     ||', 'Num:',str(pos_r), 'Pert:', str(100*pos_r/total))\n",
    "print('Not much  ||', 'Num:',str(neg_r), 'Pert:', str(100*neg_r/total))\n",
    "print('Middle    ||', 'Num:',str(neu_r), 'Pert:', str(100*neu_r/total))\n",
    "print('-------------------------------------')\n",
    "total = len(fake_df)\n",
    "print('Total Real: ' + str(total))\n",
    "print('RESULT FAKE NEWS:')\n",
    "print('A lot     ||', 'Num:',str(pos_f), 'Pert:', str(100*pos_f/total))\n",
    "print('Not much  ||', 'Num:',str(neg_f), 'Pert:', str(100*neg_f/total))\n",
    "print('Middle    ||', 'Num:',str(neu_f), 'Pert:', str(100*neu_f/total))"
   ]
  },
  {
   "cell_type": "markdown",
   "metadata": {},
   "source": [
    "### Title sentiment"
   ]
  },
  {
   "cell_type": "code",
   "execution_count": 40,
   "metadata": {},
   "outputs": [
    {
     "name": "stdout",
     "output_type": "stream",
     "text": [
      "count    56.000000\n",
      "mean     -0.218770\n",
      "std       0.339245\n",
      "min      -0.784500\n",
      "25%      -0.526700\n",
      "50%      -0.226300\n",
      "75%       0.000000\n",
      "max       0.612400\n",
      "Name: title_sentiment, dtype: float64\n",
      "count    45.000000\n",
      "mean     -0.065816\n",
      "std       0.303476\n",
      "min      -0.599400\n",
      "25%      -0.296000\n",
      "50%       0.000000\n",
      "75%       0.025800\n",
      "max       0.510600\n",
      "Name: title_sentiment, dtype: float64\n"
     ]
    }
   ],
   "source": [
    "var_one = fake_df['title_sentiment'].describe()\n",
    "var_two = real_df['title_sentiment'].describe()\n",
    "print(var_one)\n",
    "print(var_two)"
   ]
  },
  {
   "cell_type": "code",
   "execution_count": 41,
   "metadata": {},
   "outputs": [
    {
     "data": {
      "image/png": "[encoded data removed]",
      "text/plain": [
       "<Figure size 432x288 with 1 Axes>"
      ]
     },
     "metadata": {
      "needs_background": "light"
     },
     "output_type": "display_data"
    }
   ],
   "source": [
    "sns.distplot(tuple(fake_df['title_sentiment']));\n",
    "sns.distplot(tuple(real_df['title_sentiment']));"
   ]
  },
  {
   "cell_type": "code",
   "execution_count": 44,
   "metadata": {},
   "outputs": [
    {
     "name": "stdout",
     "output_type": "stream",
     "text": [
      "Total Real: 45\n",
      "RESULT REAL NEWS:\n",
      "Positives || Num: 7 Pert: 15.555555555555555\n",
      "Negative  || Num: 13 Pert: 28.88888888888889\n",
      "Neutral   || Num: 25 Pert: 55.55555555555556\n",
      "-------------------------------------\n",
      "Total Real: 56\n",
      "RESULT FAKE NEWS:\n",
      "Positives || Num: 5 Pert: 8.928571428571429\n",
      "Negative  || Num: 29 Pert: 51.785714285714285\n",
      "Neutral   || Num: 22 Pert: 39.285714285714285\n"
     ]
    }
   ],
   "source": [
    "neu_f = 0\n",
    "pos_f = 0\n",
    "neg_f = 0\n",
    "for i in fake_df['title_sentiment']:\n",
    "    if i < -0.2:\n",
    "        neg_f += 1\n",
    "    elif i > 0.2:\n",
    "        pos_f += 1\n",
    "    else:\n",
    "        neu_f +=1\n",
    "neu_r = 0\n",
    "pos_r = 0\n",
    "neg_r = 0\n",
    "for i in real_df['title_sentiment']:\n",
    "    if i < -0.2:\n",
    "        neg_r += 1\n",
    "    elif i > 0.2:\n",
    "        pos_r += 1\n",
    "    else:\n",
    "        neu_r +=1\n",
    "\n",
    "total = len(real_df)\n",
    "print('Total Real: ' + str(total))\n",
    "print('RESULT REAL NEWS:')\n",
    "print('Positives ||', 'Num:',str(pos_r), 'Pert:', str(100*pos_r/total))\n",
    "print('Negative  ||', 'Num:',str(neg_r), 'Pert:', str(100*neg_r/total))\n",
    "print('Neutral   ||', 'Num:',str(neu_r), 'Pert:', str(100*neu_r/total))\n",
    "print('-------------------------------------')\n",
    "total = len(fake_df)\n",
    "print('Total Real: ' + str(total))\n",
    "print('RESULT FAKE NEWS:')\n",
    "print('Positives ||', 'Num:',str(pos_f), 'Pert:', str(100*pos_f/total))\n",
    "print('Negative  ||', 'Num:',str(neg_f), 'Pert:', str(100*neg_f/total))\n",
    "print('Neutral   ||', 'Num:',str(neu_f), 'Pert:', str(100*neu_f/total))"
   ]
  },
  {
   "cell_type": "markdown",
   "metadata": {},
   "source": [
    "### Title positive words"
   ]
  },
  {
   "cell_type": "code",
   "execution_count": 46,
   "metadata": {},
   "outputs": [
    {
     "name": "stdout",
     "output_type": "stream",
     "text": [
      "count    56.000000\n",
      "mean      0.021081\n",
      "std       0.044077\n",
      "min       0.000000\n",
      "25%       0.000000\n",
      "50%       0.000000\n",
      "75%       0.000000\n",
      "max       0.181818\n",
      "Name: title_pert_total_positive_words, dtype: float64\n",
      "count    45.000000\n",
      "mean      0.029357\n",
      "std       0.049676\n",
      "min       0.000000\n",
      "25%       0.000000\n",
      "50%       0.000000\n",
      "75%       0.071429\n",
      "max       0.166667\n",
      "Name: title_pert_total_positive_words, dtype: float64\n"
     ]
    }
   ],
   "source": [
    "var_one = fake_df['title_pert_total_positive_words'].describe()\n",
    "var_two = real_df['title_pert_total_positive_words'].describe()\n",
    "print(var_one)\n",
    "print(var_two)"
   ]
  },
  {
   "cell_type": "code",
   "execution_count": 47,
   "metadata": {},
   "outputs": [
    {
     "data": {
      "image/png": "[encoded data removed]",
      "text/plain": [
       "<Figure size 432x288 with 1 Axes>"
      ]
     },
     "metadata": {
      "needs_background": "light"
     },
     "output_type": "display_data"
    }
   ],
   "source": [
    "sns.distplot(tuple(fake_df['title_pert_total_positive_words']));\n",
    "sns.distplot(tuple(real_df['title_pert_total_positive_words']));"
   ]
  },
  {
   "cell_type": "code",
   "execution_count": 48,
   "metadata": {},
   "outputs": [
    {
     "name": "stdout",
     "output_type": "stream",
     "text": [
      "Total Real: 45\n",
      "RESULT REAL NEWS:\n",
      "A lot     || Num: 3 Pert: 6.666666666666667\n",
      "Not much  || Num: 33 Pert: 73.33333333333333\n",
      "Middle    || Num: 9 Pert: 20.0\n",
      "-------------------------------------\n",
      "Total Real: 56\n",
      "RESULT FAKE NEWS:\n",
      "A lot     || Num: 4 Pert: 7.142857142857143\n",
      "Not much  || Num: 45 Pert: 80.35714285714286\n",
      "Middle    || Num: 7 Pert: 12.5\n"
     ]
    }
   ],
   "source": [
    "# Get max and min values\n",
    "\n",
    "min_v = min(fake_df['title_pert_total_positive_words'].min(), real_df['title_pert_total_positive_words'].min())\n",
    "max_v = max(fake_df['title_pert_total_positive_words'].max(), real_df['title_pert_total_positive_words'].max())\n",
    "\n",
    "tercio = (max_v - min_v) / 3\n",
    "# Calculate 1/3\n",
    "th_one = min_v + tercio\n",
    "# Calculate 2/3\n",
    "th_two = max_v - tercio\n",
    "#print(min_v, max_v)\n",
    "#print(th_one, th_two)\n",
    "neu_f = 0\n",
    "pos_f = 0\n",
    "neg_f = 0\n",
    "for i in fake_df['title_pert_total_positive_words']:\n",
    "    if i <= th_one:\n",
    "        neg_f += 1\n",
    "    elif i >= th_two:\n",
    "        pos_f += 1\n",
    "    else:\n",
    "        neu_f +=1\n",
    "neu_r = 0\n",
    "pos_r = 0\n",
    "neg_r = 0\n",
    "for i in real_df['title_pert_total_positive_words']:\n",
    "    if i <= th_one:\n",
    "        neg_r += 1\n",
    "    elif i >= th_two:\n",
    "        pos_r += 1\n",
    "    else:\n",
    "        neu_r +=1\n",
    "\n",
    "total = len(real_df)\n",
    "print('Total Real: ' + str(total))\n",
    "print('RESULT REAL NEWS:')\n",
    "print('A lot     ||', 'Num:',str(pos_r), 'Pert:', str(100*pos_r/total))\n",
    "print('Not much  ||', 'Num:',str(neg_r), 'Pert:', str(100*neg_r/total))\n",
    "print('Middle    ||', 'Num:',str(neu_r), 'Pert:', str(100*neu_r/total))\n",
    "print('-------------------------------------')\n",
    "total = len(fake_df)\n",
    "print('Total Real: ' + str(total))\n",
    "print('RESULT FAKE NEWS:')\n",
    "print('A lot     ||', 'Num:',str(pos_f), 'Pert:', str(100*pos_f/total))\n",
    "print('Not much  ||', 'Num:',str(neg_f), 'Pert:', str(100*neg_f/total))\n",
    "print('Middle    ||', 'Num:',str(neu_f), 'Pert:', str(100*neu_f/total))"
   ]
  },
  {
   "cell_type": "markdown",
   "metadata": {},
   "source": [
    "### Title negative words"
   ]
  },
  {
   "cell_type": "code",
   "execution_count": 49,
   "metadata": {},
   "outputs": [
    {
     "name": "stdout",
     "output_type": "stream",
     "text": [
      "count    56.000000\n",
      "mean      0.060857\n",
      "std       0.066042\n",
      "min       0.000000\n",
      "25%       0.000000\n",
      "50%       0.066667\n",
      "75%       0.093182\n",
      "max       0.250000\n",
      "Name: title_pert_total_negative_words, dtype: float64\n",
      "count    45.000000\n",
      "mean      0.036491\n",
      "std       0.055500\n",
      "min       0.000000\n",
      "25%       0.000000\n",
      "50%       0.000000\n",
      "75%       0.076923\n",
      "max       0.250000\n",
      "Name: title_pert_total_negative_words, dtype: float64\n"
     ]
    }
   ],
   "source": [
    "var_one = fake_df['title_pert_total_negative_words'].describe()\n",
    "var_two = real_df['title_pert_total_negative_words'].describe()\n",
    "print(var_one)\n",
    "print(var_two)"
   ]
  },
  {
   "cell_type": "code",
   "execution_count": 50,
   "metadata": {},
   "outputs": [
    {
     "data": {
      "image/png": "[encoded data removed]",
      "text/plain": [
       "<Figure size 432x288 with 1 Axes>"
      ]
     },
     "metadata": {
      "needs_background": "light"
     },
     "output_type": "display_data"
    }
   ],
   "source": [
    "sns.distplot(tuple(fake_df['title_pert_total_negative_words']));\n",
    "sns.distplot(tuple(real_df['title_pert_total_negative_words']));"
   ]
  },
  {
   "cell_type": "code",
   "execution_count": 51,
   "metadata": {},
   "outputs": [
    {
     "name": "stdout",
     "output_type": "stream",
     "text": [
      "Total Real: 45\n",
      "RESULT REAL NEWS:\n",
      "A lot     || Num: 2 Pert: 4.444444444444445\n",
      "Not much  || Num: 37 Pert: 82.22222222222223\n",
      "Middle    || Num: 6 Pert: 13.333333333333334\n",
      "-------------------------------------\n",
      "Total Real: 56\n",
      "RESULT FAKE NEWS:\n",
      "A lot     || Num: 3 Pert: 5.357142857142857\n",
      "Not much  || Num: 39 Pert: 69.64285714285714\n",
      "Middle    || Num: 14 Pert: 25.0\n"
     ]
    }
   ],
   "source": [
    "# Get max and min values\n",
    "\n",
    "min_v = min(fake_df['title_pert_total_negative_words'].min(), real_df['title_pert_total_negative_words'].min())\n",
    "max_v = max(fake_df['title_pert_total_negative_words'].max(), real_df['title_pert_total_negative_words'].max())\n",
    "\n",
    "tercio = (max_v - min_v) / 3\n",
    "# Calculate 1/3\n",
    "th_one = min_v + tercio\n",
    "# Calculate 2/3\n",
    "th_two = max_v - tercio\n",
    "#print(min_v, max_v)\n",
    "#print(th_one, th_two)\n",
    "neu_f = 0\n",
    "pos_f = 0\n",
    "neg_f = 0\n",
    "for i in fake_df['title_pert_total_negative_words']:\n",
    "    if i <= th_one:\n",
    "        neg_f += 1\n",
    "    elif i >= th_two:\n",
    "        pos_f += 1\n",
    "    else:\n",
    "        neu_f +=1\n",
    "neu_r = 0\n",
    "pos_r = 0\n",
    "neg_r = 0\n",
    "for i in real_df['title_pert_total_negative_words']:\n",
    "    if i <= th_one:\n",
    "        neg_r += 1\n",
    "    elif i >= th_two:\n",
    "        pos_r += 1\n",
    "    else:\n",
    "        neu_r +=1\n",
    "\n",
    "total = len(real_df)\n",
    "print('Total Real: ' + str(total))\n",
    "print('RESULT REAL NEWS:')\n",
    "print('A lot     ||', 'Num:',str(pos_r), 'Pert:', str(100*pos_r/total))\n",
    "print('Not much  ||', 'Num:',str(neg_r), 'Pert:', str(100*neg_r/total))\n",
    "print('Middle    ||', 'Num:',str(neu_r), 'Pert:', str(100*neu_r/total))\n",
    "print('-------------------------------------')\n",
    "total = len(fake_df)\n",
    "print('Total Real: ' + str(total))\n",
    "print('RESULT FAKE NEWS:')\n",
    "print('A lot     ||', 'Num:',str(pos_f), 'Pert:', str(100*pos_f/total))\n",
    "print('Not much  ||', 'Num:',str(neg_f), 'Pert:', str(100*neg_f/total))\n",
    "print('Middle    ||', 'Num:',str(neu_f), 'Pert:', str(100*neu_f/total))"
   ]
  },
  {
   "cell_type": "markdown",
   "metadata": {},
   "source": [
    "### N words"
   ]
  },
  {
   "cell_type": "code",
   "execution_count": 52,
   "metadata": {},
   "outputs": [
    {
     "name": "stdout",
     "output_type": "stream",
     "text": [
      "count     56.000000\n",
      "mean     300.017857\n",
      "std      163.233518\n",
      "min      121.000000\n",
      "25%      168.000000\n",
      "50%      252.500000\n",
      "75%      393.250000\n",
      "max      874.000000\n",
      "Name: n_words, dtype: float64\n",
      "count     45.000000\n",
      "mean     396.888889\n",
      "std      183.862624\n",
      "min      112.000000\n",
      "25%      223.000000\n",
      "50%      396.000000\n",
      "75%      522.000000\n",
      "max      832.000000\n",
      "Name: n_words, dtype: float64\n"
     ]
    }
   ],
   "source": [
    "var_one = fake_df['n_words'].describe()\n",
    "var_two = real_df['n_words'].describe()\n",
    "print(var_one)\n",
    "print(var_two)"
   ]
  },
  {
   "cell_type": "code",
   "execution_count": 53,
   "metadata": {},
   "outputs": [
    {
     "data": {
      "image/png": "[encoded data removed]",
      "text/plain": [
       "<Figure size 432x288 with 1 Axes>"
      ]
     },
     "metadata": {
      "needs_background": "light"
     },
     "output_type": "display_data"
    }
   ],
   "source": [
    "sns.distplot(tuple(fake_df['n_words']));\n",
    "sns.distplot(tuple(real_df['n_words']));"
   ]
  },
  {
   "cell_type": "code",
   "execution_count": 54,
   "metadata": {},
   "outputs": [
    {
     "name": "stdout",
     "output_type": "stream",
     "text": [
      "Total Real: 45\n",
      "RESULT REAL NEWS:\n",
      "A lot     || Num: 7 Pert: 15.555555555555555\n",
      "Not much  || Num: 21 Pert: 46.666666666666664\n",
      "Middle    || Num: 17 Pert: 37.77777777777778\n",
      "-------------------------------------\n",
      "Total Real: 56\n",
      "RESULT FAKE NEWS:\n",
      "A lot     || Num: 3 Pert: 5.357142857142857\n",
      "Not much  || Num: 40 Pert: 71.42857142857143\n",
      "Middle    || Num: 13 Pert: 23.214285714285715\n"
     ]
    }
   ],
   "source": [
    "# Get max and min values\n",
    "\n",
    "min_v = min(fake_df['n_words'].min(), real_df['n_words'].min())\n",
    "max_v = max(fake_df['n_words'].max(), real_df['n_words'].max())\n",
    "\n",
    "tercio = (max_v - min_v) / 3\n",
    "# Calculate 1/3\n",
    "th_one = min_v + tercio\n",
    "# Calculate 2/3\n",
    "th_two = max_v - tercio\n",
    "#print(min_v, max_v)\n",
    "#print(th_one, th_two)\n",
    "neu_f = 0\n",
    "pos_f = 0\n",
    "neg_f = 0\n",
    "for i in fake_df['n_words']:\n",
    "    if i <= th_one:\n",
    "        neg_f += 1\n",
    "    elif i >= th_two:\n",
    "        pos_f += 1\n",
    "    else:\n",
    "        neu_f +=1\n",
    "neu_r = 0\n",
    "pos_r = 0\n",
    "neg_r = 0\n",
    "for i in real_df['n_words']:\n",
    "    if i <= th_one:\n",
    "        neg_r += 1\n",
    "    elif i >= th_two:\n",
    "        pos_r += 1\n",
    "    else:\n",
    "        neu_r +=1\n",
    "\n",
    "total = len(real_df)\n",
    "print('Total Real: ' + str(total))\n",
    "print('RESULT REAL NEWS:')\n",
    "print('A lot     ||', 'Num:',str(pos_r), 'Pert:', str(100*pos_r/total))\n",
    "print('Not much  ||', 'Num:',str(neg_r), 'Pert:', str(100*neg_r/total))\n",
    "print('Middle    ||', 'Num:',str(neu_r), 'Pert:', str(100*neu_r/total))\n",
    "print('-------------------------------------')\n",
    "total = len(fake_df)\n",
    "print('Total Real: ' + str(total))\n",
    "print('RESULT FAKE NEWS:')\n",
    "print('A lot     ||', 'Num:',str(pos_f), 'Pert:', str(100*pos_f/total))\n",
    "print('Not much  ||', 'Num:',str(neg_f), 'Pert:', str(100*neg_f/total))\n",
    "print('Middle    ||', 'Num:',str(neu_f), 'Pert:', str(100*neu_f/total))"
   ]
  }
 ],
 "metadata": {
  "kernelspec": {
   "display_name": "Python 3",
   "language": "python",
   "name": "python3"
  },
  "language_info": {
   "codemirror_mode": {
    "name": "ipython",
    "version": 3
   },
   "file_extension": ".py",
   "mimetype": "text/x-python",
   "name": "python",
   "nbconvert_exporter": "python",
   "pygments_lexer": "ipython3",
   "version": "3.6.7"
  }
 },
 "nbformat": 4,
 "nbformat_minor": 2
}
