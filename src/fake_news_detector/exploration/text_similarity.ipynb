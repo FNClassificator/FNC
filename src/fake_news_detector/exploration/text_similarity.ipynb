{
 "cells": [
  {
   "cell_type": "code",
   "execution_count": 3,
   "metadata": {},
   "outputs": [],
   "source": [
    "#imports\n",
    "import sys\n",
    "sys.path.append('/home/elenaruiz/Documents/TFG/FNC')\n",
    "import pandas as pd\n",
    "import numpy as np\n",
    "from src.utils import io"
   ]
  },
  {
   "cell_type": "code",
   "execution_count": 4,
   "metadata": {},
   "outputs": [],
   "source": [
    "# Get dataset\n",
    "articles = io.read_json_file('/home/elenaruiz/Documents/TFG/FNC/src/data/dataset_similarity.json')\n",
    "df = pd.DataFrame(data=articles['articles'])"
   ]
  },
  {
   "cell_type": "code",
   "execution_count": 12,
   "metadata": {},
   "outputs": [
    {
     "name": "stdout",
     "output_type": "stream",
     "text": [
      "<class 'pandas.core.frame.DataFrame'>\n",
      "RangeIndex: 101 entries, 0 to 100\n",
      "Data columns (total 4 columns):\n",
      "fake                         101 non-null int64\n",
      "similarity_text_subtitle     101 non-null float64\n",
      "similarity_text_title        101 non-null float64\n",
      "similarity_title_subtitle    101 non-null float64\n",
      "dtypes: float64(3), int64(1)\n",
      "memory usage: 3.2 KB\n"
     ]
    }
   ],
   "source": [
    "df.info(memory_usage='deep')"
   ]
  },
  {
   "cell_type": "code",
   "execution_count": 5,
   "metadata": {},
   "outputs": [],
   "source": [
    "# Compare fake with no fake\n",
    "fake_df = df.loc[df['fake'] == 1]\n",
    "real_df = df.loc[df['fake'] == 0]"
   ]
  },
  {
   "cell_type": "code",
   "execution_count": 6,
   "metadata": {},
   "outputs": [
    {
     "name": "stdout",
     "output_type": "stream",
     "text": [
      "0.13265741926128397 0.3337063933124737\n"
     ]
    }
   ],
   "source": [
    "real_mean = np.mean(real_df['similarity_text_subtitle'])\n",
    "fake_mean = np.mean(fake_df['similarity_text_subtitle'])\n",
    "print(real_mean, fake_mean)"
   ]
  },
  {
   "cell_type": "code",
   "execution_count": 7,
   "metadata": {},
   "outputs": [
    {
     "name": "stdout",
     "output_type": "stream",
     "text": [
      "0.0457857450576804 0.048894701322372\n"
     ]
    }
   ],
   "source": [
    "real_mean = np.mean(real_df['similarity_text_title'])\n",
    "fake_mean = np.mean(fake_df['similarity_text_title'])\n",
    "print(real_mean, fake_mean)"
   ]
  },
  {
   "cell_type": "code",
   "execution_count": 8,
   "metadata": {},
   "outputs": [
    {
     "name": "stdout",
     "output_type": "stream",
     "text": [
      "0.13817707743289076 0.33811224048970867\n"
     ]
    }
   ],
   "source": [
    "real_mean = np.mean(real_df['similarity_title_subtitle'])\n",
    "fake_mean = np.mean(fake_df['similarity_title_subtitle'])\n",
    "print(real_mean, fake_mean)"
   ]
  },
  {
   "cell_type": "markdown",
   "metadata": {},
   "source": [
    "# TRAINING TEST"
   ]
  },
  {
   "cell_type": "code",
   "execution_count": 9,
   "metadata": {},
   "outputs": [],
   "source": [
    "from sklearn.model_selection import train_test_split\n",
    "from sklearn.preprocessing import MinMaxScaler\n",
    "\n",
    "X = df[['similarity_text_subtitle','similarity_text_title','similarity_title_subtitle']]\n",
    "y = df['fake']\n",
    "\n",
    "X_train, X_test, y_train, y_test = train_test_split(X, y, random_state=0)\n",
    "\n",
    "scaler = MinMaxScaler()\n",
    "X_train = scaler.fit_transform(X_train)\n",
    "X_test = scaler.transform(X_test)"
   ]
  },
  {
   "cell_type": "code",
   "execution_count": null,
   "metadata": {},
   "outputs": [],
   "source": []
  }
 ],
 "metadata": {
  "kernelspec": {
   "display_name": "Python 3",
   "language": "python",
   "name": "python3"
  },
  "language_info": {
   "codemirror_mode": {
    "name": "ipython",
    "version": 3
   },
   "file_extension": ".py",
   "mimetype": "text/x-python",
   "name": "python",
   "nbconvert_exporter": "python",
   "pygments_lexer": "ipython3",
   "version": "3.6.7"
  }
 },
 "nbformat": 4,
 "nbformat_minor": 2
}
