{
 "cells": [
  {
   "cell_type": "code",
   "execution_count": 6,
   "metadata": {},
   "outputs": [],
   "source": [
    "#imports\n",
    "import sys\n",
    "sys.path.append('/home/elenaruiz/Documents/FNC')\n",
    "import pandas as pd\n",
    "import numpy as np\n",
    "from src.utils import io\n",
    "import matplotlib.pyplot as plt\n",
    "import seaborn as sns"
   ]
  },
  {
   "cell_type": "code",
   "execution_count": 3,
   "metadata": {},
   "outputs": [],
   "source": [
    "# Get dataset\n",
    "articles = io.read_json_file('/home/elenaruiz/Documents/FNC/src/data/dataset_similarity.json')\n",
    "df = pd.DataFrame(data=articles['articles'])"
   ]
  },
  {
   "cell_type": "code",
   "execution_count": 4,
   "metadata": {},
   "outputs": [
    {
     "name": "stdout",
     "output_type": "stream",
     "text": [
      "<class 'pandas.core.frame.DataFrame'>\n",
      "RangeIndex: 101 entries, 0 to 100\n",
      "Data columns (total 5 columns):\n",
      "fake                      101 non-null bool\n",
      "sim_between_parapraphs    0 non-null object\n",
      "sim_text_subtitle         58 non-null float64\n",
      "sim_title_subtitle        58 non-null float64\n",
      "sim_title_text            101 non-null float64\n",
      "dtypes: bool(1), float64(3), object(1)\n",
      "memory usage: 4.9 KB\n"
     ]
    }
   ],
   "source": [
    "df.info(memory_usage='deep')"
   ]
  },
  {
   "cell_type": "code",
   "execution_count": 5,
   "metadata": {},
   "outputs": [],
   "source": [
    "# Compare fake with no fake\n",
    "fake_df = df.loc[df['fake'] == 1]\n",
    "real_df = df.loc[df['fake'] == 0]"
   ]
  },
  {
   "cell_type": "code",
   "execution_count": 8,
   "metadata": {},
   "outputs": [
    {
     "name": "stdout",
     "output_type": "stream",
     "text": [
      "count    45.000000\n",
      "mean      0.369882\n",
      "std       0.084626\n",
      "min       0.206349\n",
      "25%       0.305085\n",
      "50%       0.372549\n",
      "75%       0.437500\n",
      "max       0.523810\n",
      "Name: sim_title_text, dtype: float64\n",
      "count    56.000000\n",
      "mean      0.432148\n",
      "std       0.073195\n",
      "min       0.254545\n",
      "25%       0.385639\n",
      "50%       0.439298\n",
      "75%       0.469485\n",
      "max       0.600000\n",
      "Name: sim_title_text, dtype: float64\n"
     ]
    }
   ],
   "source": [
    "real_mean = real_df['sim_title_text'].describe()\n",
    "fake_mean = fake_df['sim_title_text'].describe()\n",
    "print(real_mean)\n",
    "print(fake_mean)"
   ]
  },
  {
   "cell_type": "code",
   "execution_count": 10,
   "metadata": {},
   "outputs": [
    {
     "name": "stdout",
     "output_type": "stream",
     "text": [
      "count    37.000000\n",
      "mean      0.416305\n",
      "std       0.089611\n",
      "min       0.241935\n",
      "25%       0.358209\n",
      "50%       0.396226\n",
      "75%       0.459016\n",
      "max       0.617021\n",
      "Name: sim_text_subtitle, dtype: float64\n",
      "count    21.000000\n",
      "mean      0.470201\n",
      "std       0.100156\n",
      "min       0.319149\n",
      "25%       0.382979\n",
      "50%       0.459016\n",
      "75%       0.513514\n",
      "max       0.692308\n",
      "Name: sim_text_subtitle, dtype: float64\n"
     ]
    }
   ],
   "source": [
    "real_mean = real_df['sim_text_subtitle'].describe()\n",
    "fake_mean = fake_df['sim_text_subtitle'].describe()\n",
    "print(real_mean)\n",
    "print(fake_mean)"
   ]
  },
  {
   "cell_type": "code",
   "execution_count": 8,
   "metadata": {},
   "outputs": [
    {
     "name": "stdout",
     "output_type": "stream",
     "text": [
      "0.13817707743289076 0.33811224048970867\n"
     ]
    }
   ],
   "source": [
    "real_mean = np.mean(real_df['similarity_title_subtitle'])\n",
    "fake_mean = np.mean(fake_df['similarity_title_subtitle'])\n",
    "print(real_mean, fake_mean)"
   ]
  },
  {
   "cell_type": "markdown",
   "metadata": {},
   "source": [
    "# TRAINING TEST"
   ]
  },
  {
   "cell_type": "code",
   "execution_count": 9,
   "metadata": {},
   "outputs": [],
   "source": [
    "from sklearn.model_selection import train_test_split\n",
    "from sklearn.preprocessing import MinMaxScaler\n",
    "\n",
    "X = df[['similarity_text_subtitle','similarity_text_title','similarity_title_subtitle']]\n",
    "y = df['fake']\n",
    "\n",
    "X_train, X_test, y_train, y_test = train_test_split(X, y, random_state=0)\n",
    "\n",
    "scaler = MinMaxScaler()\n",
    "X_train = scaler.fit_transform(X_train)\n",
    "X_test = scaler.transform(X_test)"
   ]
  },
  {
   "cell_type": "code",
   "execution_count": null,
   "metadata": {},
   "outputs": [],
   "source": []
  }
 ],
 "metadata": {
  "kernelspec": {
   "display_name": "Python 3",
   "language": "python",
   "name": "python3"
  },
  "language_info": {
   "codemirror_mode": {
    "name": "ipython",
    "version": 3
   },
   "file_extension": ".py",
   "mimetype": "text/x-python",
   "name": "python",
   "nbconvert_exporter": "python",
   "pygments_lexer": "ipython3",
   "version": "3.6.7"
  }
 },
 "nbformat": 4,
 "nbformat_minor": 2
}
